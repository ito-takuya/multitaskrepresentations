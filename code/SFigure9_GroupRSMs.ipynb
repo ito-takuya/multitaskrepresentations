{
 "cells": [
  {
   "cell_type": "markdown",
   "id": "39b2087f-7082-4d4d-851b-fd1a887cca7b",
   "metadata": {
    "tags": []
   },
   "source": [
    "# Code for generating SFig9 panels from derivative data\n",
    "\n",
    "#### Raw code for generating derivative data is in analysis1_compute_regional_RDMs.py (using default parameters for main text figures)\n",
    "\n",
    "`python analysis1_compute_regional_RDMs.py`\n",
    "\n",
    "Note that raw code is intended for use on a local Yale cluster, but is included in this repository for completeness"
   ]
  },
  {
   "cell_type": "code",
   "execution_count": 1,
   "id": "committed-organ",
   "metadata": {},
   "outputs": [],
   "source": [
    "import numpy as np\n",
    "import nibabel as nib\n",
    "import scipy.stats as stats\n",
    "import matplotlib.pyplot as plt\n",
    "import seaborn as sns\n",
    "%matplotlib inline\n",
    "import nilearn.plotting as plotting\n",
    "from importlib import reload\n",
    "import wbplot\n",
    "import pandas as pd\n",
    "import matplotlib.image as img \n",
    "import os\n",
    "import h5py\n",
    "import matplotlib.colors as clrs\n",
    "from matplotlib import colorbar\n",
    "plt.rcParams['font.sans-serif'] = \"Arial\"\n",
    "import statsmodels.api as sm\n",
    "from sklearn.preprocessing import PolynomialFeatures\n",
    "\n",
    "from brainsmash.mapgen.base import Base\n",
    "from brainsmash.mapgen.stats import pearsonr, pairwise_r\n",
    "from brainsmash.mapgen.stats import nonparp"
   ]
  },
  {
   "cell_type": "markdown",
   "id": "third-microwave",
   "metadata": {},
   "source": [
    "#### Set up basic parameters"
   ]
  },
  {
   "cell_type": "code",
   "execution_count": 17,
   "id": "impossible-algorithm",
   "metadata": {
    "scrolled": true
   },
   "outputs": [],
   "source": [
    "figuredir = '../figures/SFig9/'\n",
    "if not os.path.exists(figuredir): os.makedirs(figuredir)\n",
    "\n",
    "networkdef = np.loadtxt('cortex_parcel_network_assignments.txt')\n",
    "# need to subtract one to make it compatible for python indices\n",
    "indsort = np.loadtxt('cortex_community_order.txt',dtype=int) - 1 \n",
    "indsort.shape = (len(indsort),1)\n",
    "\n",
    "# network mappings for final partition set\n",
    "networkmappings = {'fpn':7, 'vis1':1, 'vis2':2, 'smn':3, 'aud':8, 'lan':6, 'dan':5, 'con':4, 'dmn':9, \n",
    "                   'pmulti':10, 'none1':11, 'none2':12}\n",
    "networks = networkmappings.keys()\n",
    "\n",
    "xticks = {}\n",
    "reorderednetworkaffil = networkdef[indsort]\n",
    "for net in networks:\n",
    "    netNum = networkmappings[net]\n",
    "    netind = np.where(reorderednetworkaffil==netNum)[0]\n",
    "    tick = np.max(netind)\n",
    "    xticks[tick] = net\n",
    "\n",
    "## General parameters/variables\n",
    "nParcels = 360\n",
    "\n",
    "sortednets = np.sort(list(xticks.keys()))\n",
    "orderednetworks = []\n",
    "for net in sortednets: orderednetworks.append(xticks[net])\n",
    "    \n",
    "networkpalette = ['royalblue','slateblue','paleturquoise','darkorchid','limegreen',\n",
    "                  'lightseagreen','yellow','orchid','r','peru','orange','olivedrab']\n",
    "networkpalette = np.asarray(networkpalette)\n",
    "parcel_network_palette = []\n",
    "for roi in range(nParcels): parcel_network_palette.append(networkpalette[int(networkdef[roi]-1)])\n",
    "\n",
    "OrderedNetworks = ['VIS1','VIS2','SMN','CON','DAN','LAN','FPN','AUD','DMN','PMM','VMM','ORA']\n",
    "\n",
    "glasserfilename = 'Q1-Q6_RelatedParcellation210.LR.CorticalAreas_dil_Colors.32k_fs_RL.dlabel.nii'\n",
    "glasser = np.squeeze(nib.load(glasserfilename).get_fdata())\n",
    "\n",
    "#### split up sensorimotor from association network color palettes\n",
    "color1, color2 = sns.color_palette(palette='Pastel1')[1], sns.color_palette(palette='Pastel1')[0]\n",
    "associationnets = ['con','dan','lan','fpn','dmn','pmulti','none1','none2']\n",
    "sensorimotornets = ['vis1','vis2','smn','aud']\n",
    "sensorynets = ['vis1','vis2','aud']\n",
    "motornets = ['smn']\n",
    "    \n",
    "# Set task ordering\n",
    "unique_tasks = ['NoGo','Go','TheoryOfMind','VideoActions','VideoKnots','Math',\n",
    "                'DigitJudgement','Objects','MotorImagery','FingerSimple','FingerSeq',\n",
    "                'Verbal2Back','SpatialImagery','VerbGen','WordRead','Rest',\n",
    "                'PermutedRules','SpatialMapEasy','SpatialMapMed','SpatialMapHard',\n",
    "                'NatureMovie','AnimatedMovie','LandscapeMovie','UnpleasantScenes','PleasantScenes',\n",
    "                'SadFaces','HappyFaces','Object2Back','IntervalTiming',\n",
    "                'Prediction','PredictViol','PredictScram','VisualSearchEasy','VisualSearchMed','VisualSearchHard',\n",
    "                'StroopIncon','StroopCon','MentalRotEasy','MentalRotMed','MentalRotHard',\n",
    "                'BiologicalMotion','ScrambledMotion','RespAltEasy','RespAltMed','RespAltHard']\n",
    "\n",
    "task_passivity = ['left','left','left','passive','passive','right',\n",
    "                  'right','passive','passive','both','both',\n",
    "                  'left','passive','passive','passive','passive',\n",
    "                  'both','both','both','both',\n",
    "                  'passive','passive','passive','left','left',\n",
    "                  'right','right','right','right',\n",
    "                  'left','left','left','left','left','left',\n",
    "                  'both','both','right','right','right',\n",
    "                  'right','right','both','both','both']\n",
    "\n",
    "cognitive_tasks = ['Go, No-go', 'Go, No-go', 'Theory of mind', 'Action observation', 'Action observation', 'Arithmetic',\n",
    "                   'Arithmetic', 'Object viewing', 'Motor imagery', 'Motor sequence', 'Motor sequence',\n",
    "                   'Verbal working memory', 'Spatial imagery', 'Verb generation', 'Verb generation', 'Rest',\n",
    "                   'CPRO', 'Spatial map', 'Spatial map', 'Spatial map',\n",
    "                   'Nature movie', 'Animated movie', 'Landscape movie', 'IAPS affective', 'IAPS affective',\n",
    "                   'IAPS emotion', 'IAPS emotion', 'Object n-back', 'Interval timing', \n",
    "                   'Word prediction', 'Word prediction', 'Word prediction', 'Visual search', 'Visual search', 'Visual search',\n",
    "                   'Stroop', 'Stroop', 'Mental rotation', 'Mental rotation', 'Mental rotation',\n",
    "                   'Biological motion', 'Biological motion', 'Response alternatives', 'Response alternatives', 'Response alternatives']\n",
    "\n",
    "# sort tasks by passivity\n",
    "unique_tasks = np.asarray(unique_tasks)\n",
    "task_passivity = np.asarray(task_passivity)\n",
    "unique_tasks2 = []\n",
    "passivity_order = ['passive','left','right','both']\n",
    "for i in passivity_order:\n",
    "    ind = np.where(task_passivity==i)[0]\n",
    "    unique_tasks2.extend(unique_tasks[ind])\n",
    "\n",
    "unique_tasks = np.asarray(unique_tasks2)\n",
    "\n",
    "from matplotlib import cm\n",
    "from matplotlib.colors import ListedColormap, LinearSegmentedColormap\n",
    "top = cm.get_cmap('Oranges_r', 128)\n",
    "bottom = cm.get_cmap('Blues', 128)\n",
    "\n",
    "newcolors = np.vstack((top(np.linspace(0.4, 1, 128)),\n",
    "                       bottom(np.linspace(0, 0.6, 128))))\n",
    "\n",
    "newcmp = ListedColormap(newcolors[::-1], name='OrangeBlue')"
   ]
  },
  {
   "cell_type": "markdown",
   "id": "79c3de2a-b6c9-4333-8ee2-897b86e19cd3",
   "metadata": {},
   "source": [
    "# Load subject-level inter-region RSM matrices"
   ]
  },
  {
   "cell_type": "code",
   "execution_count": 3,
   "id": "2b43485b-9d74-4899-9a84-c1c67f5915b8",
   "metadata": {},
   "outputs": [],
   "source": [
    "subIDs = ['02','03','04','06','08','09','10','12','14','15','18','20','22','25','27','29','31','17','19','21','24','26','28','30']\n",
    "sub_with_rest = ['02','03','06','08','10','12','14','18','20','22','24','25','26','27','28','29','30','31'] \n",
    "\n",
    "\n",
    "h5f = h5py.File('../processed_data/analysis1/analysis1_regional_rdms_cosine_allsubjs.h5','r')\n",
    "rsms_subj = h5f['data'][:].copy()\n",
    "\n",
    "nParcels = rsms_subj.shape[0]\n",
    "nSubjs = rsms_subj.shape[1]\n",
    "nCond = rsms_subj.shape[2]\n",
    "triu_ind = np.triu_indices(nCond,k=0)\n",
    "ir_rsm_subjs = np.zeros((nParcels,nParcels,len(subIDs)))\n",
    "scount = 0\n",
    "for subj in subIDs:\n",
    "\n",
    "    for i in range(nParcels):\n",
    "        for j in range(nParcels):\n",
    "            if j>i:\n",
    "                ir_rsm_subjs[i,j,scount] = np.corrcoef(rsms_subj[i,scount][triu_ind],rsms_subj[j,scount][triu_ind])[0,1]\n",
    "            else:\n",
    "                continue\n",
    "\n",
    "    ir_rsm_subjs[:,:,scount] = ir_rsm_subjs[:,:,scount] + ir_rsm_subjs[:,:,scount].T\n",
    "    np.fill_diagonal(ir_rsm_subjs[:,:,scount],0)\n",
    "    ir_rsm_subjs[:,:,scount] = np.arctanh(ir_rsm_subjs[:,:,scount])\n",
    "    scount += 1\n"
   ]
  },
  {
   "cell_type": "code",
   "execution_count": 6,
   "id": "aca3a90e-42bd-45a0-ac75-a9417a6ef248",
   "metadata": {},
   "outputs": [],
   "source": [
    "### Group averaged activation RSMs\n",
    "ra_mat_groupavg = np.loadtxt('../processed_data/analysis1/analysis1_cosine_interregion_representational_distances_cosine_groupavgRSMs_unthresholded.csv')"
   ]
  },
  {
   "cell_type": "markdown",
   "id": "884a1662-faf3-45de-9447-6ce7c322d655",
   "metadata": {},
   "source": [
    "# Compute representational segregation for RA (for subject- and group-level RSMs)"
   ]
  },
  {
   "cell_type": "code",
   "execution_count": 9,
   "id": "d2f61407-7f20-49d0-9dde-9bfce3e10799",
   "metadata": {},
   "outputs": [],
   "source": [
    "ra_seg_subj = np.zeros((nParcels,))\n",
    "ra_seg_group = np.zeros((nParcels,))\n",
    "\n",
    "\n",
    "# RSMs computed for each subject, then matrix computed, then averaged\n",
    "ir_rsm_subjavg = np.mean(ir_rsm_subjs,axis=2)\n",
    "for net in sensorimotornets:\n",
    "    net_ind = np.where(networkdef==networkmappings[net])[0]\n",
    "    out_ind = np.where(networkdef!=networkmappings[net])[0]\n",
    "    for roi in net_ind:\n",
    "        net_ind.shape = (len(net_ind),1)\n",
    "        out_ind.shape = (len(out_ind),1)\n",
    "        btwn_fc = np.nanmean(ir_rsm_subjavg[roi,out_ind.T])\n",
    "        wthn_fc = np.nanmean(ir_rsm_subjavg[roi,net_ind.T])\n",
    "        ra_seg_subj[roi] = (wthn_fc-btwn_fc)/wthn_fc \n",
    "        \n",
    "        btwn_fc = np.nanmean(ra_mat_groupavg[roi,out_ind.T])\n",
    "        wthn_fc = np.nanmean(ra_mat_groupavg[roi,net_ind.T])\n",
    "        ra_seg_group[roi] = (wthn_fc-btwn_fc)/wthn_fc \n",
    "        \n"
   ]
  },
  {
   "cell_type": "markdown",
   "id": "dominican-bosnia",
   "metadata": {},
   "source": [
    "# Load multi-task representational dimensionality and margulies gradients"
   ]
  },
  {
   "cell_type": "code",
   "execution_count": 13,
   "id": "wrapped-subscriber",
   "metadata": {
    "tags": []
   },
   "outputs": [],
   "source": [
    "\n",
    "# Load dimensionality of group-activation RSMs\n",
    "df_dim = pd.read_csv('../processed_data/analysis1/analysis1_parcel_cosine_dimensionality_groupavg.csv')\n",
    "avg_dim_groupavg = []\n",
    "for i in range(nParcels):\n",
    "    roi_ind = np.where(glasser==roi+1)[0]\n",
    "    avg_dim_groupavg.append(df_dim.Dimensionality[df_dim.Parcels==i+1].mean())\n",
    "avg_dim_groupavg = np.asarray(avg_dim_groupavg)\n",
    "\n",
    "# Load dimensionality of individual RSMs, then averaged\n",
    "df_dim = pd.read_csv('../processed_data/analysis1/analysis1_parcel_cosine_dimensionality.csv')\n",
    "avg_dim = []\n",
    "for i in range(nParcels):\n",
    "    roi_ind = np.where(glasser==roi+1)[0]\n",
    "    avg_dim.append(df_dim.Dimensionality[df_dim.Parcels==i+1].mean())\n",
    "avg_dim = np.asarray(avg_dim)\n",
    "\n",
    "parcellated_gradients = np.loadtxt('../processed_data/analysis1/analysis1_restFC_gradients.csv')\n",
    "\n",
    "myelin_map_64k = np.loadtxt('../processed_data/MyelinMapParcellated_v1.csv',delimiter=',')\n",
    "myelin_map = np.zeros((nParcels,))\n",
    "for roi in range(nParcels):\n",
    "    roi_ind = np.where(glasser==roi+1)[0]\n",
    "    myelin_map[roi] = np.mean(myelin_map_64k[roi_ind])"
   ]
  },
  {
   "cell_type": "markdown",
   "id": "be1785ce-8e30-4cc2-9525-97f12f965309",
   "metadata": {},
   "source": [
    "#### Organize into data frames"
   ]
  },
  {
   "cell_type": "code",
   "execution_count": 14,
   "id": "6031ad8c-0750-4f61-98f2-ea5c68ecf973",
   "metadata": {},
   "outputs": [
    {
     "data": {
      "image/png": "[encoded data removed]",
      "text/plain": [
       "<Figure size 144x133.2 with 1 Axes>"
      ]
     },
     "metadata": {
      "needs_background": "light"
     },
     "output_type": "display_data"
    }
   ],
   "source": [
    "df_rsm_group = {}\n",
    "df_rsm_group['Correlation'] = []\n",
    "df_rsm_group['Type'] = []\n",
    "df_rsm_group['Map'] = []\n",
    "\n",
    "df_rsm_group['Correlation'].append(stats.pearsonr(avg_dim,parcellated_gradients[:,0])[0])\n",
    "df_rsm_group['Type'].append('Individual RSM')\n",
    "df_rsm_group['Map'].append('RSFC grad. 1')\n",
    "#\n",
    "df_rsm_group['Correlation'].append(stats.pearsonr(avg_dim_groupavg,parcellated_gradients[:,0])[0])\n",
    "df_rsm_group['Type'].append('Group RSM')\n",
    "df_rsm_group['Map'].append('RSFC grad. 1')\n",
    "#\n",
    "df_rsm_group['Correlation'].append(stats.pearsonr(avg_dim,myelin_map)[0])\n",
    "df_rsm_group['Type'].append('Individual RSM')\n",
    "df_rsm_group['Map'].append('Myelin map')\n",
    "#\n",
    "df_rsm_group['Correlation'].append(stats.pearsonr(avg_dim_groupavg,myelin_map)[0])\n",
    "df_rsm_group['Type'].append('Group RSM')\n",
    "df_rsm_group['Map'].append('Myelin map')\n",
    "df_rsm_group = pd.DataFrame(df_rsm_group)\n",
    "\n",
    "fig, ax = plt.subplots(figsize=(2.,1.85))\n",
    "ax = sns.barplot(x=\"Map\",y=\"Correlation\",hue=\"Type\",data=df_rsm_group,ax=ax,palette=\"Set1\") #,order=hierarchy_ind,palette=networkpalette)\n",
    "plt.xticks(fontsize=10, rotation=-10);\n",
    "plt.xlabel(None);\n",
    "plt.title('Dimensionality association',fontsize=10)\n",
    "plt.ylabel('Correlation',labelpad=0.2,fontsize=10);\n",
    "plt.yticks(fontsize=7)\n",
    "plt.ylim([0,.8])\n",
    "\n",
    "for p in ax.patches:\n",
    "    h, w, x = p.get_height(), p.get_width(), p.get_x()\n",
    "    xy = (x + w / 2., h+.15*h)\n",
    "    text = f'{h:0.2f}'\n",
    "    ax.annotate(text=text, xy=xy, ha='center', va='center',fontsize=7)\n",
    "    \n",
    "plt.legend(prop={'size':6})\n",
    "plt.tight_layout()\n",
    "sns.despine()\n",
    "plt.savefig(figuredir + 'GroupXSubj_DimensionalityHierarchy.pdf')"
   ]
  },
  {
   "cell_type": "markdown",
   "id": "5aba8272-534c-4dba-b1db-35304ae5a6c8",
   "metadata": {},
   "source": [
    "#### Compute CI of correlation differences"
   ]
  },
  {
   "cell_type": "code",
   "execution_count": 15,
   "id": "0a69abf8-d175-49f4-a493-06a927847369",
   "metadata": {},
   "outputs": [
    {
     "name": "stdout",
     "output_type": "stream",
     "text": [
      "z = -1.9545702601197863 | p = 0.025316907209526767\n"
     ]
    }
   ],
   "source": [
    "tmpdf = df_rsm_group.loc[df_rsm_group.Map=='Myelin map']\n",
    "se = np.sqrt((1/(360-3)+1/(360-3)))\n",
    "z = (np.arctanh(tmpdf.Correlation.values[1]) - np.arctanh(tmpdf.Correlation.values[0]))/se\n",
    "p = stats.norm.sf(abs(z))\n",
    "\n",
    "print('z =', z, '| p =', p)\n"
   ]
  },
  {
   "cell_type": "markdown",
   "id": "e6d18d13-9d83-4a94-8a37-0e292ef968d9",
   "metadata": {},
   "source": [
    "# Evaluate if dimensionality compression-then-expansion can be observed with group dimensionality maps"
   ]
  },
  {
   "cell_type": "code",
   "execution_count": 19,
   "id": "cae7fd64-f151-4787-a47d-f37d03acc6ae",
   "metadata": {},
   "outputs": [
    {
     "name": "stdout",
     "output_type": "stream",
     "text": [
      "Sensory vs. Association: t = 1.3992333919613462 | p = 0.16271460083231276 | df = 319\n",
      "Motor vs. Association: t = 4.092838307203707 | p = 5.5635777641507e-05 | df = 283\n"
     ]
    },
    {
     "data": {
      "image/png": "[encoded data removed]",
      "text/plain": [
       "<Figure size 115.2x144 with 1 Axes>"
      ]
     },
     "metadata": {
      "needs_background": "light"
     },
     "output_type": "display_data"
    }
   ],
   "source": [
    "df_system = {}\n",
    "df_system['Dimensionality'] = []\n",
    "df_system['System'] = []\n",
    "df_system['Parcel'] = []\n",
    "\n",
    "for net in sensorynets:\n",
    "    rois = np.where(networkdef==networkmappings[net])[0]\n",
    "    for roi in rois:\n",
    "        df_system['Dimensionality'].append(avg_dim_groupavg[roi])\n",
    "        df_system['System'].append('Sensory')\n",
    "        df_system['Parcel'].append(roi)\n",
    "\n",
    "for net in associationnets:\n",
    "    rois = np.where(networkdef==networkmappings[net])[0]\n",
    "    for roi in rois:\n",
    "        df_system['Dimensionality'].append(avg_dim_groupavg[roi])\n",
    "        df_system['System'].append('Association')\n",
    "        df_system['Parcel'].append(roi)\n",
    "        \n",
    "for net in motornets:\n",
    "    rois = np.where(networkdef==networkmappings[net])[0]\n",
    "    for roi in rois:\n",
    "        df_system['Dimensionality'].append(avg_dim_groupavg[roi])\n",
    "        df_system['System'].append('Motor')\n",
    "        df_system['Parcel'].append(roi)\n",
    "\n",
    "\n",
    "                           \n",
    "        \n",
    "df_system = pd.DataFrame(df_system)\n",
    "\n",
    "\n",
    "plt.figure(figsize=(1.6,2))\n",
    "ax = sns.boxplot(x=\"System\",y=\"Dimensionality\",sym='',whis=[2.5,97.5],data=df_system,palette='magma') #,order=hierarchy_ind,palette=networkpalette)\n",
    "sns.stripplot(x=\"System\",y=\"Dimensionality\",alpha=0.4,s=3,data=df_system,palette='magma',zorder=0)\n",
    "tmp = df_system.groupby('System',sort=False).mean()\n",
    "y = tmp.Dimensionality.values\n",
    "sns.lineplot(x=\"System\",y=\"Dimensionality\",data=tmp,markers=[\"o\"],color=sns.color_palette(\"Set2\")[6],linewidth=2,zorder=4)\n",
    "sns.scatterplot(x=\"System\",y=\"Dimensionality\",data=tmp,markers=[\"o\"],color=sns.color_palette(\"Set2\")[6],zorder=4)\n",
    "plt.xticks(fontsize=10);\n",
    "plt.xlabel('Brain systems',fontsize=10);\n",
    "plt.ylabel(None)\n",
    "plt.title('Group dim.', fontsize=10);\n",
    "plt.xticks(fontsize=7,rotation=-15)\n",
    "plt.yticks(fontsize=7)\n",
    "plt.tight_layout()\n",
    "sns.despine()\n",
    "plt.savefig(figuredir + 'GROUPDimensionalityXBrainSystems.pdf',transparent=True)\n",
    "\n",
    "# Statistical testing\n",
    "df_assoc = df_system.loc[df_system.System=='Association']\n",
    "df_sensory = df_system.loc[df_system.System=='Sensory']\n",
    "df_motor = df_system.loc[df_system.System=='Motor']\n",
    "\n",
    "t, p = stats.ttest_ind(df_sensory.Dimensionality.values,df_assoc.Dimensionality.values)\n",
    "print('Sensory vs. Association: t =', t, '| p =', p, '| df =', len(df_sensory.Dimensionality.values) + len(df_assoc.Dimensionality.values)-2)\n",
    "t, p = stats.ttest_ind(df_motor.Dimensionality.values,df_assoc.Dimensionality.values)\n",
    "print('Motor vs. Association: t =', t, '| p =', p, '| df =', len(df_motor.Dimensionality.values) + len(df_assoc.Dimensionality.values)-2)\n"
   ]
  },
  {
   "cell_type": "markdown",
   "id": "da09bb9c-1d90-4482-9730-845010503987",
   "metadata": {},
   "source": [
    "# Surface plots of Group Dimensionality"
   ]
  },
  {
   "cell_type": "code",
   "execution_count": 21,
   "id": "06b3871d-f949-4956-aa17-2cbd0d674f54",
   "metadata": {},
   "outputs": [
    {
     "data": {
      "image/png": "[encoded data removed]",
      "text/plain": [
       "<Figure size 126x126 with 1 Axes>"
      ]
     },
     "metadata": {
      "needs_background": "light"
     },
     "output_type": "display_data"
    }
   ],
   "source": [
    "vrange=2\n",
    "\n",
    "if not os.path.exists(figuredir + 'GroupLevelSurfaceDimensionality.png'):\n",
    "    tmp = np.hstack((avg_dim_groupavg[180:],avg_dim_groupavg[:180]))\n",
    "    tmp = stats.zscore(tmp)\n",
    "    wbplot.pscalar(figuredir + 'GroupLevelSurfaceDimensionality.png',tmp,cmap='magma')\n",
    "\n",
    "fig = plt.figure(figsize=(1.75,1.75))\n",
    "ax = plt.subplot(1,1,1)\n",
    "im = img.imread(figuredir + 'GroupLevelSurfaceDimensionality.png') \n",
    "plt.imshow(im)\n",
    "plt.axis('off')\n",
    "plt.title('Representational dim.\\ngroup-averaged RSMs',fontsize=10)\n",
    "vmin, vmax = np.min(avg_dim_groupavg), np.max(avg_dim_groupavg)\n",
    "cnorm = clrs.Normalize(vmin=vmin, vmax=vmax)  # only important for tick placing\n",
    "cmap = plt.get_cmap('magma')\n",
    "cax = ax.inset_axes([0.44, 0.48, 0.12, 0.07])\n",
    "cbar = colorbar.ColorbarBase(\n",
    "    cax, cmap=cmap, norm=cnorm, orientation='horizontal')\n",
    "cbar.set_ticks([-2, 2])  # don't need to do this since we're going to hide them\n",
    "cax.get_xaxis().set_tick_params(length=0, pad=-2)\n",
    "cbar.set_ticklabels([])\n",
    "cbar.outline.set_visible(False)\n",
    "cax.text(-0.025, 0.4, str(round(vmin,2)), ha='right', va='center', transform=cax.transAxes,\n",
    "         fontsize=7,fontname='Arial');\n",
    "cax.text(1.025, 0.4, str(round(vmax,2)), ha='left', va='center', transform=cax.transAxes,\n",
    "         fontsize=7,fontname='Arial');\n",
    "plt.tight_layout()\n",
    "plt.savefig(figuredir + 'GroupLevelSurfaceDimensionality_cmap.png',dpi=300,transparent=True)"
   ]
  }
 ],
 "metadata": {
  "kernelspec": {
   "display_name": "Python 3 (ipykernel)",
   "language": "python",
   "name": "python3"
  },
  "language_info": {
   "codemirror_mode": {
    "name": "ipython",
    "version": 3
   },
   "file_extension": ".py",
   "mimetype": "text/x-python",
   "name": "python",
   "nbconvert_exporter": "python",
   "pygments_lexer": "ipython3",
   "version": "3.9.12"
  }
 },
 "nbformat": 4,
 "nbformat_minor": 5
}
