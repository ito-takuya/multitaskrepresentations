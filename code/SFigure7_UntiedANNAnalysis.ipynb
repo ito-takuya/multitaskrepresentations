{
 "cells": [
  {
   "cell_type": "markdown",
   "id": "0803b1f4-6743-4289-a006-c7a022c92d1b",
   "metadata": {
    "tags": []
   },
   "source": [
    "# Code for generating SFigure 7 from derivative data (not provided in this repo)\n",
    "\n",
    "#### Raw code for generating derivative data is in \n",
    "`analysis5_model_traindat1dat2_richVsLazyLearning.py --untied`\n",
    "#### Batch script is in:\n",
    "`analysis5_batch.sh`, line 39\n",
    "\n",
    "#### Example command (within batch)\n",
    "\n",
    "`python analysis5_model_traindat1dat2_richVsLazyLearning.py --weight_init 1.0 --bias_init 0 --nhidden 250 --nlayers 5 --normalize --untied --cuda --outfilename analysis5_run${SLURM_ARRAY_TASK_ID}`\n",
    "\n",
    "Note that weight_init needs to be varied according to parameters reported in Methods (0.2 to 2.0, in 0.2 increments)\n",
    "\n",
    "Note that raw code is intended for use on a local Yale cluster, but is included in this repository for completeness\n",
    "\n",
    "## N.B.: In this demo notebook, trained ANN parameters are not provided due to large file size. However, ANNs can be trained using the provided scripts."
   ]
  },
  {
   "cell_type": "code",
   "execution_count": 1,
   "id": "treated-ecuador",
   "metadata": {},
   "outputs": [],
   "source": [
    "import numpy as np\n",
    "import nibabel as nib\n",
    "import scipy.stats as stats\n",
    "import matplotlib.pyplot as plt\n",
    "import seaborn as sns\n",
    "%matplotlib inline\n",
    "import nilearn.plotting as plotting\n",
    "from importlib import reload\n",
    "import wbplot\n",
    "import pandas as pd\n",
    "import matplotlib.image as img \n",
    "import os\n",
    "import h5py\n",
    "import matplotlib.colors as clrs\n",
    "from matplotlib import colorbar\n",
    "plt.rcParams['font.sans-serif'] = \"Arial\"\n",
    "from sklearn.preprocessing import PolynomialFeatures\n",
    "import statsmodels.api as sm\n",
    "import statsmodels.sandbox.stats.multicomp as mc\n",
    "import dimensionality"
   ]
  },
  {
   "cell_type": "markdown",
   "id": "coated-morocco",
   "metadata": {},
   "source": [
    "#### Set up basic parameters"
   ]
  },
  {
   "cell_type": "code",
   "execution_count": 2,
   "id": "subtle-walter",
   "metadata": {
    "scrolled": true
   },
   "outputs": [],
   "source": [
    "figuredir = '../figures/SFig7/'\n",
    "if not os.path.exists(figuredir): os.makedirs(figuredir)\n",
    "\n",
    "networkdef = np.loadtxt('cortex_parcel_network_assignments.txt')\n",
    "# need to subtract one to make it compatible for python indices\n",
    "indsort = np.loadtxt('cortex_community_order.txt',dtype=int) - 1 \n",
    "indsort.shape = (len(indsort),1)\n",
    "\n",
    "# network mappings for final partition set\n",
    "networkmappings = {'fpn':7, 'vis1':1, 'vis2':2, 'smn':3, 'aud':8, 'lan':6, 'dan':5, 'con':4, 'dmn':9, \n",
    "                   'pmulti':10, 'none1':11, 'none2':12}\n",
    "networks = networkmappings.keys()\n",
    "\n",
    "xticks = {}\n",
    "reorderednetworkaffil = networkdef[indsort]\n",
    "for net in networks:\n",
    "    netNum = networkmappings[net]\n",
    "    netind = np.where(reorderednetworkaffil==netNum)[0]\n",
    "    tick = np.max(netind)\n",
    "    xticks[tick] = net\n",
    "\n",
    "## General parameters/variables\n",
    "nParcels = 360\n",
    "\n",
    "sortednets = np.sort(list(xticks.keys()))\n",
    "orderednetworks = []\n",
    "for net in sortednets: orderednetworks.append(xticks[net])\n",
    "    \n",
    "networkpalette = ['royalblue','slateblue','paleturquoise','darkorchid','limegreen',\n",
    "                  'lightseagreen','yellow','orchid','r','peru','orange','olivedrab']\n",
    "networkpalette = np.asarray(networkpalette)\n",
    "parcel_network_palette = []\n",
    "for roi in range(nParcels): parcel_network_palette.append(networkpalette[int(networkdef[roi]-1)])\n",
    "\n",
    "OrderedNetworks = ['VIS1','VIS2','SMN','CON','DAN','LAN','FPN','AUD','DMN','PMM','VMM','ORA']\n",
    "\n",
    "glasserfilename = 'Q1-Q6_RelatedParcellation210.LR.CorticalAreas_dil_Colors.32k_fs_RL.dlabel.nii'\n",
    "glasser = np.squeeze(nib.load(glasserfilename).get_fdata())\n",
    "\n",
    "#### split up sensorimotor from association network color palettes\n",
    "color1, color2 = sns.color_palette(palette='Pastel1')[1], sns.color_palette(palette='Pastel1')[0]\n",
    "associationnets = ['con','dan','lan','fpn','dmn','pmulti','none1','none2']\n",
    "sensorimotornets = ['vis1','vis2','smn','aud']\n",
    "sensorynets = ['vis1','vis2','aud']\n",
    "motornets = ['smn']\n",
    "\n",
    "roi_id = np.zeros((nParcels,))\n",
    "tmp = {}\n",
    "netcount = 0\n",
    "for network in networkmappings:\n",
    "    net = np.where(networkdef==networkmappings[network])[0]\n",
    "    for roi in net:\n",
    "        if network in associationnets:\n",
    "            tmp[roi] = color1 #'r'\n",
    "            roi_id[roi] = -1\n",
    "        else:\n",
    "            tmp[roi] = color2 #'b'\n",
    "            roi_id[roi] = 1\n",
    "    netcount += 1\n",
    "    \n",
    "roiColorsByNetwork = []\n",
    "for roi in range(len(networkdef)):\n",
    "    roiColorsByNetwork.append(tmp[roi])\n",
    "    \n",
    "boxpalette = [sns.color_palette(\"Set2\")[0], sns.color_palette(\"Set2\")[2]]\n",
    "    \n",
    "subIDs = ['02','03','04','06','08','09','10','12','14','15','18','20','22','25','27','29','31','17','19','21','24','26','28','30']\n",
    "sub_with_rest = ['02','03','06','08','10','12','14','18','20','22','24','25','26','27','28','29','30','31'] "
   ]
  },
  {
   "cell_type": "markdown",
   "id": "latter-motel",
   "metadata": {},
   "source": [
    "# Model params"
   ]
  },
  {
   "cell_type": "code",
   "execution_count": 3,
   "id": "d88d639e-a016-4b78-b58a-39d3b67abaa6",
   "metadata": {},
   "outputs": [],
   "source": [
    "nhidden = 250\n",
    "nlayers = 5\n",
    "outfilename = 'analysis5_run'\n",
    "bias_init = '_biasinit0.0'\n",
    "relu = ''\n",
    "optim = '_optimadam'\n",
    "normalize = '_normalize'\n",
    "weight_init_range = [0.2, 0.4, 0.6, 0.8, 1.0, 1.2, 1.4, 1.6, 1.8, 2.0]\n",
    "untied = '_untiedweights'\n",
    "nsimulations = 20"
   ]
  },
  {
   "cell_type": "markdown",
   "id": "dangerous-prince",
   "metadata": {},
   "source": [
    "# Load dimensionality of different initial weight conditions"
   ]
  },
  {
   "cell_type": "code",
   "execution_count": 4,
   "id": "changed-boost",
   "metadata": {
    "tags": []
   },
   "outputs": [],
   "source": [
    "df_dim_group = pd.DataFrame()\n",
    "for weightinit in weight_init_range:\n",
    "    for sim in range(1,nsimulations+1):\n",
    "        suffix = '_weightinit' + str(weightinit) + bias_init + optim + relu + normalize\n",
    "        try:\n",
    "            df_dim = pd.read_csv(basedir + 'derivatives/results/analysis5_tiedweights/' + outfilename + str(sim) + '_data1and2_' + str(nhidden) + 'hidden_' + str(nlayers) + 'layers' + suffix + '_mse' + untied + '.csv')\n",
    "\n",
    "            tmpdf = df_dim.groupby('Layer',as_index=False).mean()\n",
    "            tmpdf.insert(loc=0,column='WeightInit', value=np.repeat(weightinit,nlayers+2))\n",
    "            tmpdf.insert(loc=0,column='Simulation', value=np.repeat(sim,nlayers+2))\n",
    "\n",
    "            df_dim_group = df_dim_group.append(tmpdf)\n",
    "            # Insert new columns\n",
    "        except:\n",
    "            print(\"Error, can't find:\", outfilename + str(sim) + '_data1and2_' + str(nhidden) + 'hidden_' + str(nlayers) + 'layers' + suffix + '_mse' + untied + '.csv', '---- run,', sim, ' | weight', weightinit)\n",
    "\n",
    "        \n",
    "del df_dim_group['Subject'], df_dim_group['Unnamed: 0']\n",
    "        \n",
    "    \n"
   ]
  },
  {
   "cell_type": "markdown",
   "id": "painful-cameroon",
   "metadata": {},
   "source": [
    "# Plot dimensionality for weight initializations"
   ]
  },
  {
   "cell_type": "code",
   "execution_count": 6,
   "id": "protected-morgan",
   "metadata": {},
   "outputs": [
    {
     "data": {
      "image/png": "[encoded data removed]",
      "text/plain": [
       "<Figure size 468x108 with 6 Axes>"
      ]
     },
     "metadata": {
      "needs_background": "light"
     },
     "output_type": "display_data"
    }
   ],
   "source": [
    "weights_to_plot = [0.2, 0.4, 0.6, 0.8, 1.0, 1.2]\n",
    "# weights_to_plot = [0.4, 0.6, 0.8, 1.0, 1.2]\n",
    "plt.figure(figsize=(6.5,1.5))\n",
    "\n",
    "i = 1\n",
    "for weight in weights_to_plot:\n",
    "    plt.subplot(1,6,i)\n",
    "    tmpdf = df_dim_group.loc[df_dim_group.WeightInit==weight]\n",
    "    # Need to reset layer values so plotted correctly with regplot\n",
    "    layers = tmpdf.Layer.values - 1\n",
    "    del tmpdf['Layer']\n",
    "    tmpdf.insert(loc=0,column='Layer', value=layers)\n",
    "    ## done\n",
    "    sns.stripplot(x=\"Layer\",y=\"Dimensionality\",data=tmpdf,palette='magma',size=2)\n",
    "    sns.regplot(x=\"Layer\",y=\"Dimensionality\",data=tmpdf,color='k',order=2,scatter=False)\n",
    "    plt.xlabel('ANN layer',fontsize=10)\n",
    "    plt.title('Weight init.: ' + str(weight),fontsize=9)\n",
    "    if i == 1:\n",
    "        plt.yticks([0.2,.4,.6], [.2, .4, .6],fontsize=8)\n",
    "        plt.ylabel('Dimensionality',fontsize=10)      \n",
    "    else:\n",
    "        plt.yticks([.2,.4,.6],[])\n",
    "        plt.ylabel(None)\n",
    "\n",
    "    plt.ylim([0.17,0.63])\n",
    "    i += 1\n",
    "sns.despine()\n",
    "plt.tight_layout()\n",
    "# plt.savefig(figuredir + 'DimensionalityXLayerWeightInitialization.pdf')\n",
    "\n",
    "              \n"
   ]
  },
  {
   "cell_type": "markdown",
   "id": "damaged-premium",
   "metadata": {},
   "source": [
    "#### For each 2nd order fit, evaluate the quadratic coeffcient magnitude and the r-squared"
   ]
  },
  {
   "cell_type": "code",
   "execution_count": 8,
   "id": "banned-cattle",
   "metadata": {},
   "outputs": [
    {
     "data": {
      "image/png": "[encoded data removed]",
      "text/plain": [
       "<Figure size 172.8x129.6 with 2 Axes>"
      ]
     },
     "metadata": {
      "needs_background": "light"
     },
     "output_type": "display_data"
    }
   ],
   "source": [
    "import statsmodels.api as sm\n",
    "\n",
    "df_fit  = {}\n",
    "df_fit['R-squared'] = []\n",
    "df_fit['Quadratic coef'] = []\n",
    "df_fit['Weight init.'] = []\n",
    "for weight in weight_init_range:\n",
    "\n",
    "    tmpdf = df_dim_group.loc[df_dim_group.WeightInit==weight]\n",
    "\n",
    "    # \n",
    "    x = tmpdf.Layer.values\n",
    "    x.shape = (len(x),1)\n",
    "    y = tmpdf.Dimensionality.values\n",
    "    ## 2nd order model\n",
    "    polynomial_features = PolynomialFeatures(degree=2)\n",
    "    xp2 = polynomial_features.fit_transform(x)\n",
    "\n",
    "    #fit regression model\n",
    "    model2 = sm.OLS(y, xp2).fit()\n",
    "\n",
    "    df_fit['R-squared'].append(model2.rsquared)\n",
    "    df_fit['Quadratic coef'].append(model2.params[2])\n",
    "    df_fit['Weight init.'].append(weight)\n",
    "df_fit = pd.DataFrame(df_fit)\n",
    "\n",
    "color3 = sns.color_palette('Set2')[2]\n",
    "plt.figure(figsize=(2.4,1.8))\n",
    "ax = sns.scatterplot(x=\"Weight init.\", y=\"Quadratic coef\", data=df_fit, hue=\"R-squared\", size=\"R-squared\",sizes=(0,75),alpha=1, label='2nd coef.',palette='magma_r',legend=False,linewidth=3,color=color3)\n",
    "ax.set_xlabel('Initialization (s.d.)',fontsize=9)\n",
    "ax.set_ylabel('Quadratic coef', color='k',fontsize=9)\n",
    "plt.plot(weight_init_range,np.repeat(0,len(weight_init_range)),'--',color='grey')\n",
    "ax.tick_params(axis='y', labelcolor='k')\n",
    "ax.set_xticks(np.arange(0.2,2.0,0.8))\n",
    "ax.set_xlim([0.1,2.0])\n",
    "ax.set_title('Quadratic fit',fontsize=10)\n",
    "#\n",
    "norm = plt.Normalize(df_fit['R-squared'].min(), df_fit['R-squared'].max())\n",
    "smap = plt.cm.ScalarMappable(cmap=\"magma_r\", norm=norm)\n",
    "smap.set_array([])\n",
    "cax = ax.figure.colorbar(smap)\n",
    "cax.ax.tick_params(labelsize=7)\n",
    "cax.ax.set_ylabel('R-squared', fontsize=8);\n",
    "plt.tight_layout()\n",
    "sns.despine()\n",
    "\n"
   ]
  },
  {
   "cell_type": "markdown",
   "id": "placed-baker",
   "metadata": {},
   "source": [
    "____"
   ]
  },
  {
   "cell_type": "markdown",
   "id": "macro-august",
   "metadata": {},
   "source": [
    "# Compare model produced RSMs with hierarchical empirical RSMs"
   ]
  },
  {
   "cell_type": "code",
   "execution_count": 9,
   "id": "delayed-intersection",
   "metadata": {},
   "outputs": [],
   "source": [
    "rsms_model = []\n",
    "for weight in weight_init_range:\n",
    "    rsms = []\n",
    "    for sim in range(1,nsimulations+1):\n",
    "        suffix = '_weightinit' + str(weight) + bias_init + optim + relu + normalize\n",
    "        df_dim = pd.read_csv(basedir + 'derivatives/results/analysis5_tiedweights/' + outfilename + str(sim) + '_data1and2_' + str(nhidden) + 'hidden_' + str(nlayers) + 'layers' + suffix + '_mse' + untied + '.csv')\n",
    "\n",
    "        h5f = h5py.File(basedir + 'derivatives/results/analysis5_tiedweights/' + outfilename + str(sim) + '_data1and2_' + str(nhidden) + 'hidden_' + str(nlayers) + 'layers' + suffix + '_mse' + untied + '.h5','r')\n",
    "        tmp = h5f['data'][:].copy()\n",
    "        h5f.close()\n",
    "        rsms.append(np.mean(tmp,axis=0))\n",
    "    \n",
    "    rsms = np.asarray(rsms)\n",
    "    rsms_model.append(rsms)\n",
    "\n",
    "rsms_model = np.asarray(rsms_model)\n"
   ]
  },
  {
   "cell_type": "markdown",
   "id": "brilliant-retrieval",
   "metadata": {},
   "source": [
    "# Load in empirical RSMs and compute each region's representational similarity with each layer's representational similarity"
   ]
  },
  {
   "cell_type": "code",
   "execution_count": 10,
   "id": "boolean-michigan",
   "metadata": {},
   "outputs": [],
   "source": [
    "rsm_matrix = 'cosine'\n",
    "# Load emiprical RSMs\n",
    "h5f = h5py.File(basedir + 'derivatives/results/analysis1/analysis1_regional_rdms_' + rsm_matrix + '_allsubjs.h5','r')\n",
    "rsms_subj = h5f['data'][:].copy()\n",
    "h5f.close()\n",
    "rsms_empirical = np.mean(np.arctanh(rsms_subj),axis=1)\n",
    "\n",
    "# Load RSM gradients\n",
    "distance = 'cosine'\n",
    "rsm_matrix = 'cosine'\n",
    "rsm_gradients = np.loadtxt(basedir + 'derivatives/results/analysis1/analysis1_' + distance + '_3components_' + rsm_matrix + 'RSMs_representational_gradients.csv')\n",
    "df_dim = pd.read_csv(basedir + 'derivatives/results/analysis1/analysis1_parcel_' + rsm_matrix + '_dimensionality.csv')\n",
    "# Load empirical dimensionality\n",
    "avg_dim = []\n",
    "for i in range(nParcels):\n",
    "    roi_ind = np.where(glasser==roi+1)[0]\n",
    "    avg_dim.append(df_dim.Dimensionality[df_dim.Parcels==i+1].mean())\n",
    "avg_dim = np.asarray(avg_dim)\n",
    "\n",
    "nParcels = rsms_empirical.shape[0]\n",
    "numlayers = rsms_model.shape[2]\n",
    "ntasks = 45\n",
    "triu_ind = np.triu_indices(ntasks,k=0)\n",
    "\n",
    "ann_brain_rsm_match = np.zeros((nParcels,numlayers,nsimulations,len(weight_init_range)))\n",
    "for sim in range(nsimulations):\n",
    "    for weight_ind in range(len(weight_init_range)):\n",
    "        for layer in range(numlayers):\n",
    "            for parcel in range(nParcels):\n",
    "                ann_brain_rsm_match[parcel,layer,sim,weight_ind] = np.dot(rsms_empirical[parcel][triu_ind],rsms_model[weight_ind,sim,layer][triu_ind])/(np.linalg.norm(rsms_empirical[parcel][triu_ind])*np.linalg.norm(rsms_model[weight_ind,sim,layer][triu_ind]))\n",
    "\n",
    "                \n"
   ]
  },
  {
   "cell_type": "code",
   "execution_count": 11,
   "id": "activated-scene",
   "metadata": {},
   "outputs": [
    {
     "data": {
      "image/png": "[encoded data removed]",
      "text/plain": [
       "<Figure size 172.8x136.8 with 1 Axes>"
      ]
     },
     "metadata": {
      "needs_background": "light"
     },
     "output_type": "display_data"
    }
   ],
   "source": [
    "n_hierarchy_bins = 5\n",
    "bin_stepsize = 72\n",
    "sorted_hierarchy = sorted(range(len(rsm_gradients[:,0])), key=lambda k: rsm_gradients[:,0][k])\n",
    "\n",
    "df_annbrainsimilarity = {}\n",
    "df_annbrainsimilarity['Layer'] = []\n",
    "df_annbrainsimilarity['Weight initialization'] = []\n",
    "df_annbrainsimilarity['Representational similarity'] = []\n",
    "df_annbrainsimilarity['Simulation'] = []\n",
    "\n",
    "binstart = 0\n",
    "for bins in range(n_hierarchy_bins):\n",
    "    bin_ind = sorted_hierarchy[binstart:binstart+bin_stepsize]\n",
    "    for sim in range(nsimulations):\n",
    "        rich_ind = np.where(np.asarray(weight_init_range)<1.0)[0]\n",
    "        lazy_ind = np.where(np.asarray(weight_init_range)>1.0)[0]\n",
    "        df_annbrainsimilarity['Layer'].append(bins)\n",
    "        df_annbrainsimilarity['Simulation'].append(sim)\n",
    "        df_annbrainsimilarity['Weight initialization'].append('Rich')\n",
    "        binned_avg_rich = np.mean(ann_brain_rsm_match[bin_ind],axis=0)\n",
    "        df_annbrainsimilarity['Representational similarity'].append(np.mean(binned_avg_rich[bins+1,sim,rich_ind],axis=0))\n",
    "        #\n",
    "        df_annbrainsimilarity['Layer'].append(bins)\n",
    "        df_annbrainsimilarity['Simulation'].append(sim)\n",
    "        df_annbrainsimilarity['Weight initialization'].append('Lazy')\n",
    "        binned_avg_lazy = np.mean(ann_brain_rsm_match[bin_ind],axis=0)\n",
    "        df_annbrainsimilarity['Representational similarity'].append(np.mean(binned_avg_lazy[bins+1,sim,lazy_ind],axis=0))   \n",
    "        \n",
    "    binstart += bin_stepsize\n",
    "df_annbrainsimilarity = pd.DataFrame(df_annbrainsimilarity)\n",
    "\n",
    "plt.figure(figsize=(2.4,1.9))\n",
    "ax = sns.boxplot(x=\"Layer\",y=\"Representational similarity\",hue=\"Weight initialization\",data=df_annbrainsimilarity,palette='Set2',sym='',whis=[2.5,97.5],dodge=True,linewidth=0.5)\n",
    "sns.stripplot(x=\"Layer\",y=\"Representational similarity\",hue=\"Weight initialization\",data=df_annbrainsimilarity,dodge=True,palette='Set2',size=2,zorder=0)\n",
    "handles, labels = ax.get_legend_handles_labels()\n",
    "l = plt.legend(handles[-2:], labels[-2:], loc=1, borderaxespad=0.2, prop={'size': 8})\n",
    "plt.xlabel('ANN layers/Gradient bins',fontsize=9)\n",
    "plt.ylabel('Cosine similarity', fontsize=9)\n",
    "plt.xticks(np.arange(nlayers),np.arange(1,nlayers+1),fontsize=8)\n",
    "plt.yticks(fontsize=8)\n",
    "plt.title('Similarity of empirical and\\nmodel representations', fontsize=10)\n",
    "sns.despine()\n",
    "plt.tight_layout()\n",
    "# plt.savefig(figuredir + 'RichVsLazyLearningBrainANNComparison.png',dpi=300)\n"
   ]
  },
  {
   "cell_type": "code",
   "execution_count": 12,
   "id": "cb081f05-6f4f-4f3a-a7a4-1ae9aeb39ee0",
   "metadata": {},
   "outputs": [
    {
     "name": "stdout",
     "output_type": "stream",
     "text": [
      "Rich cosine: 0.43760851344053087\n",
      "Lazy cosine: 0.36490704231746707\n",
      "Average cosine difference: 0.07270147112306372\n",
      "\t t = 14.691920356177022 | p = 1.2902885465507694e-26\n"
     ]
    },
    {
     "data": {
      "image/png": "[encoded data removed]",
      "text/plain": [
       "<Figure size 158.4x136.8 with 1 Axes>"
      ]
     },
     "metadata": {
      "needs_background": "light"
     },
     "output_type": "display_data"
    },
    {
     "data": {
      "image/png": "[encoded data removed]",
      "text/plain": [
       "<Figure size 115.2x136.8 with 1 Axes>"
      ]
     },
     "metadata": {
      "needs_background": "light"
     },
     "output_type": "display_data"
    }
   ],
   "source": [
    "\n",
    "df_similaritydiff = {}\n",
    "df_similaritydiff['Layer'] = []\n",
    "df_similaritydiff['Representational similarity'] = []\n",
    "df_similaritydiff['Simulation'] = []\n",
    "\n",
    "binstart = 0\n",
    "for bins in range(n_hierarchy_bins):\n",
    "    bin_ind = sorted_hierarchy[binstart:binstart+bin_stepsize]\n",
    "    for sim in range(nsimulations):\n",
    "        rich_ind = np.where(np.asarray(weight_init_range)<1.0)[0]\n",
    "        lazy_ind = np.where(np.asarray(weight_init_range)>1.0)[0]\n",
    "        df_similaritydiff['Layer'].append(bins)\n",
    "        df_similaritydiff['Simulation'].append(sim)\n",
    "        binned_avg = np.mean(ann_brain_rsm_match[bin_ind],axis=0)\n",
    "        diff = np.mean(binned_avg[bins+1,sim,rich_ind],axis=0) - np.mean(binned_avg[bins+1,sim,lazy_ind],axis=0)\n",
    "        df_similaritydiff['Representational similarity'].append(diff)\n",
    "        \n",
    "    binstart += bin_stepsize\n",
    "df_similaritydiff = pd.DataFrame(df_similaritydiff)\n",
    "\n",
    "plt.figure(figsize=(2.2,1.9))\n",
    "ax = sns.boxplot(x=\"Layer\",y=\"Representational similarity\",data=df_similaritydiff,palette='magma',sym='',whis=[2.5,97.5],dodge=True,linewidth=0.5)\n",
    "sns.stripplot(x=\"Layer\",y=\"Representational similarity\",data=df_similaritydiff,dodge=True,palette='magma',size=2,zorder=0)\n",
    "plt.plot(np.arange(-0.5,5.5),np.repeat(0,6),linestyle='--',color='gray',linewidth=1)\n",
    "plt.xlabel('ANN layers/Gradient bins',fontsize=9)\n",
    "plt.ylabel('Rich – lazy\\nCosine difference', fontsize=9)\n",
    "plt.xticks(np.arange(nlayers),np.arange(1,nlayers+1),fontsize=8)\n",
    "plt.yticks(fontsize=8)\n",
    "plt.title('Similarity to fMRI data\\nby layer', fontsize=10)\n",
    "plt.tight_layout()\n",
    "sns.despine()\n",
    "# plt.savefig(figuredir + 'RichVsLazyLearningBrainANNComparison_Difference.pdf')\n",
    "\n",
    "plt.figure(figsize=(1.6,1.9))\n",
    "ax = sns.boxplot(x=\"Weight initialization\",y=\"Representational similarity\",data=df_annbrainsimilarity,palette='magma',sym='',whis=[2.5,97.5],dodge=True,linewidth=0.5)\n",
    "sns.stripplot(x=\"Weight initialization\",y=\"Representational similarity\",data=df_annbrainsimilarity,dodge=True,palette='magma',size=2,zorder=0)\n",
    "plt.xlabel('Weight init.',fontsize=9)\n",
    "plt.ylabel('Cosine', fontsize=9)\n",
    "plt.xticks(fontsize=8)\n",
    "plt.yticks(fontsize=8)\n",
    "plt.ylim([0.25,0.7])\n",
    "plt.title('Similarity to\\nfMRI data', fontsize=10)\n",
    "plt.tight_layout()\n",
    "sns.despine()\n",
    "# plt.savefig(figuredir + 'RichVsLazyLearning2Comparison.pdf')\n",
    "\n",
    "### Run t-test\n",
    "tmpdf_rich = df_annbrainsimilarity.loc[df_annbrainsimilarity[\"Weight initialization\"]=='Rich']\n",
    "tmpdf_lazy = df_annbrainsimilarity.loc[df_annbrainsimilarity[\"Weight initialization\"]=='Lazy']\n",
    "t, p = stats.ttest_rel(tmpdf_rich['Representational similarity'].values,tmpdf_lazy['Representational similarity'].values)\n",
    "print('Rich cosine:', np.mean(tmpdf_rich['Representational similarity'].values))\n",
    "print('Lazy cosine:', np.mean(tmpdf_lazy['Representational similarity'].values))\n",
    "print('Average cosine difference:', np.mean(tmpdf_rich['Representational similarity'].values - tmpdf_lazy['Representational similarity'].values))\n",
    "print('\\t t =', t, '| p =', p)"
   ]
  },
  {
   "cell_type": "markdown",
   "id": "infrared-advocate",
   "metadata": {},
   "source": [
    "#### Statistical testing of rich v lazy learning at each layer"
   ]
  },
  {
   "cell_type": "code",
   "execution_count": 166,
   "id": "cubic-recording",
   "metadata": {},
   "outputs": [
    {
     "name": "stdout",
     "output_type": "stream",
     "text": [
      "Layer 1 t = 1.1677581809736102 | q = 0.2573500554233064\n",
      "Layer 2 t = 76.25152896880509 | q = 5.325724405708534e-25\n",
      "Layer 3 t = 85.14426903641244 | q = 8.782570722725385e-26\n",
      "Layer 4 t = 93.481701701201 | q = 2.241873962477601e-26\n",
      "Layer 5 t = 102.2300075500591 | q = 8.219665137199607e-27\n"
     ]
    }
   ],
   "source": [
    "ts, ps = [], []\n",
    "for layer in np.unique(df_annbrainsimilarity.Layer.values):\n",
    "    tmpdf = df_annbrainsimilarity.loc[df_annbrainsimilarity.Layer==layer]\n",
    "    tmpdf_rich = tmpdf.loc[tmpdf['Weight initialization']=='Rich']\n",
    "    tmpdf_lazy = tmpdf.loc[tmpdf['Weight initialization']=='Lazy']\n",
    "    t, p = stats.ttest_rel(tmpdf_rich['Representational similarity'].values,tmpdf_lazy['Representational similarity'].values)\n",
    "    ts.append(t)\n",
    "    ps.append(p)\n",
    "\n",
    "h0, qs = mc.fdrcorrection0(ps)\n",
    "\n",
    "for layer in np.unique(df_annbrainsimilarity.Layer.values):\n",
    "    print('Layer', layer+1, 't =', ts[layer], '| q =', qs[layer])"
   ]
  },
  {
   "cell_type": "markdown",
   "id": "ef378988-8166-48d1-9f76-271e5b9bac79",
   "metadata": {},
   "source": [
    "# Compute ANN RA matrix"
   ]
  },
  {
   "cell_type": "code",
   "execution_count": 13,
   "id": "4a63f68c-531e-4928-bdfd-c9d3f0167ec2",
   "metadata": {
    "tags": []
   },
   "outputs": [],
   "source": [
    "model_rsms = []\n",
    "df_dim_group = pd.DataFrame()\n",
    "for weightinit in weight_init_range:\n",
    "    model_rsms.append([])\n",
    "    for sim in range(1,nsimulations+1):\n",
    "        suffix = '_weightinit' + str(weightinit) + bias_init + optim + relu + normalize\n",
    "        # Load dimensionality\n",
    "        df_dim = pd.read_csv(basedir + 'derivatives/results/analysis5_tiedweights/' + outfilename + str(sim) + '_data1and2_' + str(nhidden) + 'hidden_' + str(nlayers) + 'layers' + suffix + '_mse' + untied + '.csv')\n",
    "        tmpdf = df_dim.groupby('Layer',as_index=False).mean()\n",
    "        tmpdf.insert(loc=0,column='WeightInit', value=np.repeat(weightinit,nlayers+2))\n",
    "        tmpdf.insert(loc=0,column='Simulation', value=np.repeat(sim,nlayers+2))\n",
    "\n",
    "        df_dim_group = df_dim_group.append(tmpdf)\n",
    "        \n",
    "        ####\n",
    "        # Load analysis\n",
    "        h5f = h5py.File(basedir + 'derivatives/results/analysis5_tiedweights/' + outfilename + str(sim) + '_data1and2_' + str(nhidden) + 'hidden_' + str(nlayers) + 'layers' + suffix + '_mse' + untied + '.h5','r')\n",
    "        tmprsm = h5f['data'][:].copy()\n",
    "        tmprsm = np.mean(tmprsm,axis=0) # average across subjects\n",
    "        model_rsms[-1].append(tmprsm)\n",
    "\n",
    "model_rsms = np.asarray(model_rsms)    \n",
    "        \n",
    "    \n"
   ]
  },
  {
   "cell_type": "markdown",
   "id": "31cd628c-52a6-4cb6-b67c-21dfafefeda6",
   "metadata": {},
   "source": [
    "# Calculate representational alignment across layers"
   ]
  },
  {
   "cell_type": "code",
   "execution_count": 14,
   "id": "eb7e1f8d-a2b7-4da9-97da-ed1ad88a70f1",
   "metadata": {},
   "outputs": [],
   "source": [
    "alllayers = model_rsms.shape[2]\n",
    "triu_ind = np.triu_indices(45,k=0)\n",
    "ra_mat = np.zeros((len(weight_init_range),nsimulations,alllayers,alllayers))\n",
    "for weightinit in range(len(weight_init_range)):\n",
    "    for sim in range(nsimulations):\n",
    "        for layer1 in range(alllayers):\n",
    "            for layer2 in range(alllayers):\n",
    "                if layer2>layer1:\n",
    "                    cosinesim = np.dot(model_rsms[weightinit,sim,layer1][triu_ind],model_rsms[weightinit,sim,layer2][triu_ind])/(np.linalg.norm(model_rsms[weightinit,sim,layer1][triu_ind]*np.linalg.norm(model_rsms[weightinit,sim,layer2][triu_ind])))\n",
    "                    ra_mat[weightinit,sim,layer1,layer2] = cosinesim\n",
    "        \n",
    "        ra_mat[weightinit,sim] = ra_mat[weightinit,sim] + ra_mat[weightinit,sim].T\n",
    "        np.fill_diagonal(ra_mat[weightinit,sim],1)\n",
    "ra_mat_avg = np.mean(ra_mat,axis=1)"
   ]
  },
  {
   "cell_type": "code",
   "execution_count": 15,
   "id": "b980c217-ea15-44b9-b416-cbae05e5464d",
   "metadata": {},
   "outputs": [
    {
     "name": "stderr",
     "output_type": "stream",
     "text": [
      "/Users/tito/miniconda3/lib/python3.7/site-packages/ipykernel_launcher.py:38: UserWarning: This figure includes Axes that are not compatible with tight_layout, so results might be incorrect.\n"
     ]
    },
    {
     "data": {
      "image/png": "[encoded data removed]",
      "text/plain": [
       "<Figure size 360x194.4 with 9 Axes>"
      ]
     },
     "metadata": {
      "needs_background": "light"
     },
     "output_type": "display_data"
    }
   ],
   "source": [
    "weights_to_plot = [0.2, 0.4, 0.6, 0.8, 1.0, 1.2, 1.4, 1.8]\n",
    "vmin = np.min(ra_mat)\n",
    "vmax = np.max(ra_mat)\n",
    "\n",
    "fig, axn = plt.subplots(2, 4, sharex=True, sharey=True,figsize=(5,2.7))\n",
    "cbar_ax = fig.add_axes([.9, .3, .02, .4])\n",
    "i = 0\n",
    "for weight in weights_to_plot:\n",
    "    weight_ind = np.where(np.asarray(weight_init_range)==weight)[0][0]\n",
    "    ax = axn.flat[i]\n",
    "    tmpax = sns.heatmap(ra_mat_avg[weight_ind],square=True, ax=ax, cbar=i == 0, vmin=vmin, vmax=vmax, cmap='magma',cbar_ax=None if i else cbar_ax,cbar_kws={'fraction':0.04,'label':'cosine'})\n",
    "    ax.set_title('Weight init.: ' + str(weight),fontsize=9)\n",
    "    tmpax.invert_yaxis()\n",
    "    ax.tick_params(size=2,labelsize=8)\n",
    "    if i in [4, 5, 6, 7]: \n",
    "        ax.set_xlabel('ANN layer',size=8)\n",
    "    if i in [0,4]:\n",
    "        ax.set_ylabel('ANN layer', fontsize=8)\n",
    "        ax.set_yticks([])\n",
    "    \n",
    "    i += 1\n",
    "cax = plt.gcf().axes[-1]\n",
    "cax.yaxis.label.set_size(8)\n",
    "cax.tick_params(size=2,labelsize=7)\n",
    "fig.tight_layout(rect=[0, 0, .9, 1])\n",
    "# fig.savefig(figuredir + 'ANN_RAMatrix.pdf')\n",
    "\n"
   ]
  },
  {
   "cell_type": "markdown",
   "id": "d89063d1-8c4a-4256-87ce-ce1360a1fbcf",
   "metadata": {},
   "source": [
    "# Plot mean RA cosine across layers"
   ]
  },
  {
   "cell_type": "code",
   "execution_count": 18,
   "id": "ec620ad2-6bfd-4ed1-845e-6972e3eb4ce9",
   "metadata": {},
   "outputs": [
    {
     "name": "stdout",
     "output_type": "stream",
     "text": [
      "Rich versus lazy, cosine difference: -0.038174999366477724\n",
      "Rich vs. lazy, t = -138.89387587844925 | p = 4.899635720755498e-30\n"
     ]
    },
    {
     "data": {
      "image/png": "[encoded data removed]",
      "text/plain": [
       "<Figure size 122.4x115.2 with 1 Axes>"
      ]
     },
     "metadata": {
      "needs_background": "light"
     },
     "output_type": "display_data"
    }
   ],
   "source": [
    "mean_cosine = {}\n",
    "mean_cosine['Simulation'] = []\n",
    "mean_cosine['Cosine'] = []\n",
    "mean_cosine['Weight init.'] = []\n",
    "mean_cosine['Training'] = []\n",
    "i = 0\n",
    "for weight in weight_init_range:\n",
    "    ind = np.where(np.asarray(weight_init_range)==weight)[0][0]\n",
    "    for sim in range(nsimulations):\n",
    "        mean_cosine['Simulation'].append(sim)\n",
    "        mean_cosine['Cosine'].append(np.mean(ra_mat[ind,sim]))\n",
    "        mean_cosine['Weight init.'].append(weight)\n",
    "        if weight < 1.0: \n",
    "            mean_cosine['Training'].append(\"Rich\")\n",
    "        elif weight > 1.0: \n",
    "            mean_cosine['Training'].append(\"Lazy\")\n",
    "        else: \n",
    "            mean_cosine['Training'].append(\"1.0\")\n",
    "    i += 1\n",
    "    \n",
    "plt.figure(figsize=(1.7 ,1.6))\n",
    "ax = sns.boxplot(x='Weight init.', y='Cosine', data=mean_cosine, palette='magma', sym='',whis=[2.5,97.5],linewidth=0.25)\n",
    "sns.stripplot(x='Weight init.', y='Cosine', data=mean_cosine, palette='magma',dodge=True,size=3,zorder=0,alpha=0.6)\n",
    "plt.xticks(np.arange(0,len(weight_init_range),3),weight_init_range[::3],rotation=0,fontsize=8)\n",
    "plt.xlabel('Weight init.',fontsize=9)\n",
    "plt.ylabel('Avg. cosine', fontsize=9);\n",
    "plt.yticks(fontsize=8)\n",
    "plt.title('Inter-layer\\nsimilarity',fontsize=10)\n",
    "plt.tight_layout()\n",
    "sns.despine()\n",
    "# plt.savefig(figuredir + 'LayerCosine_Vs_WeightInitialization.pdf')\n",
    "\n",
    "### Run rich v. lazy statistics\n",
    "mean_cosine = pd.DataFrame(mean_cosine)\n",
    "tmprich = mean_cosine.loc[mean_cosine.Training=='Rich']\n",
    "tmprich = tmprich.groupby(by=\"Simulation\").mean()\n",
    "tmplazy = mean_cosine.loc[mean_cosine.Training=='Lazy']\n",
    "tmplazy = tmplazy.groupby(by=\"Simulation\").mean()\n",
    "t, p = stats.ttest_rel(tmprich.Cosine.values,tmplazy.Cosine.values)\n",
    "print('Rich versus lazy, cosine difference:', np.mean(tmprich.Cosine.values)-np.mean(tmplazy.Cosine.values))\n",
    "print(\"Rich vs. lazy, t =\", t, '| p =', p)"
   ]
  },
  {
   "cell_type": "markdown",
   "id": "712b99f3-fa8b-494e-87de-1b298f203806",
   "metadata": {},
   "source": [
    "# Plot scree plots for each matrix"
   ]
  },
  {
   "cell_type": "code",
   "execution_count": 20,
   "id": "35a032d7-2f6a-4a75-8334-95b3532416cc",
   "metadata": {},
   "outputs": [
    {
     "name": "stdout",
     "output_type": "stream",
     "text": [
      "Rich versus lazy, Variance explained difference: -0.05546121500438572\n",
      "Rich vs. lazy, t = -214.74603942142775 | p = 1.2497237676161216e-33\n"
     ]
    },
    {
     "data": {
      "image/png": "[encoded data removed]",
      "text/plain": [
       "<Figure size 144x115.2 with 2 Axes>"
      ]
     },
     "metadata": {
      "needs_background": "light"
     },
     "output_type": "display_data"
    },
    {
     "data": {
      "image/png": "[encoded data removed]",
      "text/plain": [
       "<Figure size 122.4x115.2 with 1 Axes>"
      ]
     },
     "metadata": {
      "needs_background": "light"
     },
     "output_type": "display_data"
    }
   ],
   "source": [
    "import sklearn\n",
    "\n",
    "n_components = 3\n",
    "df_pca = {}\n",
    "df_pca['Weight init.'] = []\n",
    "df_pca['Variance explained'] = []\n",
    "df_pca['Component'] = []\n",
    "df_pca['Simulation'] = []\n",
    "df_pca['Training'] = []\n",
    "\n",
    "principal_gradient_loadings = np.zeros((nlayers+2,len(weight_init_range),nsimulations))\n",
    "\n",
    "for sim in range(nsimulations):\n",
    "    i = 0\n",
    "    for weight in weight_init_range:\n",
    "        weight_ind = np.where(np.asarray(weight_init_range)==round(weight,1))[0][0]\n",
    "        pca = sklearn.decomposition.PCA(n_components=n_components)\n",
    "        pca.fit(ra_mat[weight_ind,sim,:,:])\n",
    "        var_explained = 0\n",
    "        for comp in range(n_components):\n",
    "            if comp==0: principal_gradient_loadings[:,i,sim] = pca.components_[0]\n",
    "            var_explained += pca.explained_variance_ratio_[comp]\n",
    "            df_pca['Weight init.'].append(round(weight,1))\n",
    "            df_pca['Variance explained'].append(var_explained)\n",
    "            df_pca['Component'].append(comp)\n",
    "            df_pca['Simulation'].append(sim)\n",
    "            if weight < 1.0: \n",
    "                df_pca['Training'].append(\"Rich\")\n",
    "            elif weight > 1.0: \n",
    "                df_pca['Training'].append(\"Lazy\")\n",
    "            else: \n",
    "                df_pca['Training'].append(\"1.0\")\n",
    "        i += 1\n",
    "    \n",
    "df_pca = pd.DataFrame(df_pca)\n",
    "\n",
    "fig = plt.figure(figsize=(2.0,1.6))\n",
    "ax = sns.lineplot(x=\"Component\",y=\"Variance explained\",hue=\"Weight init.\",data=df_pca,palette='magma',legend=False)\n",
    "plt.xticks(np.arange(0,n_components),np.arange(1,n_components+1),fontsize=8)\n",
    "plt.yticks(fontsize=8)\n",
    "plt.title('Dim. of RA',fontsize=10);\n",
    "plt.xlabel('Component',fontsize=9)\n",
    "plt.ylabel('Var. explained',fontsize=9)\n",
    "\n",
    "norm = plt.Normalize(df_pca['Weight init.'].min(), df_pca['Weight init.'].max())\n",
    "sm = plt.cm.ScalarMappable(cmap=\"magma\", norm=norm)\n",
    "sm.set_array([])\n",
    "cax = ax.figure.colorbar(sm)\n",
    "cax.ax.tick_params(labelsize=7)\n",
    "cax.ax.set_ylabel('Weight init.', fontsize=8);\n",
    "plt.tight_layout()\n",
    "sns.despine()\n",
    "# plt.savefig(figuredir + 'ANNLayer_Screeplot.pdf')\n",
    "\n",
    "\n",
    "tmpdf = df_pca.loc[df_pca.Component==0]\n",
    "\n",
    "fig = plt.figure(figsize=(1.7,1.6))\n",
    "ax = sns.boxplot(x=\"Weight init.\",y=\"Variance explained\",data=tmpdf,palette='magma',sym='',whis=[2.5,97.5],dodge=True,linewidth=0.5)\n",
    "ax = sns.stripplot(x=\"Weight init.\",y=\"Variance explained\",data=tmpdf,palette='magma',size=3,zorder=0,alpha=0.6)\n",
    "plt.xticks(np.arange(0,len(weight_init_range),2),weight_init_range[::2],fontsize=8)\n",
    "plt.title('RA, 1st component',fontsize=10);\n",
    "plt.xlabel('Weight init.',fontsize=9)\n",
    "plt.ylabel('Var. explained',fontsize=9)\n",
    "ax.tick_params(axis='x',labelsize=8,rotation=0)\n",
    "ax.tick_params(axis='y',labelsize=8,rotation=0)\n",
    "sns.despine()\n",
    "plt.tight_layout()\n",
    "# plt.savefig(figuredir + 'ANNLayer_1stCompVarExplained.pdf')\n",
    "\n",
    "### Run rich v. lazy statistics\n",
    "tmprich = tmpdf.loc[tmpdf.Training=='Rich']\n",
    "tmprich = tmprich.groupby(by=\"Simulation\").mean()\n",
    "tmplazy = tmpdf.loc[tmpdf.Training=='Lazy']\n",
    "tmplazy = tmplazy.groupby(by=\"Simulation\").mean()\n",
    "t, p = stats.ttest_rel(tmprich['Variance explained'].values,tmplazy['Variance explained'].values)\n",
    "print('Rich versus lazy, Variance explained difference:', np.mean(tmprich['Variance explained'].values)-np.mean(tmplazy['Variance explained'].values))\n",
    "print(\"Rich vs. lazy, t =\", t, '| p =', p)"
   ]
  },
  {
   "cell_type": "markdown",
   "id": "28d20d9d-884b-49f3-b475-fa4197aa7a2c",
   "metadata": {},
   "source": [
    "# Assess weight statistics of ANNs for different initialization schemes"
   ]
  },
  {
   "cell_type": "code",
   "execution_count": 21,
   "id": "fb3a42f5-1bb2-4dd2-8fda-49db514bf9a9",
   "metadata": {},
   "outputs": [],
   "source": [
    "nsubjs=24\n",
    "nlayers=5\n",
    "norm_mat = np.zeros((nsubjs,nsimulations,len(weight_init_range))) # nhidden X nlayers X subjs X simulations X weights\n",
    "bias_mat = np.zeros((nsubjs,nsimulations,len(weight_init_range))) # nhidden X nlayers X subjs X simulations X weights\n",
    "\n",
    "norm_mat_init = np.zeros((nsubjs,nsimulations,len(weight_init_range))) # nhidden X nlayers X subjs X simulations X weights\n",
    "bias_mat_init = np.zeros((nsubjs,nsimulations,len(weight_init_range))) # nhidden X nlayers X subjs X simulations X weights\n",
    "\n",
    "df_ann = {}\n",
    "df_ann['Simulation'] = []\n",
    "df_ann['WeightInitialization'] = []\n",
    "df_ann['Training'] = []\n",
    "df_ann['WeightNorm'] = []\n",
    "df_ann['WeightMean'] = []\n",
    "df_ann['WeightSD'] = []\n",
    "df_ann['WeightKurtosis'] = []\n",
    "df_ann['BiasNorm'] = []\n",
    "df_ann['BiasMean'] = []\n",
    "df_ann['BiasSD'] = []\n",
    "df_ann['BiasKurtosis'] = []\n",
    "df_ann['Regime'] = []\n",
    "\n",
    "df_dist = {}\n",
    "df_dist['WeightNorm'] = []\n",
    "df_dist['WeightMean'] = []\n",
    "df_dist['WeightInitialization'] = []\n",
    "\n",
    "\n",
    "w = 0\n",
    "for weightinit in weight_init_range:\n",
    "    for sim in range(1,nsimulations+1):\n",
    "        suffix = '_weightinit' + str(weightinit) + bias_init + optim + relu + normalize        \n",
    "        h5f = h5py.File(basedir + 'derivatives/results/analysis5_tiedweights/' + outfilename + str(sim) + '_data1and2_' + str(nhidden) + 'hidden_' + str(nlayers) + 'layers' + suffix + '_mse' + untied + '.h5','r')\n",
    "        tmprsm = h5f['data'][:].copy()\n",
    "        edge_mean, edge_norm, edge_sd, edge_kurtosis = h5f['edge_mean'][:].copy(), h5f['edge_norm'][:].copy(), h5f['edge_sd'][:].copy(), h5f['edge_kurtosis'][:].copy()\n",
    "        bias_mean, bias_norm, bias_sd, bias_kurtosis = h5f['bias_mean'][:].copy(), h5f['bias_norm'][:].copy(), h5f['bias_sd'][:].copy(), h5f['bias_kurtosis'][:].copy()\n",
    "        #\n",
    "        edge_mean_init, edge_norm_init, edge_sd_init, edge_kurtosis_init = h5f['edge_mean_init'][:].copy(), h5f['edge_norm_init'][:].copy(), h5f['edge_sd_init'][:].copy(), h5f['edge_kurtosis_init'][:].copy()\n",
    "        bias_mean_init, bias_norm_init, bias_sd_init, bias_kurtosis_init = h5f['bias_mean_init'][:].copy(), h5f['bias_norm_init'][:].copy(), h5f['bias_sd_init'][:].copy(), h5f['bias_kurtosis_init'][:].copy()\n",
    "        h5f.close()\n",
    "        \n",
    "        norm_mat[:,sim-1,w] = np.mean(np.linalg.norm(edge_norm,axis=2),axis=1)\n",
    "        bias_mat[:,sim-1,w] = np.mean(bias_norm,axis=1)\n",
    "        \n",
    "        norm_mat_init[:,sim-1,w] = np.mean(np.linalg.norm(edge_norm,axis=2),axis=1)\n",
    "        bias_mat_init[:,sim-1,w] = np.mean(bias_norm_init,axis=1)\n",
    "        \n",
    "        df_dist['WeightNorm'].extend(np.mean(edge_norm,axis=1).reshape(-1))\n",
    "        df_dist['WeightMean'].extend(np.mean(edge_mean,axis=1).reshape(-1))\n",
    "        df_dist['WeightInitialization'].extend(np.repeat(weightinit,len(np.mean(edge_mean,axis=1).reshape(-1))))\n",
    "        \n",
    "        df_ann['Simulation'].append(sim)\n",
    "        df_ann['WeightInitialization'].append(weightinit)\n",
    "        df_ann['Training'].append('Trained')\n",
    "        df_ann['WeightNorm'].append(np.mean(np.linalg.norm(edge_norm,axis=2)))\n",
    "        df_ann['WeightMean'].append(np.mean(np.mean(edge_mean,axis=2)))\n",
    "        df_ann['WeightSD'].append(np.mean(np.mean(edge_sd,axis=2)))\n",
    "        df_ann['WeightKurtosis'].append(np.mean(np.mean(edge_kurtosis,axis=2)))\n",
    "        df_ann['BiasNorm'].append(np.mean(bias_norm))\n",
    "        df_ann['BiasMean'].append(np.mean(bias_mean))\n",
    "        df_ann['BiasSD'].append(np.mean(bias_sd))\n",
    "        df_ann['BiasKurtosis'].append(np.mean(bias_kurtosis))\n",
    "        if weightinit<1.0:\n",
    "            df_ann['Regime'].append('Rich')\n",
    "        elif weightinit>1.0:\n",
    "            df_ann['Regime'].append('Lazy')\n",
    "        else:\n",
    "            df_ann['Regime'].append('1.0')\n",
    "            \n",
    "        df_ann['Simulation'].append(sim)\n",
    "        df_ann['WeightInitialization'].append(weightinit)\n",
    "        df_ann['Training'].append('Untrained')\n",
    "        df_ann['WeightNorm'].append(np.mean(np.linalg.norm(edge_norm_init,axis=2)))\n",
    "        df_ann['WeightMean'].append(np.mean(np.mean(edge_mean_init,axis=2)))\n",
    "        df_ann['WeightSD'].append(np.mean(np.mean(edge_sd_init,axis=2)))\n",
    "        df_ann['WeightKurtosis'].append(np.mean(np.mean(edge_kurtosis_init,axis=2)))\n",
    "        df_ann['BiasNorm'].append(np.mean(bias_norm_init))\n",
    "        df_ann['BiasMean'].append(np.mean(bias_mean_init))\n",
    "        df_ann['BiasSD'].append(np.mean(bias_sd_init))\n",
    "        df_ann['BiasKurtosis'].append(np.mean(bias_kurtosis_init))\n",
    "        if weightinit<1.0:\n",
    "            df_ann['Regime'].append('Rich')\n",
    "        elif weightinit>1.0:\n",
    "            df_ann['Regime'].append('Lazy')\n",
    "        else:\n",
    "            df_ann['Regime'].append('1.0')\n",
    "\n",
    "    w += 1\n",
    "        \n",
    "df_ann = pd.DataFrame(df_ann)\n",
    "df_trained = df_ann.loc[df_ann.Training=='Trained']\n",
    "df_untrained = df_ann.loc[df_ann.Training=='Untrained']\n",
    "\n",
    "df_dist = pd.DataFrame(df_dist)"
   ]
  },
  {
   "cell_type": "code",
   "execution_count": 22,
   "id": "021ace74-34d1-4e9f-90fd-41c1fae8983a",
   "metadata": {},
   "outputs": [
    {
     "name": "stdout",
     "output_type": "stream",
     "text": [
      "Rich versus lazy, Relative Kurtosis Change RICH: 0.04105112578254193\n",
      "Rich versus lazy, Relative Kurtosis Change LAZY: 0.001027028989046812\n",
      "Rich versus lazy, Relative Kurtosis Change: 0.04002409679349512\n",
      "\tRich vs. lazy, t = 45.15717715059528 | p = 8.487093522503391e-21\n",
      "Rich versus lazy, Relative Norm Change RICH: 3.9191922158002854\n",
      "Rich versus lazy, Relative Norm Change LAZY: -0.2441518020629882\n",
      "Rich versus lazy, Relative Norm Change Diff: 4.163344017863274\n",
      "\tRich vs. lazy, t = 4136.205175488223 | p = 4.892906699166624e-58\n"
     ]
    },
    {
     "data": {
      "image/png": "[encoded data removed]",
      "text/plain": [
       "<Figure size 122.4x115.2 with 1 Axes>"
      ]
     },
     "metadata": {
      "needs_background": "light"
     },
     "output_type": "display_data"
    },
    {
     "data": {
      "image/png": "[encoded data removed]",
      "text/plain": [
       "<Figure size 122.4x115.2 with 1 Axes>"
      ]
     },
     "metadata": {
      "needs_background": "light"
     },
     "output_type": "display_data"
    }
   ],
   "source": [
    "fig, ax = plt.subplots(figsize=(1.7,1.6))\n",
    "ax1 = sns.lineplot(x=\"WeightInitialization\",y=\"WeightKurtosis\",hue=\"Training\",data=df_ann, palette='Set1')\n",
    "handles, labels = ax1.get_legend_handles_labels()\n",
    "l = plt.legend(handles[-2:], labels[-2:], loc=1, borderaxespad=0.2, handlelength=1, prop={'size': 7})\n",
    "ax.set_title('Weight tailedness', fontsize=10)\n",
    "ax.set_ylabel('Kurtosis',fontsize=9)\n",
    "ax.set_xlabel('Weight init.',fontsize=9)\n",
    "ax.tick_params(labelsize=8)\n",
    "plt.tight_layout()\n",
    "sns.despine()\n",
    "# plt.savefig(figuredir + 'WeightKurtosisVsWeightInit.pdf')\n",
    "\n",
    "plt.figure(figsize=(1.7,1.6))\n",
    "ax = sns.lineplot(x=\"WeightInitialization\",y=\"WeightNorm\",hue=\"Training\",data=df_ann, palette='Set1')\n",
    "handles, labels = ax.get_legend_handles_labels()\n",
    "l = plt.legend(handles[-2:], labels[-2:], loc=4, borderaxespad=0.2, handlelength=1, prop={'size': 7})\n",
    "ax.set_title('Weight strength', fontsize=10)\n",
    "ax.set_ylabel('Norm',fontsize=9)\n",
    "ax.set(yscale='log')\n",
    "ax.set_xlabel('Weight init.',fontsize=9)\n",
    "ax.tick_params(labelsize=8)\n",
    "plt.tight_layout()\n",
    "sns.despine()\n",
    "# plt.savefig(figuredir + 'WeightNormVsWeightInit.pdf')\n",
    "\n",
    "##### RELATIVE KURTOSIS CHANGE\n",
    "### Run rich v. lazy statistics\n",
    "tmprich_trained = df_ann.loc[(df_ann.Regime=='Rich') & (df_ann.Training=='Trained')]\n",
    "tmprich_trained = tmprich_trained.groupby(by=\"Simulation\").mean()\n",
    "tmprich_untrained = df_ann.loc[(df_ann.Regime=='Rich') & (df_ann.Training=='Untrained')]\n",
    "tmprich_untrained = tmprich_untrained.groupby(by=\"Simulation\").mean()\n",
    "tmprich_relative = tmprich_trained.WeightKurtosis.values - tmprich_untrained.WeightKurtosis.values\n",
    "\n",
    "tmplazy_trained = df_ann.loc[(df_ann.Regime=='Lazy') & (df_ann.Training=='Trained')]\n",
    "tmplazy_trained = tmplazy_trained.groupby(by=\"Simulation\").mean()\n",
    "tmplazy_untrained = df_ann.loc[(df_ann.Regime=='Lazy') & (df_ann.Training=='Untrained')]\n",
    "tmplazy_untrained = tmplazy_untrained.groupby(by=\"Simulation\").mean()\n",
    "tmplazy_relative = tmplazy_trained.WeightKurtosis.values - tmplazy_untrained.WeightKurtosis.values\n",
    "\n",
    "t, p = stats.ttest_rel(tmprich_relative,tmplazy_relative)\n",
    "print('Rich versus lazy, Relative Kurtosis Change RICH:', np.mean(tmprich_relative))\n",
    "print('Rich versus lazy, Relative Kurtosis Change LAZY:', np.mean(tmplazy_relative))\n",
    "print('Rich versus lazy, Relative Kurtosis Change:', np.mean(tmprich_relative)-np.mean(tmplazy_relative))\n",
    "print(\"\\tRich vs. lazy, t =\", t, '| p =', p)\n",
    "\n",
    "##### RELATIVE NORM CHANGE\n",
    "### Run rich v. lazy statistics\n",
    "tmprich_trained = df_ann.loc[(df_ann.Regime=='Rich') & (df_ann.Training=='Trained')]\n",
    "tmprich_trained = tmprich_trained.groupby(by=\"Simulation\").mean()\n",
    "tmprich_untrained = df_ann.loc[(df_ann.Regime=='Rich') & (df_ann.Training=='Untrained')]\n",
    "tmprich_untrained = tmprich_untrained.groupby(by=\"Simulation\").mean()\n",
    "tmprich_relative = tmprich_trained.WeightNorm.values - tmprich_untrained.WeightNorm.values\n",
    "\n",
    "tmplazy_trained = df_ann.loc[(df_ann.Regime=='Lazy') & (df_ann.Training=='Trained')]\n",
    "tmplazy_trained = tmplazy_trained.groupby(by=\"Simulation\").mean()\n",
    "tmplazy_untrained = df_ann.loc[(df_ann.Regime=='Lazy') & (df_ann.Training=='Untrained')]\n",
    "tmplazy_untrained = tmplazy_untrained.groupby(by=\"Simulation\").mean()\n",
    "tmplazy_relative = tmplazy_trained.WeightNorm.values - tmplazy_untrained.WeightNorm.values\n",
    "\n",
    "t, p = stats.ttest_rel(tmprich_relative,tmplazy_relative)\n",
    "print('Rich versus lazy, Relative Norm Change RICH:', np.mean(tmprich_relative))\n",
    "print('Rich versus lazy, Relative Norm Change LAZY:', np.mean(tmplazy_relative))\n",
    "print('Rich versus lazy, Relative Norm Change Diff:', np.mean(tmprich_relative)-np.mean(tmplazy_relative))\n",
    "print(\"\\tRich vs. lazy, t =\", t, '| p =', p)"
   ]
  },
  {
   "cell_type": "markdown",
   "id": "7e50cc17-db29-4680-ab92-f44769c893f3",
   "metadata": {},
   "source": [
    "# Plot singular values of weight matrices"
   ]
  },
  {
   "cell_type": "code",
   "execution_count": 24,
   "id": "96505986-7f62-4acc-9d04-7e6a278c6f7b",
   "metadata": {
    "tags": []
   },
   "outputs": [],
   "source": [
    "n_svalues = 50\n",
    "df_svd = {}\n",
    "df_svd['init'] = []\n",
    "df_svd['sim'] = []\n",
    "df_svd['singular'] = []\n",
    "df_svd['singular range'] = []\n",
    "df_svd['layer'] = []\n",
    "\n",
    "w = 0\n",
    "for weightinit in weight_init_range:\n",
    "    for sim in range(1,nsimulations+1):\n",
    "        suffix = '_weightinit' + str(weightinit) + bias_init + optim + relu + normalize    \n",
    "        try:\n",
    "            h5f = h5py.File(basedir + 'derivatives/results/analysis5_tiedweights/' + outfilename + str(sim) + '_data1and2_' + str(nhidden) + 'hidden_' + str(nlayers) + 'layers' + suffix + '_mse' + untied +'.h5','r')\n",
    "            weights = h5f['weights'][:].copy()\n",
    "            h5f.close()\n",
    "\n",
    "            for layer in range(weights.shape[0]):\n",
    "                SVD = sklearn.decomposition.TruncatedSVD(n_svalues)\n",
    "                SVD.fit(weights[layer])\n",
    "                svalues = SVD.explained_variance_ratio_\n",
    "                df_svd['init'].extend(np.repeat(weightinit,n_svalues))\n",
    "                df_svd['sim'].extend(np.repeat(sim,n_svalues))\n",
    "                df_svd['singular'].extend(svalues)\n",
    "                df_svd['singular range'].extend(np.arange(n_svalues))\n",
    "                df_svd['layer'].extend(np.repeat(layer+1,n_svalues))\n",
    "        except:\n",
    "            print(basedir + 'derivatives/results/analysis5_tiedweights/' + outfilename + str(sim) + '_data1and2_' + str(nhidden) + 'hidden_' + str(nlayers) + 'layers' + suffix + '_mse' + untied + '.h5')\n",
    "\n",
    "df_svd = pd.DataFrame(df_svd)"
   ]
  },
  {
   "cell_type": "code",
   "execution_count": 25,
   "id": "89dcd0eb-cbd5-4eb1-b376-6f903b8e78bd",
   "metadata": {},
   "outputs": [
    {
     "data": {
      "image/png": "[encoded data removed]",
      "text/plain": [
       "<Figure size 144x115.2 with 2 Axes>"
      ]
     },
     "metadata": {
      "needs_background": "light"
     },
     "output_type": "display_data"
    }
   ],
   "source": [
    "fig = plt.figure(figsize=(2.0,1.6))\n",
    "ax = sns.lineplot(x='singular range', y ='singular', hue='init', data=df_svd,legend=False,palette='magma')\n",
    "ax.set_ylabel('Var. explained', fontsize=9)\n",
    "ax.set_xlabel('Singular values', fontsize=9)\n",
    "ax.tick_params(labelsize=7)\n",
    "ax.set_title('SVD of ANN weights',fontsize=10)\n",
    "\n",
    "norm = plt.Normalize(df_svd['init'].min(), df_svd['init'].max())\n",
    "sm = plt.cm.ScalarMappable(cmap=\"magma\", norm=norm)\n",
    "sm.set_array([])\n",
    "cax = ax.figure.colorbar(sm)\n",
    "cax.ax.tick_params(labelsize=7)\n",
    "cax.ax.set_ylabel('Weight init.', fontsize=8);\n",
    "plt.tight_layout()\n",
    "sns.despine()\n",
    "plt.savefig(figuredir + 'ANN_WeightSVD.pdf')"
   ]
  },
  {
   "cell_type": "code",
   "execution_count": 33,
   "id": "ab692556-91a7-4db8-b998-05e43f475a6f",
   "metadata": {
    "tags": []
   },
   "outputs": [],
   "source": [
    "df_dim = {}\n",
    "df_dim['init'] = []\n",
    "df_dim['sim'] = []\n",
    "df_dim['dimensionality'] = []\n",
    "df_dim['training'] = []\n",
    "df_dim['layer'] = []\n",
    "\n",
    "w = 0\n",
    "for weightinit in weight_init_range:\n",
    "    for sim in range(1,nsimulations+1):\n",
    "        suffix = '_weightinit' + str(weightinit) + bias_init + optim + relu + normalize    \n",
    "        try:\n",
    "            h5f = h5py.File(basedir + 'derivatives/results/analysis5_tiedweights/' + outfilename + str(sim) + '_data1and2_' + str(nhidden) + 'hidden_' + str(nlayers) + 'layers' + suffix + '_mse' + untied + '.h5','r')\n",
    "            weights = h5f['weights'][:].copy()\n",
    "            h5f.close()\n",
    "\n",
    "            for layer in range(weights.shape[0]):\n",
    "                mat = np.cov(weights[layer])\n",
    "                dim = dimensionality.getDimensionality(mat)\n",
    "                svalues = SVD.explained_variance_ratio_\n",
    "                df_dim['init'].append(weightinit)\n",
    "                df_dim['sim'].append(sim)\n",
    "                df_dim['dimensionality'].append(dim)\n",
    "                df_dim['layer'].append(layer)\n",
    "                if weightinit<1.0:\n",
    "                    df_dim['training'].append('Rich')\n",
    "                elif weightinit>1.0:\n",
    "                    df_dim['training'].append('Lazy')\n",
    "                else: \n",
    "                    df_dim['training'].append(1.0)\n",
    "        except:\n",
    "            print(basedir + 'derivatives/results/analysis5_tiedweights/' + outfilename + str(sim) + '_data1and2_' + str(nhidden) + 'hidden_' + str(nlayers) + 'layers' + suffix + '_mse' + untied + '.h5')\n",
    "\n",
    "df_dim = pd.DataFrame(df_dim)"
   ]
  },
  {
   "cell_type": "code",
   "execution_count": 37,
   "id": "906dd345-0093-4690-8872-fa5250d68734",
   "metadata": {},
   "outputs": [
    {
     "name": "stdout",
     "output_type": "stream",
     "text": [
      "Rich Dimensionality: 65.80993315459264\n",
      "Lazy Dimensionality: 122.92251949357005\n",
      "Rich versus lazy, Dimensionality: -57.11258633897741\n",
      "Rich vs. lazy, t = -1086.8068761371317 | p = 5.224591255399315e-47\n"
     ]
    },
    {
     "data": {
      "image/png": "[encoded data removed]",
      "text/plain": [
       "<Figure size 129.6x122.4 with 1 Axes>"
      ]
     },
     "metadata": {
      "needs_background": "light"
     },
     "output_type": "display_data"
    }
   ],
   "source": [
    "fig, ax1 = plt.subplots(figsize=(1.8,1.7))\n",
    "ax = sns.boxplot(x='init',y='dimensionality',data=df_dim,palette='magma',sym='',whis=[2.5,97.5],linewidth=0.5)\n",
    "ax = sns.stripplot(x='init',y='dimensionality',data=df_dim,palette='magma',size=3,zorder=0,alpha=0.6)\n",
    "plt.xticks(np.arange(0,len(weight_init_range),2),weight_init_range[::2],fontsize=8)\n",
    "plt.title('ANN weight\\ndimensionality',fontsize=10);\n",
    "plt.xlabel('Weight init.',fontsize=9)\n",
    "plt.ylabel('Participation ratio',fontsize=9)\n",
    "ax.tick_params(axis='x',labelsize=8,rotation=0)\n",
    "ax.tick_params(axis='y',labelsize=8,rotation=0)\n",
    "plt.ylim([0,130])\n",
    "plt.tight_layout()\n",
    "sns.despine()\n",
    "# plt.savefig(figuredir + 'ANNWeightDimensionality.pdf')\n",
    "\n",
    "### Run rich v. lazy statistics\n",
    "tmprich = df_dim.loc[df_dim.training=='Rich']\n",
    "tmprich = tmprich.groupby(by=\"sim\").mean()\n",
    "tmplazy = df_dim.loc[df_dim.training=='Lazy']\n",
    "tmplazy = tmplazy.groupby(by=\"sim\").mean()\n",
    "t, p = stats.ttest_rel(tmprich['dimensionality'].values,tmplazy['dimensionality'].values)\n",
    "print('Rich Dimensionality:', np.mean(tmprich['dimensionality'].values))\n",
    "print('Lazy Dimensionality:', np.mean(tmplazy['dimensionality'].values))\n",
    "print('Rich versus lazy, Dimensionality:', np.mean(tmprich['dimensionality'].values)-np.mean(tmplazy['dimensionality'].values))\n",
    "print(\"Rich vs. lazy, t =\", t, '| p =', p)"
   ]
  }
 ],
 "metadata": {
  "kernelspec": {
   "display_name": "Python 3 (ipykernel)",
   "language": "python",
   "name": "python3"
  },
  "language_info": {
   "codemirror_mode": {
    "name": "ipython",
    "version": 3
   },
   "file_extension": ".py",
   "mimetype": "text/x-python",
   "name": "python",
   "nbconvert_exporter": "python",
   "pygments_lexer": "ipython3",
   "version": "3.9.12"
  }
 },
 "nbformat": 4,
 "nbformat_minor": 5
}
