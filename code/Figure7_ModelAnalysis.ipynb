{
 "cells": [
  {
   "cell_type": "markdown",
   "id": "df2f5274-7a65-4df8-9d5c-ac0353ad9c69",
   "metadata": {
    "tags": []
   },
   "source": [
    "# Code for generating Figure 7 from derivative data\n",
    "\n",
    "#### Raw code for generating derivative data is in \n",
    "`analysis5_model_traindat1dat2_richVsLazyLearning.py`\n",
    "#### Batch script is in:\n",
    "`analysis5_batch.sh`, line 35\n",
    "\n",
    "#### Example command (within batch)\n",
    "\n",
    "`python analysis5_model_traindat1dat2_richVsLazyLearning.py --weight_init 1.0 --bias_init 0 --nhidden 500 --normalize --cuda --outfilename analysis5_run${SLURM_ARRAY_TASK_ID}`\n",
    "\n",
    "Note that weight_init needs to be varied according to parameters reported in Methods (0.2 to 2.0, in 0.2 increments)\n",
    "\n",
    "Note that raw code is intended for use on a local Yale cluster, but is included in this repository for completeness\n",
    "\n",
    "In this demo notebook, data for the analysis of trained ANN weights are not provided due to large file size. However, ANNs can be trained using the provided scripts."
   ]
  },
  {
   "cell_type": "code",
   "execution_count": 1,
   "id": "answering-holly",
   "metadata": {},
   "outputs": [],
   "source": [
    "import numpy as np\n",
    "import nibabel as nib\n",
    "import scipy.stats as stats\n",
    "import matplotlib.pyplot as plt\n",
    "import seaborn as sns\n",
    "%matplotlib inline\n",
    "import nilearn.plotting as plotting\n",
    "from importlib import reload\n",
    "import wbplot\n",
    "import warnings\n",
    "warnings.simplefilter(action='ignore', category=FutureWarning)\n",
    "import pandas as pd\n",
    "import matplotlib.image as img \n",
    "import os\n",
    "import h5py\n",
    "import matplotlib.colors as clrs\n",
    "from matplotlib import colorbar\n",
    "plt.rcParams['font.sans-serif'] = \"Arial\"\n",
    "from sklearn.preprocessing import PolynomialFeatures\n",
    "import statsmodels.api as sm\n",
    "import statsmodels.sandbox.stats.multicomp as mc\n",
    "import sklearn\n",
    "import dimensionality"
   ]
  },
  {
   "cell_type": "markdown",
   "id": "otherwise-beginning",
   "metadata": {},
   "source": [
    "#### Set up basic parameters"
   ]
  },
  {
   "cell_type": "code",
   "execution_count": 2,
   "id": "sonic-alert",
   "metadata": {
    "scrolled": true
   },
   "outputs": [],
   "source": [
    "figuredir = '../figures/Fig7/'\n",
    "if not os.path.exists(figuredir): os.makedirs(figuredir)\n",
    "\n",
    "networkdef = np.loadtxt('cortex_parcel_network_assignments.txt')\n",
    "# need to subtract one to make it compatible for python indices\n",
    "indsort = np.loadtxt('cortex_community_order.txt',dtype=int) - 1 \n",
    "indsort.shape = (len(indsort),1)\n",
    "\n",
    "# network mappings for final partition set\n",
    "networkmappings = {'fpn':7, 'vis1':1, 'vis2':2, 'smn':3, 'aud':8, 'lan':6, 'dan':5, 'con':4, 'dmn':9, \n",
    "                   'pmulti':10, 'none1':11, 'none2':12}\n",
    "networks = networkmappings.keys()\n",
    "\n",
    "xticks = {}\n",
    "reorderednetworkaffil = networkdef[indsort]\n",
    "for net in networks:\n",
    "    netNum = networkmappings[net]\n",
    "    netind = np.where(reorderednetworkaffil==netNum)[0]\n",
    "    tick = np.max(netind)\n",
    "    xticks[tick] = net\n",
    "\n",
    "## General parameters/variables\n",
    "nParcels = 360\n",
    "\n",
    "sortednets = np.sort(list(xticks.keys()))\n",
    "orderednetworks = []\n",
    "for net in sortednets: orderednetworks.append(xticks[net])\n",
    "    \n",
    "networkpalette = ['royalblue','slateblue','paleturquoise','darkorchid','limegreen',\n",
    "                  'lightseagreen','yellow','orchid','r','peru','orange','olivedrab']\n",
    "networkpalette = np.asarray(networkpalette)\n",
    "parcel_network_palette = []\n",
    "for roi in range(nParcels): parcel_network_palette.append(networkpalette[int(networkdef[roi]-1)])\n",
    "\n",
    "OrderedNetworks = ['VIS1','VIS2','SMN','CON','DAN','LAN','FPN','AUD','DMN','PMM','VMM','ORA']\n",
    "\n",
    "glasserfilename = 'Q1-Q6_RelatedParcellation210.LR.CorticalAreas_dil_Colors.32k_fs_RL.dlabel.nii'\n",
    "glasser = np.squeeze(nib.load(glasserfilename).get_fdata())\n",
    "\n",
    "#### split up sensorimotor from association network color palettes\n",
    "color1, color2 = sns.color_palette(palette='Pastel1')[1], sns.color_palette(palette='Pastel1')[0]\n",
    "associationnets = ['con','dan','lan','fpn','dmn','pmulti','none1','none2']\n",
    "sensorimotornets = ['vis1','vis2','smn','aud']\n",
    "sensorynets = ['vis1','vis2','aud']\n",
    "motornets = ['smn']\n",
    "\n",
    "roi_id = np.zeros((nParcels,))\n",
    "tmp = {}\n",
    "netcount = 0\n",
    "for network in networkmappings:\n",
    "    net = np.where(networkdef==networkmappings[network])[0]\n",
    "    for roi in net:\n",
    "        if network in associationnets:\n",
    "            tmp[roi] = color1 #'r'\n",
    "            roi_id[roi] = -1\n",
    "        else:\n",
    "            tmp[roi] = color2 #'b'\n",
    "            roi_id[roi] = 1\n",
    "    netcount += 1\n",
    "    \n",
    "roiColorsByNetwork = []\n",
    "for roi in range(len(networkdef)):\n",
    "    roiColorsByNetwork.append(tmp[roi])\n",
    "    \n",
    "def calc_loglikelihood(n, y, ypred):\n",
    "    lnL = 0.5 * (-n * (np.log(2*np.pi) + 1 - np.log(n) + np.log(sum((y-ypred)**2))));\n",
    "    return lnL\n",
    "\n",
    "def exponentialdecay(n0,decay,x):\n",
    "    return n0*np.exp(-decay*x)\n",
    "\n",
    "boxpalette = [sns.color_palette(\"Set2\")[0], sns.color_palette(\"Set2\")[2]]\n",
    "    \n",
    "subIDs = ['02','03','04','06','08','09','10','12','14','15','18','20','22','25','27','29','31','17','19','21','24','26','28','30']\n",
    "sub_with_rest = ['02','03','06','08','10','12','14','18','20','22','24','25','26','27','28','29','30','31'] "
   ]
  },
  {
   "cell_type": "markdown",
   "id": "tribal-desperate",
   "metadata": {},
   "source": [
    "# Model params"
   ]
  },
  {
   "cell_type": "code",
   "execution_count": 3,
   "id": "broadband-pastor",
   "metadata": {},
   "outputs": [],
   "source": [
    "nhidden = 500\n",
    "nlayers = 10\n",
    "outfilename = 'analysis5_run'\n",
    "bias_init = '_biasinit0.0'\n",
    "relu = ''\n",
    "optim = '_optimadam'\n",
    "normalize = '_normalize'\n",
    "weight_init_range = [0.2, 0.4, 0.6, 0.8, 1.0, 1.2, 1.4, 1.6, 1.8, 2.0]\n",
    "untied = ''\n",
    "nsimulations = 20"
   ]
  },
  {
   "cell_type": "markdown",
   "id": "laden-construction",
   "metadata": {},
   "source": [
    "# Load RSMs & dimensionality of different initial weight conditions"
   ]
  },
  {
   "cell_type": "code",
   "execution_count": 4,
   "id": "arranged-textbook",
   "metadata": {
    "tags": []
   },
   "outputs": [],
   "source": [
    "model_rsms = []\n",
    "df_dim_group = pd.DataFrame()\n",
    "for weightinit in weight_init_range:\n",
    "    model_rsms.append([])\n",
    "    for sim in range(1,nsimulations+1):\n",
    "        suffix = '_weightinit' + str(weightinit) + bias_init + optim + relu + normalize\n",
    "        # Load dimensionality\n",
    "        df_dim = pd.read_csv('../processed_data/analysis5_tiedweights/' + outfilename + str(sim) + '_data1and2_' + str(nhidden) + 'hidden_' + str(nlayers) + 'layers' + suffix + '_mse' + untied + '.csv')\n",
    "        tmpdf = df_dim.groupby('Layer',as_index=False).mean()\n",
    "        tmpdf.insert(loc=0,column='WeightInit', value=np.repeat(weightinit,12))\n",
    "        tmpdf.insert(loc=0,column='Simulation', value=np.repeat(sim,12))\n",
    "\n",
    "        df_dim_group = df_dim_group.append(tmpdf)\n",
    "       \n",
    "\n",
    "    \n",
    "# Load in ANN RSMs    \n",
    "h5f = h5py.File('../processed_data/analysis5_tiedweights/analysis5_ann_representations.h5','r')\n",
    "model_rsms = h5f['data'][:].copy()\n",
    "h5f.close()\n"
   ]
  },
  {
   "cell_type": "markdown",
   "id": "separate-venue",
   "metadata": {},
   "source": [
    "# Calculate representational alignment across ANN layers"
   ]
  },
  {
   "cell_type": "code",
   "execution_count": 5,
   "id": "acceptable-watch",
   "metadata": {},
   "outputs": [],
   "source": [
    "alllayers = model_rsms.shape[2]\n",
    "triu_ind = np.triu_indices(45,k=0)\n",
    "ra_mat = np.zeros((len(weight_init_range),nsimulations,alllayers,alllayers))\n",
    "for weightinit in range(len(weight_init_range)):\n",
    "    for sim in range(nsimulations):\n",
    "        for layer1 in range(alllayers):\n",
    "            for layer2 in range(alllayers):\n",
    "                if layer2>layer1:\n",
    "                    cosinesim = np.dot(model_rsms[weightinit,sim,layer1][triu_ind],model_rsms[weightinit,sim,layer2][triu_ind])/(np.linalg.norm(model_rsms[weightinit,sim,layer1][triu_ind]*np.linalg.norm(model_rsms[weightinit,sim,layer2][triu_ind])))\n",
    "                    ra_mat[weightinit,sim,layer1,layer2] = cosinesim\n",
    "        \n",
    "        ra_mat[weightinit,sim] = ra_mat[weightinit,sim] + ra_mat[weightinit,sim].T\n",
    "        np.fill_diagonal(ra_mat[weightinit,sim],1)\n",
    "ra_mat_avg = np.mean(ra_mat,axis=1)"
   ]
  },
  {
   "cell_type": "code",
   "execution_count": 6,
   "id": "2e364de9-6a93-40fe-aefe-48848cceef3b",
   "metadata": {},
   "outputs": [
    {
     "name": "stderr",
     "output_type": "stream",
     "text": [
      "/var/folders/j_/sqyl0rss2cj2rbvf8gs3q1nh5b6ztc/T/ipykernel_91285/443725056.py:27: UserWarning: This figure includes Axes that are not compatible with tight_layout, so results might be incorrect.\n",
      "  fig.tight_layout(rect=[0, 0, .9, 1])\n"
     ]
    },
    {
     "data": {
      "image/png": "[encoded data removed]",
      "text/plain": [
       "<Figure size 498.24x97.2 with 7 Axes>"
      ]
     },
     "metadata": {
      "needs_background": "light"
     },
     "output_type": "display_data"
    }
   ],
   "source": [
    "weights_to_plot = [0.2, 0.4, 0.6, 1.0, 1.2, 1.6]\n",
    "vmin = np.min(ra_mat)\n",
    "vmax = np.max(ra_mat)\n",
    "\n",
    "fig, axn = plt.subplots(1, 6, sharex=True, sharey=True,figsize=(6.92,1.35))\n",
    "cbar_ax = fig.add_axes([.9, .325, .015, .4])\n",
    "i = 0\n",
    "for weight in weights_to_plot:\n",
    "    weight_ind = np.where(np.asarray(weight_init_range)==weight)[0][0]\n",
    "    ax = axn.flat[i]\n",
    "    tmpax = sns.heatmap(ra_mat_avg[weight_ind],square=True, ax=ax, cbar=i == 0, vmin=vmin, vmax=vmax, cmap='magma',cbar_ax=None if i else cbar_ax,cbar_kws={'fraction':0.04,'label':'cosine'})\n",
    "    ax.set_title('Weight init.: ' + str(weight),fontsize=9)\n",
    "    tmpax.invert_yaxis()\n",
    "    tmpax.tick_params(size=2,labelsize=8)\n",
    "    ax.set_yticks([0,5,10])\n",
    "    ax.set_yticklabels([0,5,10])\n",
    "\n",
    "    if i in [0,1,2,3,4, 5, 6, 7]: \n",
    "        ax.set_xlabel('ANN layer',size=8)\n",
    "    if i in [0]:\n",
    "        ax.set_ylabel('ANN layer', fontsize=8)\n",
    "    \n",
    "    i += 1\n",
    "cax = plt.gcf().axes[-1]\n",
    "cax.yaxis.label.set_size(8)\n",
    "cax.tick_params(size=2,labelsize=7)\n",
    "fig.tight_layout(rect=[0, 0, .9, 1])\n",
    "fig.savefig(figuredir + 'ANN_RAMatrix_v2.pdf',transparent=True)\n",
    "\n"
   ]
  },
  {
   "cell_type": "markdown",
   "id": "weekly-creativity",
   "metadata": {},
   "source": [
    "# Plot mean RA cosine across layers"
   ]
  },
  {
   "cell_type": "code",
   "execution_count": 7,
   "id": "burning-freight",
   "metadata": {},
   "outputs": [
    {
     "name": "stdout",
     "output_type": "stream",
     "text": [
      "Rich versus lazy, cosine difference: -0.12119219034799655\n",
      "Rich vs. lazy, t = -124.70290578364514 | p = 3.789290162562279e-29\n"
     ]
    },
    {
     "data": {
      "image/png": "[encoded data removed]",
      "text/plain": [
       "<Figure size 151.2x115.2 with 1 Axes>"
      ]
     },
     "metadata": {
      "needs_background": "light"
     },
     "output_type": "display_data"
    }
   ],
   "source": [
    "mean_cosine = {}\n",
    "mean_cosine['Simulation'] = []\n",
    "mean_cosine['Cosine'] = []\n",
    "mean_cosine['Weight init.'] = []\n",
    "mean_cosine['Training'] = []\n",
    "i = 0\n",
    "for weight in weight_init_range:\n",
    "    ind = np.where(np.asarray(weight_init_range)==weight)[0][0]\n",
    "    for sim in range(nsimulations):\n",
    "        mean_cosine['Simulation'].append(sim)\n",
    "        mean_cosine['Cosine'].append(np.mean(ra_mat[ind,sim]))\n",
    "        mean_cosine['Weight init.'].append(weight)\n",
    "        if weight < 1.0: \n",
    "            mean_cosine['Training'].append(\"Rich\")\n",
    "        elif weight > 1.0: \n",
    "            mean_cosine['Training'].append(\"Lazy\")\n",
    "        else: \n",
    "            mean_cosine['Training'].append(\"1.0\")\n",
    "    i += 1\n",
    "    \n",
    "plt.figure(figsize=(2.1 ,1.6))\n",
    "ax = sns.boxplot(x='Weight init.', y='Cosine', data=mean_cosine, palette='magma', sym='',whis=[2.5,97.5],linewidth=0.25)\n",
    "sns.stripplot(x='Weight init.', y='Cosine', data=mean_cosine, palette='magma',dodge=True,size=3,zorder=0,alpha=0.6)\n",
    "plt.xticks(np.arange(0,len(weight_init_range),3),weight_init_range[::3],rotation=0,fontsize=8)\n",
    "plt.xlabel('Weight init.',fontsize=9)\n",
    "plt.ylabel('Avg. cosine', fontsize=9);\n",
    "plt.yticks(fontsize=8)\n",
    "plt.title('Inter-layer similarity',fontsize=10)\n",
    "plt.tight_layout()\n",
    "sns.despine()\n",
    "plt.savefig(figuredir + 'LayerCosine_Vs_WeightInitialization.pdf',transparent=True)\n",
    "\n",
    "### Run rich v. lazy statistics\n",
    "mean_cosine = pd.DataFrame(mean_cosine)\n",
    "tmprich = mean_cosine.loc[mean_cosine.Training=='Rich']\n",
    "tmprich = tmprich.groupby(by=\"Simulation\").mean()\n",
    "tmplazy = mean_cosine.loc[mean_cosine.Training=='Lazy']\n",
    "tmplazy = tmplazy.groupby(by=\"Simulation\").mean()\n",
    "t, p = stats.ttest_rel(tmprich.Cosine.values,tmplazy.Cosine.values)\n",
    "print('Rich versus lazy, cosine difference:', np.mean(tmprich.Cosine.values)-np.mean(tmplazy.Cosine.values))\n",
    "print(\"Rich vs. lazy, t =\", t, '| p =', p)"
   ]
  },
  {
   "cell_type": "markdown",
   "id": "running-saint",
   "metadata": {},
   "source": [
    "# Plot scree plots for each matrix"
   ]
  },
  {
   "cell_type": "code",
   "execution_count": 8,
   "id": "anticipated-treasurer",
   "metadata": {},
   "outputs": [
    {
     "name": "stdout",
     "output_type": "stream",
     "text": [
      "Rich versus lazy, Variance explained difference: -0.15519227085002174\n",
      "Rich vs. lazy, t = -99.09704361680139 | p = 2.966622894335642e-27\n"
     ]
    },
    {
     "data": {
      "image/png": "[encoded data removed]",
      "text/plain": [
       "<Figure size 165.6x115.2 with 2 Axes>"
      ]
     },
     "metadata": {
      "needs_background": "light"
     },
     "output_type": "display_data"
    },
    {
     "data": {
      "image/png": "[encoded data removed]",
      "text/plain": [
       "<Figure size 151.2x115.2 with 1 Axes>"
      ]
     },
     "metadata": {
      "needs_background": "light"
     },
     "output_type": "display_data"
    }
   ],
   "source": [
    "n_components = 3\n",
    "df_pca = {}\n",
    "df_pca['Weight init.'] = []\n",
    "df_pca['Variance explained'] = []\n",
    "df_pca['Component'] = []\n",
    "df_pca['Simulation'] = []\n",
    "df_pca['Training'] = []\n",
    "\n",
    "principal_gradient_loadings = np.zeros((12,len(weight_init_range),nsimulations))\n",
    "\n",
    "for sim in range(nsimulations):\n",
    "    i = 0\n",
    "    for weight in weight_init_range:\n",
    "        weight_ind = np.where(np.asarray(weight_init_range)==round(weight,1))[0][0]\n",
    "        pca = sklearn.decomposition.PCA(n_components=n_components)\n",
    "        pca.fit(ra_mat[weight_ind,sim,:,:])\n",
    "        var_explained = 0\n",
    "        for comp in range(n_components):\n",
    "            if comp==0: principal_gradient_loadings[:,i,sim] = pca.components_[0]\n",
    "            var_explained += pca.explained_variance_ratio_[comp]\n",
    "            df_pca['Weight init.'].append(round(weight,1))\n",
    "            df_pca['Variance explained'].append(var_explained)\n",
    "            df_pca['Component'].append(comp)\n",
    "            df_pca['Simulation'].append(sim)\n",
    "            if weight < 1.0: \n",
    "                df_pca['Training'].append(\"Rich\")\n",
    "            elif weight > 1.0: \n",
    "                df_pca['Training'].append(\"Lazy\")\n",
    "            else: \n",
    "                df_pca['Training'].append(\"1.0\")\n",
    "        i += 1\n",
    "    \n",
    "df_pca = pd.DataFrame(df_pca)\n",
    "\n",
    "fig = plt.figure(figsize=(2.3,1.6))\n",
    "# ax = plt.subplot(1,1,1,)\n",
    "ax = sns.lineplot(x=\"Component\",y=\"Variance explained\",hue=\"Weight init.\",data=df_pca,palette='magma',legend=False)\n",
    "plt.xticks(np.arange(0,n_components),np.arange(1,n_components+1),fontsize=8)\n",
    "plt.yticks(fontsize=8)\n",
    "plt.title('Dim. of RA',fontsize=10);\n",
    "plt.xlabel('Component',fontsize=9)\n",
    "plt.ylabel('Cumulative\\nvar. explained',fontsize=9)\n",
    "\n",
    "norm = plt.Normalize(df_pca['Weight init.'].min(), df_pca['Weight init.'].max())\n",
    "sm = plt.cm.ScalarMappable(cmap=\"magma\", norm=norm)\n",
    "sm.set_array([])\n",
    "cax = ax.figure.colorbar(sm)\n",
    "cax.ax.tick_params(labelsize=7)\n",
    "cax.ax.set_ylabel('Weight init.', fontsize=8);\n",
    "plt.tight_layout()\n",
    "sns.despine()\n",
    "plt.savefig(figuredir + 'ANNLayer_Screeplot.pdf',transparent=True)\n",
    "\n",
    "\n",
    "tmpdf = df_pca.loc[df_pca.Component==0]\n",
    "\n",
    "fig = plt.figure(figsize=(2.1,1.6))\n",
    "# ax = plt.subplot(1,1,1,)\n",
    "ax = sns.boxplot(x=\"Weight init.\",y=\"Variance explained\",data=tmpdf,palette='magma',sym='',whis=[2.5,97.5],dodge=True,linewidth=0.5)\n",
    "ax = sns.stripplot(x=\"Weight init.\",y=\"Variance explained\",data=tmpdf,palette='magma',size=3,zorder=0,alpha=0.6)\n",
    "plt.xticks(np.arange(0,len(weight_init_range),2),weight_init_range[::2],fontsize=8)\n",
    "# plt.yticks(fontsize=8)\n",
    "plt.title('RA, 1st component',fontsize=10);\n",
    "# plt.xlabel('Component',fontsize=9)\n",
    "plt.xlabel('Weight init.',fontsize=9)\n",
    "plt.ylabel('Var. explained',fontsize=9)\n",
    "ax.tick_params(axis='x',labelsize=8,rotation=0)\n",
    "ax.tick_params(axis='y',labelsize=8,rotation=0)\n",
    "sns.despine()\n",
    "plt.tight_layout()\n",
    "plt.savefig(figuredir + 'ANNLayer_1stCompVarExplained.pdf',transparent=True)\n",
    "\n",
    "### Run rich v. lazy statistics\n",
    "tmprich = tmpdf.loc[tmpdf.Training=='Rich']\n",
    "tmprich = tmprich.groupby(by=\"Simulation\").mean()\n",
    "tmplazy = tmpdf.loc[tmpdf.Training=='Lazy']\n",
    "tmplazy = tmplazy.groupby(by=\"Simulation\").mean()\n",
    "t, p = stats.ttest_rel(tmprich['Variance explained'].values,tmplazy['Variance explained'].values)\n",
    "print('Rich versus lazy, Variance explained difference:', np.mean(tmprich['Variance explained'].values)-np.mean(tmplazy['Variance explained'].values))\n",
    "print(\"Rich vs. lazy, t =\", t, '| p =', p)"
   ]
  },
  {
   "cell_type": "markdown",
   "id": "593a43c7-8a5d-4f8a-98cf-4b17a92b0d8e",
   "metadata": {},
   "source": [
    "# Plot empirical brain RA matrix, sorted by gradient bins"
   ]
  },
  {
   "cell_type": "code",
   "execution_count": 9,
   "id": "16ec3c8a-b560-4ca1-9562-776507c64fdb",
   "metadata": {},
   "outputs": [],
   "source": [
    "# Load RA gradients\n",
    "distance = 'cosine'\n",
    "rsm_matrix = 'cosine'\n",
    "rsm_gradients = np.loadtxt('../processed_data/analysis1/analysis1_' + distance + '_3components_' + rsm_matrix + 'RSMs_representational_gradients.csv')\n",
    "# sorted_hierarchy = sorted(range(len(parcellated_gradients[:,1])), key=lambda k: parcellated_gradients[:,1][k])\n",
    "sorted_hierarchy = sorted(range(len(rsm_gradients[:,0])), key=lambda k: rsm_gradients[:,0][k])\n",
    "\n",
    "# Load RA matrix\n",
    "rep_dist_mat_unthresh = np.loadtxt('../processed_data/analysis1/analysis1_' + distance + '_interregion_representational_distances_' + rsm_matrix + 'RSMs_unthresholded.csv')\n",
    "# Load RSFC gradients, in case\n",
    "parcellated_gradients = np.loadtxt('../processed_data/analysis1/analysis1_restFC_gradients.csv')\n"
   ]
  },
  {
   "cell_type": "code",
   "execution_count": 10,
   "id": "0acd72c9-13e4-45c6-849e-7ecc756da91b",
   "metadata": {},
   "outputs": [
    {
     "data": {
      "image/png": "[encoded data removed]",
      "text/plain": [
       "<Figure size 129.6x129.6 with 2 Axes>"
      ]
     },
     "metadata": {
      "needs_background": "light"
     },
     "output_type": "display_data"
    }
   ],
   "source": [
    "n_hierarchy_bins = 10\n",
    "bin_stepsize = 36\n",
    "sorted_hierarchy = sorted(range(len(rsm_gradients[:,0])), key=lambda k: rsm_gradients[:,0][k])\n",
    "hierarchy_ind = np.asarray(sorted_hierarchy).copy()\n",
    "hierarchy_ind.shape = (len(hierarchy_ind),1)\n",
    "\n",
    "bin_ind = []\n",
    "binstart = 0\n",
    "for bins in range(n_hierarchy_bins):\n",
    "    bin_ind.extend(sorted_hierarchy[binstart:binstart+bin_stepsize])\n",
    "    binstart += bin_stepsize\n",
    "bin_ind = np.asarray(bin_ind)\n",
    "bin_ind.shape = (len(bin_ind),1)\n",
    "indsort = bin_ind.copy()\n",
    "\n",
    "sorted_mat = rep_dist_mat_unthresh[hierarchy_ind,hierarchy_ind.T]\n",
    "plt.figure(figsize=(1.8,1.8))\n",
    "ax = sns.heatmap(data=sorted_mat,square=True,cmap='magma',cbar=True,cbar_kws={\"fraction\":0.046,'label':'cosine'})\n",
    "ax.invert_yaxis()\n",
    "plt.title('Empirical RA\\n sorted by hierarchy',fontsize=10)\n",
    "plt.xlabel(r'Sensory $ \\rightarrow $ Motor',fontsize=8);\n",
    "plt.ylabel(r'Sensory $ \\rightarrow $ Motor',fontsize=8);\n",
    "plt.xticks([]);\n",
    "plt.yticks([]);\n",
    "cax = plt.gcf().axes[-1]\n",
    "cax.yaxis.label.set_size(8)\n",
    "cax.tick_params(size=2,labelsize=7)\n",
    "plt.tight_layout()\n",
    "plt.savefig(figuredir + 'EmpiricalRA_SortByBin.pdf',transparent=True)"
   ]
  },
  {
   "cell_type": "markdown",
   "id": "004fde70-b60e-462d-a633-2b14062f0a32",
   "metadata": {},
   "source": [
    "# Now downsize into a 10x10 RA matrix (for each gradient bin)"
   ]
  },
  {
   "cell_type": "code",
   "execution_count": 11,
   "id": "ede136c3-b8ba-4253-bbdf-3561a117ab68",
   "metadata": {},
   "outputs": [
    {
     "data": {
      "image/png": "[encoded data removed]",
      "text/plain": [
       "<Figure size 129.6x129.6 with 2 Axes>"
      ]
     },
     "metadata": {
      "needs_background": "light"
     },
     "output_type": "display_data"
    }
   ],
   "source": [
    "# Load emiprical RSMs\n",
    "h5f = h5py.File('../processed_data/analysis1/analysis1_regional_rdms_cosine_allsubjs.h5','r')\n",
    "rsms_subj = h5f['data'][:].copy()\n",
    "h5f.close()\n",
    "rsms_empirical = np.mean(np.arctanh(rsms_subj),axis=1)\n",
    "\n",
    "gradbins = []\n",
    "binstart = 0\n",
    "for bins in range(n_hierarchy_bins):\n",
    "    gradbins.append(sorted_hierarchy[binstart:binstart+bin_stepsize])\n",
    "    binstart += bin_stepsize\n",
    "\n",
    "rsms_empirical_downsize = []\n",
    "for bins in range(n_hierarchy_bins):\n",
    "    rsms_empirical_downsize.append(np.mean(rsms_empirical[gradbins[bins]],axis=0))\n",
    "\n",
    "rsms_empirical_downsize = np.asarray(rsms_empirical_downsize)\n",
    "\n",
    "triu_ind = np.triu_indices(45,k=0) # number of task conditions\n",
    "ra_mat_downsize = np.zeros((10,10))\n",
    "for bin_i in range(n_hierarchy_bins):                \n",
    "    for bin_j in range(n_hierarchy_bins):\n",
    "        ra_mat_downsize[bin_i,bin_j] = np.dot(rsms_empirical_downsize[bin_i][triu_ind],rsms_empirical_downsize[bin_j][triu_ind])/(np.linalg.norm(rsms_empirical_downsize[bin_i][triu_ind])*np.linalg.norm(rsms_empirical_downsize[bin_j][triu_ind]))\n",
    "\n",
    "plt.figure(figsize=(1.8,1.8))\n",
    "ax = sns.heatmap(data=ra_mat_downsize,square=True,cmap='magma',cbar=True,cbar_kws={\"fraction\":0.046,'label':'cosine'})\n",
    "ax.invert_yaxis()\n",
    "plt.title('Empirical RA\\nby hierarchical bin',fontsize=10)\n",
    "plt.xlabel('Bins',fontsize=8);\n",
    "plt.ylabel('Bins',fontsize=8);\n",
    "plt.xticks([]);\n",
    "plt.yticks([]);\n",
    "cax = plt.gcf().axes[-1]\n",
    "cax.yaxis.label.set_size(8)\n",
    "cax.tick_params(size=2,labelsize=7)\n",
    "plt.tight_layout()\n",
    "plt.savefig(figuredir + 'EmpiricalRA_Downsized_SortByBin.pdf',transparent=True)"
   ]
  },
  {
   "cell_type": "markdown",
   "id": "4c7826ec-1cc0-4fff-9f9f-6341baa55a68",
   "metadata": {},
   "source": [
    "___"
   ]
  },
  {
   "cell_type": "markdown",
   "id": "a9af5a80-bb8d-400e-84c9-45a0386dffbd",
   "metadata": {},
   "source": [
    "# Supplementary analyses below\n",
    "\n",
    "#### Derivative/processed data were not provided for trained ANN weights due to large data file size, but these models can be trained using provided scripts\n",
    "\n",
    "#### Code below is shown for analytic completeness"
   ]
  },
  {
   "cell_type": "markdown",
   "id": "meaningful-elder",
   "metadata": {},
   "source": [
    "# Assess weight statistics of ANNs for different initialization schemes"
   ]
  },
  {
   "cell_type": "code",
   "execution_count": 10,
   "id": "912f31a9-212d-4eb4-bbdf-488cc83a19e4",
   "metadata": {},
   "outputs": [],
   "source": [
    "nhidden = 500\n",
    "nlayers = 10\n",
    "outfilename = 'analysis5_run'\n",
    "bias_init = '_biasinit0.0'\n",
    "relu = ''\n",
    "optim = '_optimadam'\n",
    "normalize = '_normalize'\n",
    "weight_init_range = [0.2, 0.4, 0.6, 0.8, 1.0, 1.2, 1.4, 1.6, 1.8, 2.0]\n",
    "nsimulations = 20\n",
    "\n",
    "\n",
    "nsubjs=24\n",
    "nlayers=10\n",
    "norm_mat = np.zeros((nsubjs,nsimulations,len(weight_init_range))) # nhidden X nlayers X subjs X simulations X weights\n",
    "bias_mat = np.zeros((nsubjs,nsimulations,len(weight_init_range))) # nhidden X nlayers X subjs X simulations X weights\n",
    "\n",
    "norm_mat_init = np.zeros((nsubjs,nsimulations,len(weight_init_range))) # nhidden X nlayers X subjs X simulations X weights\n",
    "bias_mat_init = np.zeros((nsubjs,nsimulations,len(weight_init_range))) # nhidden X nlayers X subjs X simulations X weights\n",
    "\n",
    "df_ann = {}\n",
    "df_ann['Simulation'] = []\n",
    "df_ann['WeightInitialization'] = []\n",
    "df_ann['Training'] = []\n",
    "df_ann['WeightNorm'] = []\n",
    "df_ann['WeightMean'] = []\n",
    "df_ann['WeightSD'] = []\n",
    "df_ann['WeightKurtosis'] = []\n",
    "df_ann['BiasNorm'] = []\n",
    "df_ann['BiasMean'] = []\n",
    "df_ann['BiasSD'] = []\n",
    "df_ann['BiasKurtosis'] = []\n",
    "df_ann['Regime'] = []\n",
    "\n",
    "df_dist = {}\n",
    "df_dist['WeightNorm'] = []\n",
    "df_dist['WeightMean'] = []\n",
    "df_dist['WeightInitialization'] = []\n",
    "\n",
    "w = 0\n",
    "for weightinit in weight_init_range:\n",
    "    for sim in range(1,nsimulations+1):\n",
    "        suffix = '_weightinit' + str(weightinit) + bias_init + optim + relu + normalize        \n",
    "        h5f = h5py.File('../processed_data/analysis5_tiedweights/' + outfilename + str(sim) + '_data1and2_' + str(nhidden) + 'hidden_' + str(nlayers) + 'layers' + suffix + '_mse.h5','r')\n",
    "        tmprsm = h5f['data'][:].copy()\n",
    "        edge_mean, edge_norm, edge_sd, edge_kurtosis = h5f['edge_mean'][:].copy(), h5f['edge_norm'][:].copy(), h5f['edge_sd'][:].copy(), h5f['edge_kurtosis'][:].copy()\n",
    "        bias_mean, bias_norm, bias_sd, bias_kurtosis = h5f['bias_mean'][:].copy(), h5f['bias_norm'][:].copy(), h5f['bias_sd'][:].copy(), h5f['bias_kurtosis'][:].copy()\n",
    "        #\n",
    "        edge_mean_init, edge_norm_init, edge_sd_init, edge_kurtosis_init = h5f['edge_mean_init'][:].copy(), h5f['edge_norm_init'][:].copy(), h5f['edge_sd_init'][:].copy(), h5f['edge_kurtosis_init'][:].copy()\n",
    "        bias_mean_init, bias_norm_init, bias_sd_init, bias_kurtosis_init = h5f['bias_mean_init'][:].copy(), h5f['bias_norm_init'][:].copy(), h5f['bias_sd_init'][:].copy(), h5f['bias_kurtosis_init'][:].copy()\n",
    "        h5f.close()\n",
    "        \n",
    "        norm_mat[:,sim-1,w] = np.mean(np.linalg.norm(edge_norm,axis=2),axis=1)\n",
    "        bias_mat[:,sim-1,w] = np.mean(bias_norm,axis=1)\n",
    "        \n",
    "        norm_mat_init[:,sim-1,w] = np.mean(np.linalg.norm(edge_norm,axis=2),axis=1)\n",
    "        bias_mat_init[:,sim-1,w] = np.mean(bias_norm_init,axis=1)\n",
    "        \n",
    "        df_dist['WeightNorm'].extend(np.mean(edge_norm,axis=1).reshape(-1))\n",
    "        df_dist['WeightMean'].extend(np.mean(edge_mean,axis=1).reshape(-1))\n",
    "        df_dist['WeightInitialization'].extend(np.repeat(weightinit,len(np.mean(edge_mean,axis=1).reshape(-1))))\n",
    "        \n",
    "        df_ann['Simulation'].append(sim)\n",
    "        df_ann['WeightInitialization'].append(weightinit)\n",
    "        df_ann['Training'].append('Trained')\n",
    "        df_ann['WeightNorm'].append(np.mean(np.linalg.norm(edge_norm,axis=2)))\n",
    "        df_ann['WeightMean'].append(np.mean(np.mean(edge_mean,axis=2)))\n",
    "        df_ann['WeightSD'].append(np.mean(np.mean(edge_sd,axis=2)))\n",
    "        df_ann['WeightKurtosis'].append(np.mean(np.mean(edge_kurtosis,axis=2)))\n",
    "        df_ann['BiasNorm'].append(np.mean(bias_norm))\n",
    "        df_ann['BiasMean'].append(np.mean(bias_mean))\n",
    "        df_ann['BiasSD'].append(np.mean(bias_sd))\n",
    "        df_ann['BiasKurtosis'].append(np.mean(bias_kurtosis))\n",
    "        if weightinit<1.0:\n",
    "            df_ann['Regime'].append('Rich')\n",
    "        elif weightinit>1.0:\n",
    "            df_ann['Regime'].append('Lazy')\n",
    "        else:\n",
    "            df_ann['Regime'].append('1.0')\n",
    "            \n",
    "        df_ann['Simulation'].append(sim)\n",
    "        df_ann['WeightInitialization'].append(weightinit)\n",
    "        df_ann['Training'].append('Untrained')\n",
    "        df_ann['WeightNorm'].append(np.mean(np.linalg.norm(edge_norm_init,axis=2)))\n",
    "        df_ann['WeightMean'].append(np.mean(np.mean(edge_mean_init,axis=2)))\n",
    "        df_ann['WeightSD'].append(np.mean(np.mean(edge_sd_init,axis=2)))\n",
    "        df_ann['WeightKurtosis'].append(np.mean(np.mean(edge_kurtosis_init,axis=2)))\n",
    "        df_ann['BiasNorm'].append(np.mean(bias_norm_init))\n",
    "        df_ann['BiasMean'].append(np.mean(bias_mean_init))\n",
    "        df_ann['BiasSD'].append(np.mean(bias_sd_init))\n",
    "        df_ann['BiasKurtosis'].append(np.mean(bias_kurtosis_init))\n",
    "        if weightinit<1.0:\n",
    "            df_ann['Regime'].append('Rich')\n",
    "        elif weightinit>1.0:\n",
    "            df_ann['Regime'].append('Lazy')\n",
    "        else:\n",
    "            df_ann['Regime'].append('1.0')\n",
    "\n",
    "    w += 1\n",
    "        \n",
    "df_ann = pd.DataFrame(df_ann)\n",
    "df_trained = df_ann.loc[df_ann.Training=='Trained']\n",
    "df_untrained = df_ann.loc[df_ann.Training=='Untrained']\n",
    "\n",
    "df_dist = pd.DataFrame(df_dist)"
   ]
  },
  {
   "cell_type": "code",
   "execution_count": 11,
   "id": "c635a623-4ee7-4f66-8ff5-a48b17abfe00",
   "metadata": {},
   "outputs": [
    {
     "name": "stdout",
     "output_type": "stream",
     "text": [
      "Rich versus lazy, Relative Kurtosis Change RICH: 0.2727933220565319\n",
      "Rich versus lazy, Relative Kurtosis Change LAZY: 0.0012781133316457267\n",
      "Rich versus lazy, Relative Kurtosis Change: 0.27151520872488616\n",
      "\tRich vs. lazy, t = 192.1997401654216 | p = 1.0272758688316004e-32\n",
      "Rich versus lazy, Relative Norm Change RICH: 2.3695581793785094\n",
      "Rich versus lazy, Relative Norm Change LAZY: -0.4001055908203128\n",
      "Rich versus lazy, Relative Norm Change Diff: 2.769663770198822\n",
      "\tRich vs. lazy, t = 3038.3770558471447 | p = 1.7171606284875693e-55\n"
     ]
    },
    {
     "data": {
      "image/png": "[encoded data removed]",
      "text/plain": [
       "<Figure size 151.2x115.2 with 1 Axes>"
      ]
     },
     "metadata": {
      "needs_background": "light"
     },
     "output_type": "display_data"
    },
    {
     "data": {
      "image/png": "[encoded data removed]",
      "text/plain": [
       "<Figure size 151.2x115.2 with 1 Axes>"
      ]
     },
     "metadata": {
      "needs_background": "light"
     },
     "output_type": "display_data"
    }
   ],
   "source": [
    "fig, ax = plt.subplots(figsize=(2.1,1.6))\n",
    "ax1 = sns.lineplot(x=\"WeightInitialization\",y=\"WeightKurtosis\",hue=\"Training\",data=df_ann, palette='Set1')\n",
    "handles, labels = ax1.get_legend_handles_labels()\n",
    "l = plt.legend(handles[-2:], labels[-2:], loc=1, borderaxespad=0.2, handlelength=1, prop={'size': 7})\n",
    "ax.set_title('Weight tailedness', fontsize=10)\n",
    "ax.set_ylabel('Kurtosis',fontsize=9)\n",
    "ax.set_xlabel('Weight init.',fontsize=9)\n",
    "ax.tick_params(labelsize=8)\n",
    "plt.tight_layout()\n",
    "sns.despine()\n",
    "# plt.savefig(figuredir + 'WeightKurtosisVsWeightInit.pdf',transparent=True)\n",
    "\n",
    "plt.figure(figsize=(2.1,1.6))\n",
    "ax = sns.lineplot(x=\"WeightInitialization\",y=\"WeightNorm\",hue=\"Training\",data=df_ann, palette='Set1')\n",
    "handles, labels = ax.get_legend_handles_labels()\n",
    "l = plt.legend(handles[-2:], labels[-2:], loc=4, borderaxespad=0.2, handlelength=1, prop={'size': 7})\n",
    "ax.set_title('Weight strength', fontsize=10)\n",
    "ax.set_ylabel('Norm',fontsize=9)\n",
    "ax.set(yscale='log')\n",
    "ax.set_xlabel('Weight init.',fontsize=9)\n",
    "ax.tick_params(labelsize=8)\n",
    "plt.tight_layout()\n",
    "sns.despine()\n",
    "# plt.savefig(figuredir + 'WeightNormVsWeightInit.pdf',transparent=True)\n",
    "\n",
    "##### RELATIVE KURTOSIS CHANGE\n",
    "### Run rich v. lazy statistics\n",
    "tmprich_trained = df_ann.loc[(df_ann.Regime=='Rich') & (df_ann.Training=='Trained')]\n",
    "tmprich_trained = tmprich_trained.groupby(by=\"Simulation\").mean()\n",
    "tmprich_untrained = df_ann.loc[(df_ann.Regime=='Rich') & (df_ann.Training=='Untrained')]\n",
    "tmprich_untrained = tmprich_untrained.groupby(by=\"Simulation\").mean()\n",
    "tmprich_relative = tmprich_trained.WeightKurtosis.values - tmprich_untrained.WeightKurtosis.values\n",
    "\n",
    "tmplazy_trained = df_ann.loc[(df_ann.Regime=='Lazy') & (df_ann.Training=='Trained')]\n",
    "tmplazy_trained = tmplazy_trained.groupby(by=\"Simulation\").mean()\n",
    "tmplazy_untrained = df_ann.loc[(df_ann.Regime=='Lazy') & (df_ann.Training=='Untrained')]\n",
    "tmplazy_untrained = tmplazy_untrained.groupby(by=\"Simulation\").mean()\n",
    "tmplazy_relative = tmplazy_trained.WeightKurtosis.values - tmplazy_untrained.WeightKurtosis.values\n",
    "\n",
    "t, p = stats.ttest_rel(tmprich_relative,tmplazy_relative)\n",
    "print('Rich versus lazy, Relative Kurtosis Change RICH:', np.mean(tmprich_relative))\n",
    "print('Rich versus lazy, Relative Kurtosis Change LAZY:', np.mean(tmplazy_relative))\n",
    "print('Rich versus lazy, Relative Kurtosis Change:', np.mean(tmprich_relative)-np.mean(tmplazy_relative))\n",
    "print(\"\\tRich vs. lazy, t =\", t, '| p =', p)\n",
    "\n",
    "##### RELATIVE NORM CHANGE\n",
    "### Run rich v. lazy statistics\n",
    "tmprich_trained = df_ann.loc[(df_ann.Regime=='Rich') & (df_ann.Training=='Trained')]\n",
    "tmprich_trained = tmprich_trained.groupby(by=\"Simulation\").mean()\n",
    "tmprich_untrained = df_ann.loc[(df_ann.Regime=='Rich') & (df_ann.Training=='Untrained')]\n",
    "tmprich_untrained = tmprich_untrained.groupby(by=\"Simulation\").mean()\n",
    "tmprich_relative = tmprich_trained.WeightNorm.values - tmprich_untrained.WeightNorm.values\n",
    "\n",
    "tmplazy_trained = df_ann.loc[(df_ann.Regime=='Lazy') & (df_ann.Training=='Trained')]\n",
    "tmplazy_trained = tmplazy_trained.groupby(by=\"Simulation\").mean()\n",
    "tmplazy_untrained = df_ann.loc[(df_ann.Regime=='Lazy') & (df_ann.Training=='Untrained')]\n",
    "tmplazy_untrained = tmplazy_untrained.groupby(by=\"Simulation\").mean()\n",
    "tmplazy_relative = tmplazy_trained.WeightNorm.values - tmplazy_untrained.WeightNorm.values\n",
    "\n",
    "t, p = stats.ttest_rel(tmprich_relative,tmplazy_relative)\n",
    "print('Rich versus lazy, Relative Norm Change RICH:', np.mean(tmprich_relative))\n",
    "print('Rich versus lazy, Relative Norm Change LAZY:', np.mean(tmplazy_relative))\n",
    "print('Rich versus lazy, Relative Norm Change Diff:', np.mean(tmprich_relative)-np.mean(tmplazy_relative))\n",
    "print(\"\\tRich vs. lazy, t =\", t, '| p =', p)"
   ]
  },
  {
   "cell_type": "markdown",
   "id": "df162ece-c5b8-4488-9d40-cf1266b5f453",
   "metadata": {},
   "source": [
    "# Plot singular values of weight matrices"
   ]
  },
  {
   "cell_type": "code",
   "execution_count": 17,
   "id": "66a59c0d-16f1-4f43-a4d8-14b9132303f3",
   "metadata": {},
   "outputs": [],
   "source": [
    "n_svalues = 50\n",
    "df_svd = {}\n",
    "df_svd['init'] = []\n",
    "df_svd['sim'] = []\n",
    "df_svd['singular'] = []\n",
    "df_svd['singular range'] = []\n",
    "\n",
    "w = 0\n",
    "for weightinit in weight_init_range:\n",
    "    for sim in range(1,nsimulations+1):\n",
    "        suffix = '_weightinit' + str(weightinit) + bias_init + optim + relu + normalize    \n",
    "        try:\n",
    "            h5f = h5py.File(basedir + 'derivatives/results/analysis5_tiedweights/' + outfilename + str(sim) + '_data1and2_' + str(nhidden) + 'hidden_' + str(nlayers) + 'layers' + suffix + '_mse.h5','r')\n",
    "            weights = h5f['weights'][:].copy()\n",
    "            SVD = sklearn.decomposition.TruncatedSVD(n_svalues)\n",
    "            SVD.fit(weights)\n",
    "            svalues = SVD.explained_variance_ratio_\n",
    "            df_svd['init'].extend(np.repeat(weightinit,n_svalues))\n",
    "            df_svd['sim'].extend(np.repeat(sim,n_svalues))\n",
    "            df_svd['singular'].extend(svalues)\n",
    "            df_svd['singular range'].extend(np.arange(n_svalues))\n",
    "            h5f.close()\n",
    "        except:\n",
    "            print(basedir + 'derivatives/results/analysis5_tiedweights/' + outfilename + str(sim) + '_data1and2_' + str(nhidden) + 'hidden_' + str(nlayers) + 'layers' + suffix + '_mse.h5')\n",
    "\n",
    "df_svd = pd.DataFrame(df_svd)"
   ]
  },
  {
   "cell_type": "code",
   "execution_count": 18,
   "id": "0d491317-5271-4fcf-97a1-6383404e10ce",
   "metadata": {},
   "outputs": [
    {
     "data": {
      "image/png": "[encoded data removed]",
      "text/plain": [
       "<Figure size 144x115.2 with 2 Axes>"
      ]
     },
     "metadata": {
      "needs_background": "light"
     },
     "output_type": "display_data"
    }
   ],
   "source": [
    "fig = plt.figure(figsize=(2.0,1.6))\n",
    "ax = sns.lineplot(x='singular range', y ='singular', hue='init', data=df_svd,legend=False,palette='magma')\n",
    "ax.set_ylabel('Var. explained', fontsize=9)\n",
    "ax.set_xlabel('Singular values', fontsize=9)\n",
    "ax.tick_params(labelsize=7)\n",
    "ax.set_title('SVD of ANN weights',fontsize=10)\n",
    "\n",
    "norm = plt.Normalize(df_svd['init'].min(), df_svd['init'].max())\n",
    "sm = plt.cm.ScalarMappable(cmap=\"magma\", norm=norm)\n",
    "sm.set_array([])\n",
    "cax = ax.figure.colorbar(sm)\n",
    "cax.ax.tick_params(labelsize=7)\n",
    "cax.ax.set_ylabel('Weight init.', fontsize=8);\n",
    "plt.tight_layout()\n",
    "# plt.savefig(figuredir + 'ANN_WeightSVD.pdf',transparent=True)"
   ]
  },
  {
   "cell_type": "code",
   "execution_count": 19,
   "id": "c8a14783-1ec9-4530-b954-5e014fde482c",
   "metadata": {},
   "outputs": [],
   "source": [
    "df_dim = {}\n",
    "df_dim['init'] = []\n",
    "df_dim['sim'] = []\n",
    "df_dim['dimensionality'] = []\n",
    "df_dim['training'] = []\n",
    "\n",
    "w = 0\n",
    "for weightinit in weight_init_range:\n",
    "# for weightinit in [0.2, ]:\n",
    "    for sim in range(1,nsimulations+1):\n",
    "        suffix = '_weightinit' + str(weightinit) + bias_init + optim + relu + normalize    \n",
    "        try:\n",
    "            h5f = h5py.File(basedir + 'derivatives/results/analysis5_tiedweights/' + outfilename + str(sim) + '_data1and2_' + str(nhidden) + 'hidden_' + str(nlayers) + 'layers' + suffix + '_mse.h5','r')\n",
    "            weights = h5f['weights'][:].copy()\n",
    "            h5f.close()\n",
    "\n",
    "            mat = np.cov(weights)\n",
    "            dim = dimensionality.getDimensionality(mat)\n",
    "            svalues = SVD.explained_variance_ratio_\n",
    "            df_dim['init'].append(weightinit)\n",
    "            df_dim['sim'].append(sim)\n",
    "            df_dim['dimensionality'].append(dim)\n",
    "            if weightinit<1.0:\n",
    "                df_dim['training'].append('Rich')\n",
    "            elif weightinit>1.0:\n",
    "                df_dim['training'].append('Lazy')\n",
    "            else: \n",
    "                df_dim['training'].append(1.0)\n",
    "        except:\n",
    "            print(basedir + 'derivatives/results/analysis5_tiedweights/' + outfilename + str(sim) + '_data1and2_' + str(nhidden) + 'hidden_' + str(nlayers) + 'layers' + suffix + '_mse.h5')\n",
    "\n",
    "df_dim = pd.DataFrame(df_dim)"
   ]
  },
  {
   "cell_type": "code",
   "execution_count": 26,
   "id": "164aa311-4068-44a3-a3a1-4a549d4edab0",
   "metadata": {},
   "outputs": [
    {
     "name": "stdout",
     "output_type": "stream",
     "text": [
      "Rich Dimensionality: 142.31330420145127\n",
      "Lazy Dimensionality: 247.92180588892205\n",
      "Rich versus lazy, Dimensionality: -105.60850168747078\n",
      "Rich vs. lazy, t = -913.8587629295677 | p = 1.406755988813277e-45\n"
     ]
    },
    {
     "data": {
      "image/png": "[encoded data removed]",
      "text/plain": [
       "<Figure size 151.2x122.4 with 1 Axes>"
      ]
     },
     "metadata": {
      "needs_background": "light"
     },
     "output_type": "display_data"
    }
   ],
   "source": [
    "fig, ax1 = plt.subplots(figsize=(2.1,1.7))\n",
    "ax = sns.boxplot(x='init',y='dimensionality',data=df_dim,palette='magma',sym='',whis=[2.5,97.5],linewidth=0.5)\n",
    "ax = sns.stripplot(x='init',y='dimensionality',data=df_dim,palette='magma',size=3,zorder=0,alpha=0.6)\n",
    "plt.xticks(np.arange(0,len(weight_init_range),2),weight_init_range[::2],fontsize=8)\n",
    "# plt.yticks(fontsize=8)\n",
    "plt.title('ANN weight\\ndimensionality',fontsize=10);\n",
    "# plt.xlabel('Component',fontsize=9)\n",
    "plt.xlabel('Weight init.',fontsize=9)\n",
    "plt.ylabel('Participation ratio',fontsize=9)\n",
    "ax.tick_params(axis='x',labelsize=8,rotation=0)\n",
    "ax.tick_params(axis='y',labelsize=8,rotation=0)\n",
    "plt.ylim([0,260])\n",
    "plt.tight_layout()\n",
    "sns.despine()\n",
    "plt.savefig(figuredir + 'ANNWeightDimensionality.pdf',transparent=True)\n",
    "\n",
    "### Run rich v. lazy statistics\n",
    "tmprich = df_dim.loc[df_dim.training=='Rich']\n",
    "tmprich = tmprich.groupby(by=\"sim\").mean()\n",
    "tmplazy = df_dim.loc[df_dim.training=='Lazy']\n",
    "tmplazy = tmplazy.groupby(by=\"sim\").mean()\n",
    "t, p = stats.ttest_rel(tmprich['dimensionality'].values,tmplazy['dimensionality'].values)\n",
    "print('Rich Dimensionality:', np.mean(tmprich['dimensionality'].values))\n",
    "print('Lazy Dimensionality:', np.mean(tmplazy['dimensionality'].values))\n",
    "print('Rich versus lazy, Dimensionality:', np.mean(tmprich['dimensionality'].values)-np.mean(tmplazy['dimensionality'].values))\n",
    "print(\"Rich vs. lazy, t =\", t, '| p =', p)"
   ]
  }
 ],
 "metadata": {
  "kernelspec": {
   "display_name": "Python 3 (ipykernel)",
   "language": "python",
   "name": "python3"
  },
  "language_info": {
   "codemirror_mode": {
    "name": "ipython",
    "version": 3
   },
   "file_extension": ".py",
   "mimetype": "text/x-python",
   "name": "python",
   "nbconvert_exporter": "python",
   "pygments_lexer": "ipython3",
   "version": "3.9.12"
  }
 },
 "nbformat": 4,
 "nbformat_minor": 5
}
