{
 "cells": [
  {
   "cell_type": "markdown",
   "id": "e9b66015-57f7-488c-be02-8452a1232175",
   "metadata": {
    "tags": []
   },
   "source": [
    "# Code for generating Figure 4 and SFig 3 panels from derivative data\n",
    "\n",
    "\n",
    "Code to compute dimensionality using the participation ratio of RSMs is here: `python analysis1_compute_regional_RDMs.py`\n",
    "\n",
    "Code to compute multi-task decodability is here: `python analysis3_regional_decodability.py --decoder 'cosine'`\n",
    "\n",
    "Note that raw code is intended for use on a local Yale cluster, but is included in this repository for completeness"
   ]
  },
  {
   "cell_type": "code",
   "execution_count": 1,
   "id": "committed-organ",
   "metadata": {},
   "outputs": [],
   "source": [
    "import numpy as np\n",
    "import nibabel as nib\n",
    "import scipy.stats as stats\n",
    "import matplotlib.pyplot as plt\n",
    "import seaborn as sns\n",
    "%matplotlib inline\n",
    "import nilearn.plotting as plotting\n",
    "from importlib import reload\n",
    "import wbplot\n",
    "import pandas as pd\n",
    "import matplotlib.image as img \n",
    "import os\n",
    "import h5py\n",
    "import matplotlib.colors as clrs\n",
    "from matplotlib import colorbar\n",
    "plt.rcParams['font.sans-serif'] = \"Arial\"\n",
    "import statsmodels.api as sm\n",
    "from sklearn.preprocessing import PolynomialFeatures\n",
    "\n",
    "from brainsmash.mapgen.base import Base\n",
    "from brainsmash.mapgen.stats import pearsonr, pairwise_r\n",
    "from brainsmash.mapgen.stats import nonparp"
   ]
  },
  {
   "cell_type": "markdown",
   "id": "third-microwave",
   "metadata": {},
   "source": [
    "#### Set up basic parameters"
   ]
  },
  {
   "cell_type": "code",
   "execution_count": 2,
   "id": "impossible-algorithm",
   "metadata": {
    "scrolled": true
   },
   "outputs": [],
   "source": [
    "figuredir = '../figures/Fig4/'\n",
    "if not os.path.exists(figuredir): os.makedirs(figuredir)\n",
    "\n",
    "networkdef = np.loadtxt('cortex_parcel_network_assignments.txt')\n",
    "# need to subtract one to make it compatible for python indices\n",
    "indsort = np.loadtxt('cortex_community_order.txt',dtype=int) - 1 \n",
    "indsort.shape = (len(indsort),1)\n",
    "\n",
    "# network mappings for final partition set\n",
    "networkmappings = {'fpn':7, 'vis1':1, 'vis2':2, 'smn':3, 'aud':8, 'lan':6, 'dan':5, 'con':4, 'dmn':9, \n",
    "                   'pmulti':10, 'none1':11, 'none2':12}\n",
    "networks = networkmappings.keys()\n",
    "\n",
    "xticks = {}\n",
    "reorderednetworkaffil = networkdef[indsort]\n",
    "for net in networks:\n",
    "    netNum = networkmappings[net]\n",
    "    netind = np.where(reorderednetworkaffil==netNum)[0]\n",
    "    tick = np.max(netind)\n",
    "    xticks[tick] = net\n",
    "\n",
    "## General parameters/variables\n",
    "nParcels = 360\n",
    "\n",
    "sortednets = np.sort(list(xticks.keys()))\n",
    "orderednetworks = []\n",
    "for net in sortednets: orderednetworks.append(xticks[net])\n",
    "    \n",
    "networkpalette = ['royalblue','slateblue','paleturquoise','darkorchid','limegreen',\n",
    "                  'lightseagreen','yellow','orchid','r','peru','orange','olivedrab']\n",
    "networkpalette = np.asarray(networkpalette)\n",
    "parcel_network_palette = []\n",
    "for roi in range(nParcels): parcel_network_palette.append(networkpalette[int(networkdef[roi]-1)])\n",
    "\n",
    "OrderedNetworks = ['VIS1','VIS2','SMN','CON','DAN','LAN','FPN','AUD','DMN','PMM','VMM','ORA']\n",
    "\n",
    "glasserfilename = 'Q1-Q6_RelatedParcellation210.LR.CorticalAreas_dil_Colors.32k_fs_RL.dlabel.nii'\n",
    "glasser = np.squeeze(nib.load(glasserfilename).get_fdata())\n",
    "\n",
    "#### split up sensorimotor from association network color palettes\n",
    "color1, color2 = sns.color_palette(palette='Pastel1')[1], sns.color_palette(palette='Pastel1')[0]\n",
    "associationnets = ['con','dan','lan','fpn','dmn','pmulti','none1','none2']\n",
    "sensorimotornets = ['vis1','vis2','smn','aud']\n",
    "\n",
    "roi_id = np.zeros((nParcels,))\n",
    "tmp = {}\n",
    "netcount = 0\n",
    "for network in networkmappings:\n",
    "    net = np.where(networkdef==networkmappings[network])[0]\n",
    "    for roi in net:\n",
    "        if network in associationnets:\n",
    "            tmp[roi] = color1 #'r'\n",
    "            roi_id[roi] = -1\n",
    "        else:\n",
    "            tmp[roi] = color2 #'b'\n",
    "            roi_id[roi] = 1\n",
    "    netcount += 1\n",
    "    \n",
    "roiColorsByNetwork = []\n",
    "for roi in range(len(networkdef)):\n",
    "    roiColorsByNetwork.append(tmp[roi])\n",
    "    \n",
    "    \n",
    "subIDs = ['02','03','04','06','08','09','10','12','14','15','18','20','22','25','27','29','31','17','19','21','24','26','28','30']\n",
    "sub_with_rest = ['02','03','06','08','10','12','14','18','20','22','24','25','26','27','28','29','30','31'] "
   ]
  },
  {
   "cell_type": "markdown",
   "id": "dominican-bosnia",
   "metadata": {},
   "source": [
    "# Load multi-task representational dimensionality and margulies gradients"
   ]
  },
  {
   "cell_type": "code",
   "execution_count": 4,
   "id": "wrapped-subscriber",
   "metadata": {
    "tags": []
   },
   "outputs": [],
   "source": [
    "df_dim = pd.read_csv('../processed_data/analysis1/analysis1_parcel_cosine_dimensionality.csv')\n",
    "avg_dim = []\n",
    "for i in range(nParcels):\n",
    "    roi_ind = np.where(glasser==roi+1)[0]\n",
    "    avg_dim.append(df_dim.Dimensionality[df_dim.Parcels==i+1].mean())\n",
    "avg_dim = np.asarray(avg_dim)\n"
   ]
  },
  {
   "cell_type": "markdown",
   "id": "nuclear-republic",
   "metadata": {},
   "source": [
    "# Gradient 1"
   ]
  },
  {
   "cell_type": "code",
   "execution_count": 6,
   "id": "conventional-reason",
   "metadata": {},
   "outputs": [
    {
     "data": {
      "image/png": "[encoded data removed]",
      "text/plain": [
       "<Figure size 126x126 with 1 Axes>"
      ]
     },
     "metadata": {
      "needs_background": "light"
     },
     "output_type": "display_data"
    }
   ],
   "source": [
    "from matplotlib import cm\n",
    "from matplotlib.colors import ListedColormap, LinearSegmentedColormap\n",
    "top = cm.get_cmap('Oranges_r', 128)\n",
    "bottom = cm.get_cmap('Blues', 128)\n",
    "\n",
    "newcolors = np.vstack((top(np.linspace(0, 1, 128)),\n",
    "                       bottom(np.linspace(0, 1, 128))))\n",
    "\n",
    "newcmp = ListedColormap(newcolors[::-1], name='OrangeBlue')\n",
    "\n",
    "parcellated_gradients = np.loadtxt('../processed_data/analysis1/analysis1_restFC_gradients.csv')\n",
    "i = 0\n",
    "if not os.path.exists(figuredir + 'Parcellated_MDTB_RestGradient' + str(i+1) + '.png'):\n",
    "    tmp = np.hstack((parcellated_gradients[180:,i],parcellated_gradients[:180,i]))\n",
    "    vrange = np.max([np.abs(np.min(tmp)),np.max(tmp)])\n",
    "    wbplot.pscalar(figuredir + 'Parcellated_MDTB_RestGradient' + str(i+1) + '.png',tmp,vrange=(-vrange, vrange),cmap=newcmp)\n",
    "\n",
    "\n",
    "plt.figure(figsize=(1.75,1.75))\n",
    "ax = plt.subplot(111)\n",
    "im = img.imread(figuredir + 'Parcellated_MDTB_RestGradient' + str(i+1) + '.png') \n",
    "#     im = img.imread(figuredir + 'Parcellated_TaskDimensionality_' + rsm_matrix + '.png') \n",
    "plt.imshow(im)\n",
    "plt.axis('off')\n",
    "#\n",
    "vmin, vmax = np.min(parcellated_gradients[:,i]), np.max(parcellated_gradients[:,i])\n",
    "cnorm = clrs.Normalize(vmin=vmin, vmax=vmax)  # only important for tick placing\n",
    "cmap = newcmp\n",
    "cax = ax.inset_axes([0.44, 0.48, 0.12, 0.07])\n",
    "cbar = colorbar.ColorbarBase(\n",
    "    cax, cmap=cmap, norm=cnorm, orientation='horizontal')\n",
    "cbar.set_ticks([-2, 2])  # don't need to do this since we're going to hide them\n",
    "cax.get_xaxis().set_tick_params(length=0, pad=-2)\n",
    "cbar.set_ticklabels([])\n",
    "cbar.outline.set_visible(False)\n",
    "cax.text(-0.025, 0.4, str(round(vmin,2)), ha='right', va='center', transform=cax.transAxes,\n",
    "         fontsize=7,fontname='Arial');\n",
    "cax.text(1.025, 0.4, str(round(vmax,2)), ha='left', va='center', transform=cax.transAxes,\n",
    "         fontsize=7,fontname='Arial');\n",
    "#\n",
    "plt.imshow(im)\n",
    "plt.axis('off')\n",
    "# plt.title('Unimodal–transmodal\\nRSFC gradient 1',fontsize=10)\n",
    "plt.tight_layout()\n",
    "plt.savefig(figuredir + 'Parcellated_MDTB_RestGradient' + str(i+1) + '_cmap.png',dpi=300)"
   ]
  },
  {
   "cell_type": "markdown",
   "id": "known-butler",
   "metadata": {},
   "source": [
    "# Myelin map"
   ]
  },
  {
   "cell_type": "code",
   "execution_count": 7,
   "id": "advisory-hours",
   "metadata": {},
   "outputs": [
    {
     "data": {
      "image/png": "[encoded data removed]",
      "text/plain": [
       "<Figure size 126x126 with 1 Axes>"
      ]
     },
     "metadata": {
      "needs_background": "light"
     },
     "output_type": "display_data"
    }
   ],
   "source": [
    "myelin_map_64k = np.loadtxt('../processed_data/MyelinMapParcellated_v1.csv',delimiter=',')\n",
    "myelin_map = np.zeros((nParcels,))\n",
    "for roi in range(nParcels):\n",
    "    roi_ind = np.where(glasser==roi+1)[0]\n",
    "    myelin_map[roi] = np.mean(myelin_map_64k[roi_ind])\n",
    "if not os.path.exists(figuredir + 'Parcellated_MyelinMap.png'):\n",
    "    tmp = np.hstack((myelin_map[180:],myelin_map[:180]))\n",
    "#     tmp = stats.zscore(tmp)\n",
    "    wbplot.pscalar(figuredir + 'Parcellated_MyelinMap.png',tmp,cmap='magma')\n",
    "    \n",
    "\n",
    "####\n",
    "plt.figure(figsize=(1.75,1.75))\n",
    "ax = plt.subplot(111)\n",
    "im = img.imread(figuredir + 'Parcellated_MyelinMap.png') \n",
    "plt.imshow(im)\n",
    "plt.axis('off')\n",
    "plt.title('Myelin map\\n(T1w/T2w)',fontsize=10,fontname='Arial')\n",
    "#\n",
    "vmin, vmax = np.min(myelin_map), np.max(myelin_map)\n",
    "cnorm = clrs.Normalize(vmin=vmin, vmax=vmax)  # only important for tick placing\n",
    "cmap = plt.get_cmap('magma')\n",
    "cax = ax.inset_axes([0.44, 0.48, 0.12, 0.07])\n",
    "cbar = colorbar.ColorbarBase(\n",
    "    cax, cmap=cmap, norm=cnorm, orientation='horizontal')\n",
    "cbar.set_ticks([-2, 2])  # don't need to do this since we're going to hide them\n",
    "cax.get_xaxis().set_tick_params(length=0, pad=-2)\n",
    "cbar.set_ticklabels([])\n",
    "cbar.outline.set_visible(False)\n",
    "cax.text(-0.025, 0.4, str(round(vmin,2)), ha='right', va='center', transform=cax.transAxes,\n",
    "         fontsize=7,fontname='Arial');\n",
    "cax.text(1.025, 0.4, str(round(vmax,2)), ha='left', va='center', transform=cax.transAxes,\n",
    "         fontsize=7,fontname='Arial');\n",
    "#\n",
    "plt.tight_layout()\n",
    "plt.savefig(figuredir + 'Parcellated_MyelinMap_cmap.png',dpi=300)"
   ]
  },
  {
   "cell_type": "markdown",
   "id": "important-fairy",
   "metadata": {},
   "source": [
    "# Representational dimensionality panel"
   ]
  },
  {
   "cell_type": "code",
   "execution_count": 9,
   "id": "hawaiian-shipping",
   "metadata": {},
   "outputs": [
    {
     "data": {
      "image/png": "[encoded data removed]",
      "text/plain": [
       "<Figure size 126x126 with 1 Axes>"
      ]
     },
     "metadata": {
      "needs_background": "light"
     },
     "output_type": "display_data"
    }
   ],
   "source": [
    "if not os.path.exists(figuredir + 'Parcellated_TaskDimensionality_cosine.png'):\n",
    "    tmp = np.hstack((avg_dim[180:],avg_dim[:180]))\n",
    "#     tmp = stats.zscore(tmp)\n",
    "    wbplot.pscalar(figuredir + 'Parcellated_TaskDimensionality_cosine.png',tmp,cmap='magma')\n",
    "\n",
    "####\n",
    "plt.figure(figsize=(1.75,1.75))\n",
    "ax = plt.subplot(111)\n",
    "im = img.imread(figuredir + 'Parcellated_TaskDimensionality_cosine.png') \n",
    "plt.imshow(im)\n",
    "plt.axis('off')\n",
    "plt.title('Representational\\ndimensionality',fontsize=10,fontname='Arial')\n",
    "#\n",
    "vmin, vmax = np.min(avg_dim), np.max(avg_dim)\n",
    "cnorm = clrs.Normalize(vmin=vmin, vmax=vmax)  # only important for tick placing\n",
    "cmap = plt.get_cmap('magma')\n",
    "cax = ax.inset_axes([0.44, 0.48, 0.12, 0.07])\n",
    "cbar = colorbar.ColorbarBase(\n",
    "    cax, cmap=cmap, norm=cnorm, orientation='horizontal')\n",
    "cbar.set_ticks([-2, 2])  # don't need to do this since we're going to hide them\n",
    "cax.get_xaxis().set_tick_params(length=0, pad=-2)\n",
    "cbar.set_ticklabels([])\n",
    "cbar.outline.set_visible(False)\n",
    "cax.text(-0.025, 0.4, str(round(vmin,2)), ha='right', va='center', transform=cax.transAxes,\n",
    "         fontsize=7,fontname='Arial');\n",
    "cax.text(1.025, 0.4, str(round(vmax,2)), ha='left', va='center', transform=cax.transAxes,\n",
    "         fontsize=7,fontname='Arial');\n",
    "#\n",
    "plt.tight_layout()\n",
    "plt.savefig(figuredir + 'Parcellated_TaskDimensionality_cosine_cmp.png',dpi=300)\n",
    "\n",
    "\n",
    "\n"
   ]
  },
  {
   "cell_type": "markdown",
   "id": "marked-facing",
   "metadata": {},
   "source": [
    "# Multi-task decoding panel"
   ]
  },
  {
   "cell_type": "code",
   "execution_count": 12,
   "id": "another-domestic",
   "metadata": {},
   "outputs": [
    {
     "name": "stdout",
     "output_type": "stream",
     "text": [
      "Correlation between decoding and rep dim: rho = 0.9378665758879934 | p = 1.2262777752701216e-166\n"
     ]
    },
    {
     "data": {
      "image/png": "[encoded data removed]",
      "text/plain": [
       "<Figure size 126x126 with 1 Axes>"
      ]
     },
     "metadata": {
      "needs_background": "light"
     },
     "output_type": "display_data"
    }
   ],
   "source": [
    "decod = 'cosine'\n",
    "## Load data\n",
    "parcel_decoding = {}\n",
    "\n",
    "h5f = h5py.File('../processed_data/analysis3/analysis3_decoding_cosine_allsubjs.h5','r')\n",
    "tmp = h5f['data'][:]\n",
    "parcel_decoding[decod] = np.mean(tmp,axis=0)\n",
    "h5f.close()\n",
    "    \n",
    "if not os.path.exists(figuredir + 'Parcellated_TaskDecoding_cosine.png'):\n",
    "    tmp = np.hstack((parcel_decoding[decod][180:],parcel_decoding[decod][:180]))\n",
    "    wbplot.pscalar(figuredir + 'Parcellated_TaskDecoding_cosine.png',tmp,cmap='magma')\n",
    "        \n",
    "    \n",
    "plt.figure(figsize=(1.75,1.75))\n",
    "ax = plt.subplot(1,1,1)\n",
    "decod = 'cosine'\n",
    "im = img.imread(figuredir + 'Parcellated_TaskDecoding_' + decod + '.png') \n",
    "plt.imshow(im)\n",
    "plt.axis('off')\n",
    "plt.title('Multi-task decoding\\naccuracies',fontsize=10)\n",
    "#\n",
    "vmin, vmax = np.min(parcel_decoding[decod]), np.max(parcel_decoding[decod])\n",
    "cnorm = clrs.Normalize(vmin=vmin, vmax=vmax)  # only important for tick placing\n",
    "cmap = plt.get_cmap('magma')\n",
    "cax = ax.inset_axes([0.44, 0.48, 0.12, 0.07])\n",
    "cbar = colorbar.ColorbarBase(\n",
    "    cax, cmap=cmap, norm=cnorm, orientation='horizontal')\n",
    "cbar.set_ticks([-2, 2])  # don't need to do this since we're going to hide them\n",
    "cax.get_xaxis().set_tick_params(length=0, pad=-2)\n",
    "cbar.set_ticklabels([])\n",
    "cbar.outline.set_visible(False)\n",
    "cax.text(-0.025, 0.4, str(round(vmin,2)), ha='right', va='center', transform=cax.transAxes,\n",
    "         fontsize=7,fontname='Arial');\n",
    "cax.text(1.025, 0.4, str(round(vmax,2)), ha='left', va='center', transform=cax.transAxes,\n",
    "         fontsize=7,fontname='Arial');\n",
    "\n",
    "plt.tight_layout()\n",
    "\n",
    "rho, p = stats.pearsonr(parcel_decoding[decod], avg_dim)\n",
    "print('Correlation between decoding and rep dim: rho =', rho, '| p =', p)\n",
    "plt.savefig(figuredir + 'MultiTaskDecodingMap.png',dpi=300)"
   ]
  },
  {
   "cell_type": "markdown",
   "id": "5409fece-53db-4992-a261-72f1d12f1164",
   "metadata": {},
   "source": [
    "# Brain smash multi-task decoding and rep dim"
   ]
  },
  {
   "cell_type": "code",
   "execution_count": 25,
   "id": "e9e051c2-fde6-47d8-88a3-9f61cd895f55",
   "metadata": {
    "tags": []
   },
   "outputs": [],
   "source": [
    "np.warnings.filterwarnings('ignore', category=np.VisibleDeprecationWarning)\n",
    "n_surrogates = 1000\n",
    "geo_dist_rh = np.loadtxt('../processed_data/RightParcelGeodesicDistmat.txt')\n",
    "geo_dist_lh = np.loadtxt('../processed_data/LeftParcelGeodesicDistmat.txt')\n",
    "base = Base(avg_dim[:180],geo_dist_lh)\n",
    "surrogates_lh = base(n=n_surrogates)\n",
    "base = Base(avg_dim[180:],geo_dist_rh)\n",
    "surrogates_rh = base(n=n_surrogates)\n",
    "surrogates_dim = np.hstack((surrogates_lh,surrogates_rh))"
   ]
  },
  {
   "cell_type": "code",
   "execution_count": 26,
   "id": "ec46d2dd-1efc-42c2-8990-7e4d2603ef77",
   "metadata": {},
   "outputs": [
    {
     "name": "stdout",
     "output_type": "stream",
     "text": [
      "Correlation between decoding and rep dim: r = 0.9378665758879927 | p = 0.0\n"
     ]
    }
   ],
   "source": [
    "surrogate_brainmap_corrs = pearsonr(surrogates_dim,parcel_decoding[decod]).flatten()\n",
    "test_stat = stats.pearsonr(avg_dim,parcel_decoding[decod])[0]\n",
    "pval = nonparp(test_stat, surrogate_brainmap_corrs)\n",
    "r, p = test_stat, pval\n",
    "print('Correlation between decoding and rep dim: r =', r, '| p =', p)\n"
   ]
  },
  {
   "cell_type": "markdown",
   "id": "35967d80-7c70-4fa5-b52a-ec3a36012fd7",
   "metadata": {},
   "source": [
    "# Plot scatter plots"
   ]
  },
  {
   "cell_type": "code",
   "execution_count": 13,
   "id": "instrumental-building",
   "metadata": {
    "tags": []
   },
   "outputs": [
    {
     "data": {
      "image/png": "[encoded data removed]",
      "text/plain": [
       "<Figure size 122.4x108 with 1 Axes>"
      ]
     },
     "metadata": {
      "needs_background": "light"
     },
     "output_type": "display_data"
    },
    {
     "data": {
      "image/png": "[encoded data removed]",
      "text/plain": [
       "<Figure size 122.4x108 with 1 Axes>"
      ]
     },
     "metadata": {
      "needs_background": "light"
     },
     "output_type": "display_data"
    }
   ],
   "source": [
    "plt.figure(figsize=(1.7,1.5))\n",
    "sns.regplot(x=parcellated_gradients[:,0],y=avg_dim,color='k',scatter_kws={'s':6,'color':roiColorsByNetwork})\n",
    "plt.ylabel('Rep. dim.',fontsize=10)\n",
    "plt.xlabel('RSFC gradient 1',fontsize=10)\n",
    "# plt.title('',fontsize=30)\n",
    "plt.xticks(fontsize=7)\n",
    "plt.yticks(fontsize=7)\n",
    "plt.xlim([-3.5,4.75])\n",
    "rho, p = stats.pearsonr(parcellated_gradients[:,0],avg_dim)\n",
    "rho = round(rho,2)\n",
    "p = round(p,2)\n",
    "plt.annotate(r'$r$'+ ' = ' + str(rho),\n",
    "             xy=(0.18,0.8),fontsize=8,xycoords='axes fraction')\n",
    "plt.tight_layout()\n",
    "sns.despine()\n",
    "plt.savefig(figuredir + 'ScatterPlot_DimensionalityXGradient1.pdf',transparent=True)\n",
    "\n",
    "#\n",
    "#\n",
    "plt.figure(figsize=(1.7,1.5))\n",
    "ax = sns.regplot(x=myelin_map,y=avg_dim,color='k',scatter_kws={'s':6,'color':roiColorsByNetwork})\n",
    "plt.ylabel('Rep. dim.',fontsize=10)\n",
    "plt.xlabel('Myelin map',fontsize=10)\n",
    "# plt.title('',fontsize=30)\n",
    "plt.xticks(fontsize=7)\n",
    "# plt.yticks([0.25,.5,.75],['','',''])\n",
    "plt.yticks(fontsize=7)\n",
    "plt.xlim([1.05,1.65])\n",
    "rho, p = stats.pearsonr(myelin_map,avg_dim)\n",
    "rho = round(rho,2)\n",
    "p = round(p,2)\n",
    "plt.annotate(r'$r$'+ ' = ' + str(rho),\n",
    "             xy=(0.05,.8),fontsize=8,xycoords='axes fraction')\n",
    "plt.tight_layout()\n",
    "sns.despine()\n",
    "plt.savefig(figuredir + 'ScatterPlot_DimensionalityXMyelin.pdf',transparent=True)\n",
    "\n",
    "region_seg = np.loadtxt('../processed_data/ra_segregation.txt')\n"
   ]
  },
  {
   "cell_type": "markdown",
   "id": "539463d9-fed8-4eca-8565-769da94721a4",
   "metadata": {},
   "source": [
    "# Brain smash for Dim X RSFC grad and Myelin Map"
   ]
  },
  {
   "cell_type": "code",
   "execution_count": 32,
   "id": "fb7ab28e-bee9-4407-a9b8-363ff1582c15",
   "metadata": {},
   "outputs": [
    {
     "name": "stdout",
     "output_type": "stream",
     "text": [
      "Correlation between rep dim and RSFC Grad 1: r = 0.48776894400319615 | p = 0.0\n",
      "Correlation between rep dim and Myelin map: r = 0.40964529336112343 | p = 0.0\n"
     ]
    }
   ],
   "source": [
    "surrogate_brainmap_corrs = pearsonr(surrogates_dim,parcellated_gradients[:,0]).flatten()\n",
    "test_stat = stats.pearsonr(avg_dim,parcellated_gradients[:,0])[0]\n",
    "pval = nonparp(test_stat, surrogate_brainmap_corrs)\n",
    "r, p = test_stat, pval\n",
    "print('Correlation between rep dim and RSFC Grad 1: r =', r, '| p =', p)\n",
    "\n",
    "surrogate_brainmap_corrs = pearsonr(surrogates_dim,myelin_map).flatten()\n",
    "test_stat = stats.pearsonr(avg_dim,myelin_map)[0]\n",
    "pval = nonparp(test_stat, surrogate_brainmap_corrs)\n",
    "r, p = test_stat, pval\n",
    "print('Correlation between rep dim and Myelin map: r =', r, '| p =', p)\n"
   ]
  },
  {
   "cell_type": "markdown",
   "id": "c5f374b5-227b-443a-8e69-12ed19cc7718",
   "metadata": {},
   "source": [
    "# Compute dimensionality of transmodal versus unimodal regions"
   ]
  },
  {
   "cell_type": "code",
   "execution_count": 14,
   "id": "f4bd4da1-bae8-4878-b33c-95ff835a1b6a",
   "metadata": {},
   "outputs": [
    {
     "name": "stdout",
     "output_type": "stream",
     "text": [
      "Unimodal vs. Transmodal dimensionality: t = 6.654720803644902 | p = 1.0666385311004161e-10\n"
     ]
    },
    {
     "data": {
      "image/png": "[encoded data removed]",
      "text/plain": [
       "<Figure size 108x108 with 1 Axes>"
      ]
     },
     "metadata": {
      "needs_background": "light"
     },
     "output_type": "display_data"
    }
   ],
   "source": [
    "df_dim_avg = df_dim.groupby(['Parcels','Network']).mean().reset_index()\n",
    "\n",
    "df_system = {}\n",
    "df_system['Dimensionality'] = []\n",
    "df_system['System'] = []\n",
    "for parcel in df_dim_avg.Parcels.values:\n",
    "    tmpdf = df_dim_avg.loc[df_dim_avg.Parcels==parcel]\n",
    "    if tmpdf.Network.values[0] in ['VIS1', 'VIS2', 'SMN', 'AUD']:\n",
    "        df_system['Dimensionality'].append(tmpdf.Dimensionality.values[0])\n",
    "        df_system['System'].append('Unimodal')\n",
    "    else:\n",
    "        df_system['Dimensionality'].append(tmpdf.Dimensionality.values[0])\n",
    "        df_system['System'].append('Transmodal')\n",
    "df_system = pd.DataFrame(df_system)\n",
    "\n",
    "plt.figure(figsize=(1.5,1.5))\n",
    "sns.stripplot(x=\"System\",y=\"Dimensionality\",data=df_system,dodge=True,size=3,palette=[color2, color1],zorder=0)\n",
    "ax = sns.boxplot(x=\"System\",y=\"Dimensionality\",data=df_system,sym='',whis=[2.5,97.5],palette=[color2,color1]) #,order=hierarchy_ind,palette=networkpalette)\n",
    "plt.xticks(rotation=-30,fontsize=9);\n",
    "# plt.xlabel('Network',fontsize=10);\n",
    "plt.xlabel(None);\n",
    "plt.ylabel('Rep. dim.',fontsize=10);\n",
    "plt.yticks(fontsize=7)\n",
    "plt.ylim([0,1.3])\n",
    "plt.tight_layout()\n",
    "sns.despine()\n",
    "plt.savefig(figuredir + 'Boxplot_DimensionalityVsSystem.pdf')\n",
    "\n",
    "t, p = stats.ttest_ind(df_system.loc[df_system.System=='Unimodal'].Dimensionality.values,df_system.loc[df_system.System=='Transmodal'].Dimensionality.values)\n",
    "print(\"Unimodal vs. Transmodal dimensionality: t =\", t, \"| p =\", p)"
   ]
  },
  {
   "cell_type": "markdown",
   "id": "random-working",
   "metadata": {},
   "source": [
    "___"
   ]
  },
  {
   "cell_type": "markdown",
   "id": "sublime-couple",
   "metadata": {},
   "source": [
    "# Supplementary analyses"
   ]
  },
  {
   "cell_type": "code",
   "execution_count": 15,
   "id": "940c90b6-813d-4a0f-a84a-8e686709da62",
   "metadata": {},
   "outputs": [
    {
     "data": {
      "image/png": "[encoded data removed]",
      "text/plain": [
       "<Figure size 252x108 with 2 Axes>"
      ]
     },
     "metadata": {
      "needs_background": "light"
     },
     "output_type": "display_data"
    }
   ],
   "source": [
    "# plt.figure(figsize=(2.5,1.25))\n",
    "plt.figure(figsize=(3.5,1.5))\n",
    "# fig, ax = plt.subplots(figsize=(6, 3))\n",
    "plt.subplot(1,2,1)\n",
    "# sns.regplot(x=parcellated_gradients[:,0],y=avg_dim,color='k',fit_reg=False)\n",
    "sns.regplot(x=parcellated_gradients[:,0],y=parcel_decoding[decod],color='k',scatter_kws={'s':6,'color':roiColorsByNetwork})\n",
    "plt.ylabel('Multi-task\\ndecoding',fontsize=10)\n",
    "plt.xlabel('RSFC gradient 1',fontsize=10)\n",
    "# plt.title('',fontsize=30)\n",
    "plt.xticks(fontsize=7)\n",
    "plt.yticks(fontsize=7)\n",
    "plt.xlim([-3.5,4.75])\n",
    "rho, p = stats.pearsonr(parcellated_gradients[:,0],parcel_decoding[decod])\n",
    "rho = round(rho,2)\n",
    "p = round(p,2)\n",
    "plt.annotate(r'$r$'+ ' = ' + str(rho),\n",
    "             xy=(0.18,0.8),fontsize=8,xycoords='axes fraction')\n",
    "\n",
    "#\n",
    "#\n",
    "# plt.figure(figsize=(1.25,1.25))\n",
    "ax = plt.subplot(1,2,2)\n",
    "\n",
    "# sns.regplot(x=myelin_map,y=avg_dim,color='k',fit_reg=False)\n",
    "ax = sns.regplot(x=myelin_map,y=parcel_decoding[decod],color='k',scatter_kws={'s':6,'color':roiColorsByNetwork})\n",
    "# plt.ylabel('Dim.',fontsize=10)\n",
    "plt.xlabel('Myelin map',fontsize=10)\n",
    "# plt.title('',fontsize=30)\n",
    "plt.xticks(fontsize=7)\n",
    "# plt.yticks([0.25,.5,.75],['','',''])\n",
    "plt.yticks(fontsize=7)\n",
    "plt.xlim([1.05,1.65])\n",
    "rho, p = stats.pearsonr(myelin_map,parcel_decoding[decod])\n",
    "rho = round(rho,2)\n",
    "p = round(p,2)\n",
    "plt.annotate(r'$r$'+ ' = ' + str(rho),\n",
    "             xy=(0.05,.8),fontsize=8,xycoords='axes fraction')\n",
    "plt.tight_layout()\n",
    "sns.despine()\n",
    "# plt.savefig(figuredir + '../SFig_Decodability/ScatterPlot_DecodabilityXMyelinAndGradient1.pdf',transparent=True)\n"
   ]
  },
  {
   "cell_type": "code",
   "execution_count": 13,
   "id": "67c9b7cd-b0b0-435e-8ae6-0bca34f0600f",
   "metadata": {
    "tags": []
   },
   "outputs": [],
   "source": [
    "np.warnings.filterwarnings('ignore', category=np.VisibleDeprecationWarning)\n",
    "n_surrogates = 1000\n",
    "geo_dist_rh = np.loadtxt('../../derivatives/RightParcelGeodesicDistmat.txt')\n",
    "geo_dist_lh = np.loadtxt('../../derivatives/LeftParcelGeodesicDistmat.txt')\n",
    "base = Base(parcel_decoding[decod][:180],geo_dist_lh)\n",
    "surrogates_lh = base(n=n_surrogates)\n",
    "base = Base(parcel_decoding[decod][180:],geo_dist_rh)\n",
    "surrogates_rh = base(n=n_surrogates)\n",
    "surrogates_dec = np.hstack((surrogates_lh,surrogates_rh))"
   ]
  },
  {
   "cell_type": "code",
   "execution_count": 14,
   "id": "8893ccb4-adf8-4232-ae9f-d435af79d75e",
   "metadata": {},
   "outputs": [
    {
     "name": "stdout",
     "output_type": "stream",
     "text": [
      "Correlation between rep dim and RSFC Grad 1: r = 0.5030782037551685 | p = 0.0\n",
      "Correlation between rep dim and Myelin map: r = 0.43334010304638726 | p = 0.0\n"
     ]
    }
   ],
   "source": [
    "surrogate_brainmap_corrs = pearsonr(surrogates_dec,parcellated_gradients[:,0]).flatten()\n",
    "test_stat = stats.pearsonr(parcel_decoding[decod],parcellated_gradients[:,0])[0]\n",
    "pval = nonparp(test_stat, surrogate_brainmap_corrs)\n",
    "r, p = test_stat, pval\n",
    "print('Correlation between rep dim and RSFC Grad 1: r =', r, '| p =', p)\n",
    "\n",
    "surrogate_brainmap_corrs = pearsonr(surrogates_dec,myelin_map).flatten()\n",
    "test_stat = stats.pearsonr(parcel_decoding[decod],myelin_map)[0]\n",
    "pval = nonparp(test_stat, surrogate_brainmap_corrs)\n",
    "r, p = test_stat, pval\n",
    "print('Correlation between rep dim and Myelin map: r =', r, '| p =', p)\n"
   ]
  },
  {
   "cell_type": "markdown",
   "id": "c513f6cb-bf36-4217-a4a4-c86551d5db0b",
   "metadata": {},
   "source": [
    "# Correct for parcel size -- representational dimensionality"
   ]
  },
  {
   "cell_type": "code",
   "execution_count": 16,
   "id": "b83fe88a-cf71-428d-8f7a-da91001a00ba",
   "metadata": {},
   "outputs": [
    {
     "name": "stdout",
     "output_type": "stream",
     "text": [
      "Correlation between parcel size and representational dimensionality | r = 0.4394788177934563 | p= 1.9659541027603583e-18\n"
     ]
    }
   ],
   "source": [
    "from sklearn.linear_model import LinearRegression\n",
    "\n",
    "parcel_size = []\n",
    "for roi in range(nParcels):\n",
    "    parcel_size.append(len(np.where(glasser==roi+1)[0]))\n",
    "parcel_size = np.asarray(parcel_size)\n",
    "\n",
    "X = parcel_size.copy()\n",
    "X.shape = (len(X),1)\n",
    "y = avg_dim.copy()\n",
    "y.shape = (len(y),1)\n",
    "LinReg = LinearRegression()\n",
    "LinReg.fit(X,y)\n",
    "\n",
    "resid_avgdim = y - LinReg.predict(X)\n",
    "resid_avgdim = resid_avgdim.reshape(-1)\n",
    "\n",
    "r, p = stats.pearsonr(parcel_size, avg_dim)\n",
    "print('Correlation between parcel size and representational dimensionality | r =', r, '| p=', p)"
   ]
  },
  {
   "cell_type": "code",
   "execution_count": 17,
   "id": "878e9a69-3f49-4b81-9fd4-51c2d6a0e1c2",
   "metadata": {},
   "outputs": [
    {
     "data": {
      "image/png": "[encoded data removed]",
      "text/plain": [
       "<Figure size 252x108 with 2 Axes>"
      ]
     },
     "metadata": {
      "needs_background": "light"
     },
     "output_type": "display_data"
    }
   ],
   "source": [
    "plt.figure(figsize=(3.5,1.5))\n",
    "plt.subplot(1,2,1)\n",
    "sns.regplot(x=parcellated_gradients[:,0],y=resid_avgdim,color='k',scatter_kws={'s':6,'color':roiColorsByNetwork})\n",
    "plt.ylabel('Representational\\ndimensionality',fontsize=10)\n",
    "plt.xlabel('RSFC gradient 1',fontsize=10)\n",
    "# plt.title('',fontsize=30)\n",
    "plt.xticks(fontsize=7)\n",
    "plt.yticks(fontsize=7)\n",
    "plt.xlim([-3.5,4.75])\n",
    "rho, p = stats.pearsonr(parcellated_gradients[:,0],resid_avgdim)\n",
    "rho = round(rho,2)\n",
    "p = round(p,2)\n",
    "plt.annotate(r'$r$'+ ' = ' + str(rho),\n",
    "             xy=(0.18,0.8),fontsize=8,xycoords='axes fraction')\n",
    "\n",
    "#\n",
    "#\n",
    "# plt.figure(figsize=(1.25,1.25))\n",
    "ax = plt.subplot(1,2,2)\n",
    "\n",
    "ax = sns.regplot(x=myelin_map,y=resid_avgdim,color='k',scatter_kws={'s':6,'color':roiColorsByNetwork})\n",
    "plt.xlabel('Myelin map',fontsize=10)\n",
    "plt.xticks(fontsize=7)\n",
    "plt.yticks(fontsize=7)\n",
    "plt.xlim([1.05,1.65])\n",
    "rho, p = stats.pearsonr(myelin_map,resid_avgdim)\n",
    "rho = round(rho,2)\n",
    "p = round(p,2)\n",
    "plt.annotate(r'$r$'+ ' = ' + str(rho),\n",
    "             xy=(0.05,.8),fontsize=8,xycoords='axes fraction')\n",
    "plt.tight_layout()\n",
    "sns.despine()\n",
    "# plt.savefig(figuredir + '../SFig_Decodability/ScatterPlot_RepDimXMyelinAndGradient1_RemoveParcelSizeCovariate.pdf',transparent=True)\n"
   ]
  },
  {
   "cell_type": "code",
   "execution_count": 34,
   "id": "4924cedb-039e-4075-80ea-59d62e01da6b",
   "metadata": {
    "tags": []
   },
   "outputs": [],
   "source": [
    "np.warnings.filterwarnings('ignore', category=np.VisibleDeprecationWarning)\n",
    "n_surrogates = 1000\n",
    "geo_dist_rh = np.loadtxt('../../derivatives/RightParcelGeodesicDistmat.txt')\n",
    "geo_dist_lh = np.loadtxt('../../derivatives/LeftParcelGeodesicDistmat.txt')\n",
    "base = Base(resid_avgdim[:180],geo_dist_lh)\n",
    "surrogates_lh = base(n=n_surrogates)\n",
    "base = Base(resid_avgdim[180:],geo_dist_rh)\n",
    "surrogates_rh = base(n=n_surrogates)\n",
    "surrogates_dim_control = np.hstack((surrogates_lh,surrogates_rh))"
   ]
  },
  {
   "cell_type": "code",
   "execution_count": 35,
   "id": "417bfc92-1d26-4784-b2fa-9a487f6062a0",
   "metadata": {},
   "outputs": [
    {
     "name": "stdout",
     "output_type": "stream",
     "text": [
      "Correlation between rep dim and RSFC Grad 1: r = 0.4226057529807609 | p = 0.0\n",
      "Correlation between rep dim and Myelin map: r = 0.33158757541196443 | p = 0.0\n"
     ]
    }
   ],
   "source": [
    "surrogate_brainmap_corrs = pearsonr(surrogates_dim_control,parcellated_gradients[:,0]).flatten()\n",
    "test_stat = stats.pearsonr(resid_avgdim,parcellated_gradients[:,0])[0]\n",
    "pval = nonparp(test_stat, surrogate_brainmap_corrs)\n",
    "r, p = test_stat, pval\n",
    "print('Correlation between rep dim and RSFC Grad 1: r =', r, '| p =', p)\n",
    "\n",
    "surrogate_brainmap_corrs = pearsonr(surrogates_dim_control,myelin_map).flatten()\n",
    "test_stat = stats.pearsonr(resid_avgdim,myelin_map)[0]\n",
    "pval = nonparp(test_stat, surrogate_brainmap_corrs)\n",
    "r, p = test_stat, pval\n",
    "print('Correlation between rep dim and Myelin map: r =', r, '| p =', p)\n"
   ]
  },
  {
   "cell_type": "markdown",
   "id": "8cf50f48-6803-460d-b498-2a47c116fae7",
   "metadata": {},
   "source": [
    "# Correct for parcel size -- multi-task decoding"
   ]
  },
  {
   "cell_type": "code",
   "execution_count": 18,
   "id": "23313957-2570-4acb-9454-2dbf47f9e930",
   "metadata": {},
   "outputs": [
    {
     "name": "stdout",
     "output_type": "stream",
     "text": [
      "Correlation between parcel size and representational dimensionality | r = 0.45170247747930264 | p= 1.6798302365363507e-19\n"
     ]
    }
   ],
   "source": [
    "from sklearn.linear_model import LinearRegression\n",
    "\n",
    "parcel_size = []\n",
    "for roi in range(nParcels):\n",
    "    parcel_size.append(len(np.where(glasser==roi+1)[0]))\n",
    "parcel_size = np.asarray(parcel_size)\n",
    "\n",
    "X = parcel_size.copy()\n",
    "X.shape = (len(X),1)\n",
    "y = parcel_decoding[decod].copy()\n",
    "y.shape = (len(y),1)\n",
    "LinReg = LinearRegression()\n",
    "LinReg.fit(X,y)\n",
    "\n",
    "resid_dec = y - LinReg.predict(X)\n",
    "resid_dec = resid_dec.reshape(-1)\n",
    "\n",
    "\n",
    "r, p = stats.pearsonr(parcel_size, parcel_decoding[decod])\n",
    "print('Correlation between parcel size and representational dimensionality | r =', r, '| p=', p)"
   ]
  },
  {
   "cell_type": "code",
   "execution_count": 19,
   "id": "1634388d-60e1-408b-8545-5d85bc2bb8a7",
   "metadata": {},
   "outputs": [
    {
     "data": {
      "image/png": "[encoded data removed]",
      "text/plain": [
       "<Figure size 252x108 with 2 Axes>"
      ]
     },
     "metadata": {
      "needs_background": "light"
     },
     "output_type": "display_data"
    }
   ],
   "source": [
    "plt.figure(figsize=(3.5,1.5))\n",
    "plt.subplot(1,2,1)\n",
    "sns.regplot(x=parcellated_gradients[:,0],y=resid_dec,color='k',scatter_kws={'s':6,'color':roiColorsByNetwork})\n",
    "plt.ylabel('Multi-task\\ndecoding',fontsize=10)\n",
    "plt.xlabel('RSFC gradient 1',fontsize=10)\n",
    "plt.xticks(fontsize=7)\n",
    "plt.yticks(fontsize=7)\n",
    "plt.xlim([-3.5,4.75])\n",
    "rho, p = stats.pearsonr(parcellated_gradients[:,0],resid_dec)\n",
    "rho = round(rho,2)\n",
    "p = round(p,2)\n",
    "plt.annotate(r'$r$'+ ' = ' + str(rho),\n",
    "             xy=(0.18,0.8),fontsize=8,xycoords='axes fraction')\n",
    "\n",
    "#\n",
    "#\n",
    "ax = plt.subplot(1,2,2)\n",
    "\n",
    "ax = sns.regplot(x=myelin_map,y=resid_dec,color='k',scatter_kws={'s':6,'color':roiColorsByNetwork})\n",
    "plt.xlabel('Myelin map',fontsize=10)\n",
    "plt.xticks(fontsize=7)\n",
    "plt.yticks(fontsize=7)\n",
    "plt.xlim([1.05,1.65])\n",
    "rho, p = stats.pearsonr(myelin_map,resid_dec)\n",
    "rho = round(rho,2)\n",
    "p = round(p,2)\n",
    "plt.annotate(r'$r$'+ ' = ' + str(rho),\n",
    "             xy=(0.05,.8),fontsize=8,xycoords='axes fraction')\n",
    "plt.tight_layout()\n",
    "sns.despine()\n",
    "\n",
    "# plt.savefig(figuredir + '../SFig_Decodability/ScatterPlot_DecodingXMyelinAndGradient1_RemoveParcelSizeCovariate.pdf',transparent=True)\n"
   ]
  },
  {
   "cell_type": "code",
   "execution_count": 53,
   "id": "d23d2f83-8639-474d-959f-5c251146eea6",
   "metadata": {
    "tags": []
   },
   "outputs": [],
   "source": [
    "np.warnings.filterwarnings('ignore', category=np.VisibleDeprecationWarning)\n",
    "n_surrogates = 1000\n",
    "geo_dist_rh = np.loadtxt('../../derivatives/RightParcelGeodesicDistmat.txt')\n",
    "geo_dist_lh = np.loadtxt('../../derivatives/LeftParcelGeodesicDistmat.txt')\n",
    "base = Base(resid_dec[:180],geo_dist_lh)\n",
    "surrogates_lh = base(n=n_surrogates)\n",
    "base = Base(resid_dec[180:],geo_dist_rh)\n",
    "surrogates_rh = base(n=n_surrogates)\n",
    "surrogates_dec_control = np.hstack((surrogates_lh,surrogates_rh))"
   ]
  },
  {
   "cell_type": "code",
   "execution_count": 35,
   "id": "944712bb-4015-4065-8cf8-5ecd23891b11",
   "metadata": {},
   "outputs": [
    {
     "name": "stdout",
     "output_type": "stream",
     "text": [
      "Correlation between rep dim and RSFC Grad 1: r = 0.4226057529807609 | p = 0.0\n",
      "Correlation between rep dim and Myelin map: r = 0.33158757541196443 | p = 0.0\n"
     ]
    }
   ],
   "source": [
    "surrogate_brainmap_corrs = pearsonr(surrogates_dec_control,parcellated_gradients[:,0]).flatten()\n",
    "test_stat = stats.pearsonr(resid_dec,parcellated_gradients[:,0])[0]\n",
    "pval = nonparp(test_stat, surrogate_brainmap_corrs)\n",
    "r, p = test_stat, pval\n",
    "print('Correlation between rep dim and RSFC Grad 1: r =', r, '| p =', p)\n",
    "\n",
    "surrogate_brainmap_corrs = pearsonr(surrogates_dec_control,myelin_map).flatten()\n",
    "test_stat = stats.pearsonr(resid_dec,myelin_map)[0]\n",
    "pval = nonparp(test_stat, surrogate_brainmap_corrs)\n",
    "r, p = test_stat, pval\n",
    "print('Correlation between rep dim and Myelin map: r =', r, '| p =', p)\n"
   ]
  }
 ],
 "metadata": {
  "kernelspec": {
   "display_name": "Python 3 (ipykernel)",
   "language": "python",
   "name": "python3"
  },
  "language_info": {
   "codemirror_mode": {
    "name": "ipython",
    "version": 3
   },
   "file_extension": ".py",
   "mimetype": "text/x-python",
   "name": "python",
   "nbconvert_exporter": "python",
   "pygments_lexer": "ipython3",
   "version": "3.9.12"
  }
 },
 "nbformat": 4,
 "nbformat_minor": 5
}
