{
 "cells": [
  {
   "cell_type": "markdown",
   "id": "02121b23-fc8e-4c69-8acf-3a72541bc031",
   "metadata": {
    "tags": []
   },
   "source": [
    "# Code for generating Figure 6 from derivative data\n",
    "\n",
    "#### Raw code for generating derivative data is in \n",
    "`analysis5_model_traindat1dat2_richVsLazyLearning.py`\n",
    "#### Batch script is in:\n",
    "`analysis5_batch.sh`, line 35\n",
    "\n",
    "#### Example command (within batch)\n",
    "\n",
    "`python analysis5_model_traindat1dat2_richVsLazyLearning.py --weight_init 1.0 --bias_init 0 --nhidden 500 --normalize --cuda --outfilename analysis5_run${SLURM_ARRAY_TASK_ID}`\n",
    "\n",
    "Note that weight_init needs to be varied according to parameters reported in Methods (0.2 to 2.0, in 0.2 increments)\n",
    "\n",
    "Note that raw code is intended for use on a local Yale cluster, but is included in this repository for completeness"
   ]
  },
  {
   "cell_type": "code",
   "execution_count": 1,
   "id": "treated-ecuador",
   "metadata": {},
   "outputs": [],
   "source": [
    "import numpy as np\n",
    "import nibabel as nib\n",
    "import scipy.stats as stats\n",
    "import matplotlib.pyplot as plt\n",
    "import seaborn as sns\n",
    "%matplotlib inline\n",
    "import nilearn.plotting as plotting\n",
    "from importlib import reload\n",
    "import wbplot\n",
    "import warnings\n",
    "warnings.simplefilter(action='ignore', category=FutureWarning)\n",
    "import pandas as pd\n",
    "import matplotlib.image as img \n",
    "import os\n",
    "import h5py\n",
    "import matplotlib.colors as clrs\n",
    "from matplotlib import colorbar\n",
    "plt.rcParams['font.sans-serif'] = \"Arial\"\n",
    "from sklearn.preprocessing import PolynomialFeatures\n",
    "import statsmodels.api as sm\n",
    "import statsmodels.sandbox.stats.multicomp as mc"
   ]
  },
  {
   "cell_type": "markdown",
   "id": "coated-morocco",
   "metadata": {},
   "source": [
    "#### Set up basic parameters"
   ]
  },
  {
   "cell_type": "code",
   "execution_count": 2,
   "id": "subtle-walter",
   "metadata": {
    "scrolled": true
   },
   "outputs": [],
   "source": [
    "figuredir = '../figures/Fig6/'\n",
    "if not os.path.exists(figuredir): os.makedirs(figuredir)\n",
    "\n",
    "networkdef = np.loadtxt('cortex_parcel_network_assignments.txt')\n",
    "# need to subtract one to make it compatible for python indices\n",
    "indsort = np.loadtxt('cortex_community_order.txt',dtype=int) - 1 \n",
    "indsort.shape = (len(indsort),1)\n",
    "\n",
    "# network mappings for final partition set\n",
    "networkmappings = {'fpn':7, 'vis1':1, 'vis2':2, 'smn':3, 'aud':8, 'lan':6, 'dan':5, 'con':4, 'dmn':9, \n",
    "                   'pmulti':10, 'none1':11, 'none2':12}\n",
    "networks = networkmappings.keys()\n",
    "\n",
    "xticks = {}\n",
    "reorderednetworkaffil = networkdef[indsort]\n",
    "for net in networks:\n",
    "    netNum = networkmappings[net]\n",
    "    netind = np.where(reorderednetworkaffil==netNum)[0]\n",
    "    tick = np.max(netind)\n",
    "    xticks[tick] = net\n",
    "\n",
    "## General parameters/variables\n",
    "nParcels = 360\n",
    "\n",
    "sortednets = np.sort(list(xticks.keys()))\n",
    "orderednetworks = []\n",
    "for net in sortednets: orderednetworks.append(xticks[net])\n",
    "    \n",
    "networkpalette = ['royalblue','slateblue','paleturquoise','darkorchid','limegreen',\n",
    "                  'lightseagreen','yellow','orchid','r','peru','orange','olivedrab']\n",
    "networkpalette = np.asarray(networkpalette)\n",
    "parcel_network_palette = []\n",
    "for roi in range(nParcels): parcel_network_palette.append(networkpalette[int(networkdef[roi]-1)])\n",
    "\n",
    "OrderedNetworks = ['VIS1','VIS2','SMN','CON','DAN','LAN','FPN','AUD','DMN','PMM','VMM','ORA']\n",
    "\n",
    "glasserfilename = 'Q1-Q6_RelatedParcellation210.LR.CorticalAreas_dil_Colors.32k_fs_RL.dlabel.nii'\n",
    "glasser = np.squeeze(nib.load(glasserfilename).get_fdata())\n",
    "\n",
    "#### split up sensorimotor from association network color palettes\n",
    "color1, color2 = sns.color_palette(palette='Pastel1')[1], sns.color_palette(palette='Pastel1')[0]\n",
    "associationnets = ['con','dan','lan','fpn','dmn','pmulti','none1','none2']\n",
    "sensorimotornets = ['vis1','vis2','smn','aud']\n",
    "\n",
    "roi_id = np.zeros((nParcels,))\n",
    "tmp = {}\n",
    "netcount = 0\n",
    "for network in networkmappings:\n",
    "    net = np.where(networkdef==networkmappings[network])[0]\n",
    "    for roi in net:\n",
    "        if network in associationnets:\n",
    "            tmp[roi] = color1 #'r'\n",
    "            roi_id[roi] = -1\n",
    "        else:\n",
    "            tmp[roi] = color2 #'b'\n",
    "            roi_id[roi] = 1\n",
    "    netcount += 1\n",
    "    \n",
    "roiColorsByNetwork = []\n",
    "for roi in range(len(networkdef)):\n",
    "    roiColorsByNetwork.append(tmp[roi])\n",
    "    \n",
    "    \n",
    "subIDs = ['02','03','04','06','08','09','10','12','14','15','18','20','22','25','27','29','31','17','19','21','24','26','28','30']\n",
    "sub_with_rest = ['02','03','06','08','10','12','14','18','20','22','24','25','26','27','28','29','30','31'] "
   ]
  },
  {
   "cell_type": "markdown",
   "id": "green-induction",
   "metadata": {},
   "source": [
    "# Visualize input and output regions"
   ]
  },
  {
   "cell_type": "code",
   "execution_count": 3,
   "id": "least-present",
   "metadata": {},
   "outputs": [
    {
     "name": "stdout",
     "output_type": "stream",
     "text": [
      "Similarity between V1 and input RSM (0.6095873684001054, 2.4079535546003772e-206)\n",
      "Similarity between M1 and output RSM (0.7198705049175375, 4e-323)\n"
     ]
    },
    {
     "data": {
      "image/png": "[encoded data removed]",
      "text/plain": [
       "<Figure size 72x72 with 1 Axes>"
      ]
     },
     "metadata": {},
     "output_type": "display_data"
    },
    {
     "data": {
      "image/png": "[encoded data removed]",
      "text/plain": [
       "<Figure size 72x72 with 1 Axes>"
      ]
     },
     "metadata": {},
     "output_type": "display_data"
    },
    {
     "data": {
      "image/png": "[encoded data removed]",
      "text/plain": [
       "<Figure size 72x72 with 1 Axes>"
      ]
     },
     "metadata": {},
     "output_type": "display_data"
    },
    {
     "data": {
      "image/png": "[encoded data removed]",
      "text/plain": [
       "<Figure size 72x72 with 1 Axes>"
      ]
     },
     "metadata": {},
     "output_type": "display_data"
    }
   ],
   "source": [
    "parcellated_gradients = np.loadtxt('../processed_data/analysis1/analysis1_restFC_gradients.csv')\n",
    "\n",
    "h5f = h5py.File('../processed_data/analysis1/analysis1_regional_rdms_cosine_allsubjs.h5','r')\n",
    "rsms_subj = h5f['data'][:].copy()\n",
    "h5f.close()\n",
    "# Average across subjects\n",
    "rsms_avg = np.mean(rsms_subj,axis=1)\n",
    "\n",
    "in_ind = np.where(parcellated_gradients[:,1]==np.min(parcellated_gradients[:,1]))[0][0]\n",
    "out_ind = np.where(parcellated_gradients[:,1]==np.max(parcellated_gradients[:,1]))[0][0]\n",
    "\n",
    "in_rsm = rsms_avg[in_ind,:,:]\n",
    "out_rsm = rsms_avg[out_ind,:,:]\n",
    "\n",
    "vmin, vmax = np.min([in_rsm,out_rsm]), np.max([in_rsm,out_rsm])\n",
    "\n",
    "plt.figure(figsize=(1,1))\n",
    "ax = sns.heatmap(in_rsm,square=True,vmin=vmin,vmax=vmax,center=0,cmap='bwr',cbar=False,cbar_kws={'fraction':0.046})\n",
    "ax.invert_yaxis()\n",
    "plt.xticks([])\n",
    "plt.yticks([])\n",
    "plt.title('Input\\nRSM',fontsize=8)\n",
    "plt.tight_layout()\n",
    "plt.savefig(figuredir + 'InputRSM.pdf',transparent=True)\n",
    "\n",
    "plt.figure(figsize=(1,1))\n",
    "ax = sns.heatmap(out_rsm,square=True,vmin=vmin,vmax=vmax,center=0,cmap='bwr',cbar=False,cbar_kws={'fraction':0.046})\n",
    "ax.invert_yaxis()\n",
    "plt.xticks([])\n",
    "plt.yticks([])\n",
    "plt.title('Output\\nRSM',fontsize=8)\n",
    "plt.tight_layout()\n",
    "plt.savefig(figuredir + 'OutputRSM.pdf',transparent=True)\n",
    "\n",
    "\n",
    "\n",
    "#####\n",
    "# Plot on surface\n",
    "tmp_vertex64k = np.zeros((len(glasser),))\n",
    "in_ind_64 = np.where(glasser==in_ind+1)[0]\n",
    "out_ind_64 = np.where(glasser==out_ind+1)[0]\n",
    "tmp_vertex64k[in_ind_64] = -1\n",
    "tmp_vertex64k[out_ind_64] = 1\n",
    "tmpfilename = figuredir + 'InputOutputHierarchicalRegions'\n",
    "if not os.path.exists(tmpfilename + '.dscalar.nii'):\n",
    "    np.savetxt(tmpfilename + '.csv', tmp_vertex64k, fmt='%s')\n",
    "    wb_file = tmpfilename + '.dscalar.nii'\n",
    "    wb_command = 'wb_command -cifti-convert -from-text ' + tmpfilename + '.csv ' + glasserfilename + ' ' + wb_file + ' -reset-scalars'\n",
    "    os.system(wb_command)\n",
    "    os.remove(tmpfilename + '.csv')\n",
    "\n",
    "\n",
    "##### Plot Right V1 and Right M1\n",
    "r_v1 = 180\n",
    "r_m1 = 187\n",
    "tmp_vertex64k = np.zeros((len(glasser),))\n",
    "in_ind_64 = np.where(glasser==r_v1+1)[0]\n",
    "out_ind_64 = np.where(glasser==r_m1+1)[0]\n",
    "tmp_vertex64k[in_ind_64] = -1\n",
    "tmp_vertex64k[out_ind_64] = 1\n",
    "tmpfilename = '../figures/SFig6/V1andM1Regions'\n",
    "if not os.path.exists(tmpfilename + '.dscalar.nii'):\n",
    "    np.savetxt(tmpfilename + '.csv', tmp_vertex64k, fmt='%s')\n",
    "    wb_file = tmpfilename + '.dscalar.nii'\n",
    "    wb_command = 'wb_command -cifti-convert -from-text ' + tmpfilename + '.csv ' + glasserfilename + ' ' + wb_file + ' -reset-scalars'\n",
    "    os.system(wb_command)\n",
    "    os.remove(tmpfilename + '.csv')\n",
    "    \n",
    "    \n",
    "v1_rsm = rsms_avg[r_v1,:,:]\n",
    "m1_rsm = rsms_avg[r_m1,:,:]\n",
    "\n",
    "vmin, vmax = np.min([v1_rsm,m1_rsm]), np.max([v1_rsm,m1_rsm])\n",
    "\n",
    "plt.figure(figsize=(1,1))\n",
    "ax = sns.heatmap(v1_rsm,square=True,vmin=vmin,vmax=vmax,center=0,cmap='bwr',cbar=False,cbar_kws={'fraction':0.046})\n",
    "ax.invert_yaxis()\n",
    "plt.xticks([])\n",
    "plt.yticks([])\n",
    "plt.title('V1\\nRSM',fontsize=8)\n",
    "plt.tight_layout()\n",
    "plt.savefig('../figures/SFig6/V1_RSM.pdf',transparent=True)\n",
    "\n",
    "plt.figure(figsize=(1,1))\n",
    "ax = sns.heatmap(m1_rsm,square=True,vmin=vmin,vmax=vmax,center=0,cmap='bwr',cbar=False,cbar_kws={'fraction':0.046})\n",
    "ax.invert_yaxis()\n",
    "plt.xticks([])\n",
    "plt.yticks([])\n",
    "plt.title('M1\\nRSM',fontsize=8)\n",
    "plt.tight_layout()\n",
    "plt.savefig('../figures/SFig6/M1_RSM.pdf',transparent=True)\n",
    "\n",
    "print('Similarity between V1 and input RSM', stats.pearsonr(v1_rsm.reshape(-1),in_rsm.reshape(-1)))\n",
    "print('Similarity between M1 and output RSM', stats.pearsonr(m1_rsm.reshape(-1),out_rsm.reshape(-1)))\n",
    "\n"
   ]
  },
  {
   "cell_type": "markdown",
   "id": "latter-motel",
   "metadata": {},
   "source": [
    "# Model params to load data from"
   ]
  },
  {
   "cell_type": "code",
   "execution_count": 4,
   "id": "d88d639e-a016-4b78-b58a-39d3b67abaa6",
   "metadata": {},
   "outputs": [],
   "source": [
    "nhidden = 500\n",
    "nlayers = 10\n",
    "outfilename = 'analysis5_run'\n",
    "bias_init = '_biasinit0.0'\n",
    "relu = ''\n",
    "optim = '_optimadam'\n",
    "normalize = '_normalize'\n",
    "weight_init_range = [0.2, 0.4, 0.6, 0.8, 1.0, 1.2, 1.4, 1.6, 1.8, 2.0]\n",
    "untied = ''\n",
    "nsimulations = 20"
   ]
  },
  {
   "cell_type": "markdown",
   "id": "dangerous-prince",
   "metadata": {},
   "source": [
    "# Load dimensionality of different initial weight conditions"
   ]
  },
  {
   "cell_type": "code",
   "execution_count": 9,
   "id": "changed-boost",
   "metadata": {
    "tags": []
   },
   "outputs": [],
   "source": [
    "df_dim_group = pd.DataFrame()\n",
    "for weightinit in weight_init_range:\n",
    "    for sim in range(1,nsimulations+1):\n",
    "        suffix = '_weightinit' + str(weightinit) + bias_init + optim + relu + normalize\n",
    "        df_dim = pd.read_csv('../processed_data/analysis5_tiedweights/' + outfilename + str(sim) + '_data1and2_' + str(nhidden) + 'hidden_' + str(nlayers) + 'layers' + suffix + '_mse' + untied + '.csv')\n",
    "\n",
    "        tmpdf = df_dim.groupby('Layer',as_index=False).mean()\n",
    "        tmpdf.insert(loc=0,column='WeightInit', value=np.repeat(weightinit,12))\n",
    "        tmpdf.insert(loc=0,column='Simulation', value=np.repeat(sim,12))\n",
    "\n",
    "        df_dim_group = df_dim_group.append(tmpdf)\n",
    "        # Insert new columns\n",
    "        \n",
    "\n",
    "        \n",
    "del df_dim_group['Subject'], df_dim_group['Unnamed: 0']\n",
    "        \n",
    "    \n"
   ]
  },
  {
   "cell_type": "markdown",
   "id": "painful-cameroon",
   "metadata": {},
   "source": [
    "# Plot dimensionality for weight initializations"
   ]
  },
  {
   "cell_type": "code",
   "execution_count": 10,
   "id": "protected-morgan",
   "metadata": {},
   "outputs": [
    {
     "data": {
      "image/png": "[encoded data removed]",
      "text/plain": [
       "<Figure size 468x108 with 6 Axes>"
      ]
     },
     "metadata": {
      "needs_background": "light"
     },
     "output_type": "display_data"
    }
   ],
   "source": [
    "weights_to_plot = [0.2, 0.4, 0.6, 0.8, 1.0, 1.2]\n",
    "plt.figure(figsize=(6.5,1.5))\n",
    "\n",
    "i = 1\n",
    "for weight in weights_to_plot:\n",
    "    plt.subplot(1,6,i)\n",
    "    tmpdf = df_dim_group.loc[df_dim_group.WeightInit==weight]\n",
    "    # Need to reset layer values so plotted correctly with regplot\n",
    "    layers = tmpdf.Layer.values - 1\n",
    "    del tmpdf['Layer']\n",
    "    tmpdf.insert(loc=0,column='Layer', value=layers)\n",
    "    sns.stripplot(x=\"Layer\",y=\"Dimensionality\",data=tmpdf,palette='magma',size=2)\n",
    "    sns.regplot(x=\"Layer\",y=\"Dimensionality\",data=tmpdf,color='k',order=2,scatter=False)\n",
    "    plt.xlabel('ANN layer',fontsize=10)\n",
    "    plt.title('Weight init.: ' + str(weight),fontsize=9)\n",
    "    if i == 1:\n",
    "        plt.yticks([0.2,.4,.6], [.2, .4, .6],fontsize=8)\n",
    "        plt.ylabel('Dimensionality',fontsize=10)      \n",
    "    else:\n",
    "        plt.yticks([.2,.4,.6],[])\n",
    "        plt.ylabel(None)\n",
    "    plt.xticks(np.arange(0,12,2),np.arange(1,13,2),fontsize=8)\n",
    "\n",
    "    plt.ylim([0.17,0.63])\n",
    "    i += 1\n",
    "sns.despine()\n",
    "plt.tight_layout()\n",
    "plt.savefig(figuredir + 'DimensionalityXLayerWeightInitialization.pdf',transparent=True)\n",
    "\n",
    "              \n"
   ]
  },
  {
   "cell_type": "markdown",
   "id": "damaged-premium",
   "metadata": {},
   "source": [
    "#### For each 2nd order fit, evaluate the quadratic coeffcient magnitude and the r-squared"
   ]
  },
  {
   "cell_type": "code",
   "execution_count": 12,
   "id": "banned-cattle",
   "metadata": {},
   "outputs": [
    {
     "data": {
      "image/png": "[encoded data removed]",
      "text/plain": [
       "<Figure size 158.4x129.6 with 2 Axes>"
      ]
     },
     "metadata": {
      "needs_background": "light"
     },
     "output_type": "display_data"
    }
   ],
   "source": [
    "df_fit  = {}\n",
    "df_fit['R-squared'] = []\n",
    "df_fit['Quadratic coef'] = []\n",
    "df_fit['Weight init.'] = []\n",
    "for weight in weight_init_range:\n",
    "\n",
    "    tmpdf = df_dim_group.loc[df_dim_group.WeightInit==weight]\n",
    "\n",
    "    # \n",
    "    x = tmpdf.Layer.values\n",
    "    x.shape = (len(x),1)\n",
    "    y = tmpdf.Dimensionality.values\n",
    "    ## 2nd order model\n",
    "    polynomial_features = PolynomialFeatures(degree=2)\n",
    "    xp2 = polynomial_features.fit_transform(x)\n",
    "\n",
    "    #fit regression model\n",
    "    model2 = sm.OLS(y, xp2).fit()\n",
    "\n",
    "    df_fit['R-squared'].append(model2.rsquared)\n",
    "    df_fit['Quadratic coef'].append(model2.params[2])\n",
    "    df_fit['Weight init.'].append(weight)\n",
    "df_fit = pd.DataFrame(df_fit)\n",
    "\n",
    "color3 = sns.color_palette('Set2')[2]\n",
    "plt.figure(figsize=(2.2,1.8))\n",
    "ax = sns.scatterplot(x=\"Weight init.\", y=\"Quadratic coef\", data=df_fit, hue=\"R-squared\", size=\"R-squared\",sizes=(0,75),alpha=1, label='2nd coef.',palette='magma_r',legend=False,linewidth=3,color=color3)\n",
    "ax.set_xlabel('Initialization (s.d.)',fontsize=9)\n",
    "ax.set_ylabel('Quadratic coef', color='k',fontsize=9)\n",
    "plt.plot(weight_init_range,np.repeat(0,len(weight_init_range)),'--',color='grey')\n",
    "ax.tick_params(axis='y', labelcolor='k')\n",
    "ax.set_xticks(np.arange(0.2,2.0,0.8))\n",
    "ax.set_ylim([-0.005,0.014])\n",
    "ax.set_xlim([0.1,2.0])\n",
    "ax.set_title('Quadratic fit',fontsize=10)\n",
    "ax.tick_params(labelsize=8)\n",
    "#\n",
    "norm = plt.Normalize(df_fit['R-squared'].min(), df_fit['R-squared'].max())\n",
    "smap = plt.cm.ScalarMappable(cmap=\"magma_r\", norm=norm)\n",
    "smap.set_array([])\n",
    "cax = ax.figure.colorbar(smap)\n",
    "cax.ax.tick_params(labelsize=7)\n",
    "cax.ax.set_ylabel('R-squared', fontsize=8);\n",
    "plt.tight_layout()\n",
    "sns.despine()\n",
    "plt.savefig(figuredir + '2ndCoefRsquaredXInitializationSD.pdf',transparent=True)\n"
   ]
  },
  {
   "cell_type": "markdown",
   "id": "e5f42048-18b1-49b5-ad73-ea8967e7c04e",
   "metadata": {},
   "source": [
    "# Compare model produced RSMs with hierarchical empirical RSMs\n",
    "\n",
    "#### Load in empirical RSMs and compute each region's representational similarity with each layer's representational similarity"
   ]
  },
  {
   "cell_type": "code",
   "execution_count": 17,
   "id": "boolean-michigan",
   "metadata": {},
   "outputs": [],
   "source": [
    "# Load in ANN RSMs    \n",
    "h5f = h5py.File('../processed_data/analysis5_tiedweights/analysis5_ann_representations.h5','r')\n",
    "rsms_model = h5f['data'][:].copy()\n",
    "h5f.close()\n",
    "\n",
    "# Load emiprical RSMs\n",
    "h5f = h5py.File('../processed_data/analysis1/analysis1_regional_rdms_cosine_allsubjs.h5','r')\n",
    "rsms_subj = h5f['data'][:].copy()\n",
    "h5f.close()\n",
    "rsms_empirical = np.mean(np.arctanh(rsms_subj),axis=1)\n",
    "\n",
    "# Load RSM gradients\n",
    "rsm_gradients = np.loadtxt('../processed_data/analysis1/analysis1_cosine_3components_cosineRSMs_representational_gradients.csv')\n",
    "df_dim = pd.read_csv('../processed_data/analysis1/analysis1_parcel_cosine_dimensionality.csv')\n",
    "# Load empirical dimensionality\n",
    "avg_dim = []\n",
    "for i in range(nParcels):\n",
    "    roi_ind = np.where(glasser==roi+1)[0]\n",
    "    avg_dim.append(df_dim.Dimensionality[df_dim.Parcels==i+1].mean())\n",
    "avg_dim = np.asarray(avg_dim)\n",
    "\n",
    "nParcels = rsms_empirical.shape[0]\n",
    "numlayers = rsms_model.shape[2]\n",
    "ntasks = 45\n",
    "triu_ind = np.triu_indices(ntasks,k=0)\n",
    "\n",
    "ann_brain_rsm_match = np.zeros((nParcels,numlayers,nsimulations,len(weight_init_range)))\n",
    "for sim in range(nsimulations):\n",
    "    for weight_ind in range(len(weight_init_range)):\n",
    "        for layer in range(numlayers):\n",
    "            for parcel in range(nParcels):\n",
    "                ann_brain_rsm_match[parcel,layer,sim,weight_ind] = np.dot(rsms_empirical[parcel][triu_ind],rsms_model[weight_ind,sim,layer][triu_ind])/(np.linalg.norm(rsms_empirical[parcel][triu_ind])*np.linalg.norm(rsms_model[weight_ind,sim,layer][triu_ind]))\n",
    "\n",
    "                \n"
   ]
  },
  {
   "cell_type": "code",
   "execution_count": 18,
   "id": "activated-scene",
   "metadata": {},
   "outputs": [
    {
     "name": "stdout",
     "output_type": "stream",
     "text": [
      "Rich cosine: 0.42076094887638954\n",
      "Lazy cosine: 0.3692121053830424\n",
      "Average cosine difference: 0.051548843493347124\n",
      "\t t = 15.283829518708066 | p = 2.1364011618110006e-35\n"
     ]
    },
    {
     "data": {
      "image/png": "[encoded data removed]",
      "text/plain": [
       "<Figure size 172.8x136.8 with 1 Axes>"
      ]
     },
     "metadata": {
      "needs_background": "light"
     },
     "output_type": "display_data"
    },
    {
     "data": {
      "image/png": "[encoded data removed]",
      "text/plain": [
       "<Figure size 151.2x136.8 with 1 Axes>"
      ]
     },
     "metadata": {
      "needs_background": "light"
     },
     "output_type": "display_data"
    },
    {
     "data": {
      "image/png": "[encoded data removed]",
      "text/plain": [
       "<Figure size 93.6x136.8 with 1 Axes>"
      ]
     },
     "metadata": {
      "needs_background": "light"
     },
     "output_type": "display_data"
    }
   ],
   "source": [
    "n_hierarchy_bins = 10\n",
    "\n",
    "bin_stepsize = 36\n",
    "sorted_hierarchy = sorted(range(len(rsm_gradients[:,0])), key=lambda k: rsm_gradients[:,0][k])\n",
    "\n",
    "df_annbrainsimilarity = {}\n",
    "df_annbrainsimilarity['Layer'] = []\n",
    "df_annbrainsimilarity['Weight initialization'] = []\n",
    "df_annbrainsimilarity['Representational similarity'] = []\n",
    "df_annbrainsimilarity['Simulation'] = []\n",
    "\n",
    "binstart = 0\n",
    "for bins in range(n_hierarchy_bins):\n",
    "    bin_ind = sorted_hierarchy[binstart:binstart+bin_stepsize]\n",
    "    for sim in range(nsimulations):\n",
    "        rich_ind = np.where(np.asarray(weight_init_range)<1.0)[0]\n",
    "        lazy_ind = np.where(np.asarray(weight_init_range)>1.0)[0]\n",
    "        df_annbrainsimilarity['Layer'].append(bins)\n",
    "        df_annbrainsimilarity['Simulation'].append(sim)\n",
    "        df_annbrainsimilarity['Weight initialization'].append('Rich')\n",
    "        binned_avg_rich = np.mean(ann_brain_rsm_match[bin_ind],axis=0)\n",
    "        df_annbrainsimilarity['Representational similarity'].append(np.mean(binned_avg_rich[bins+1,sim,rich_ind],axis=0))\n",
    "        #\n",
    "        df_annbrainsimilarity['Layer'].append(bins)\n",
    "        df_annbrainsimilarity['Simulation'].append(sim)\n",
    "        df_annbrainsimilarity['Weight initialization'].append('Lazy')\n",
    "        binned_avg_lazy = np.mean(ann_brain_rsm_match[bin_ind],axis=0)\n",
    "        df_annbrainsimilarity['Representational similarity'].append(np.mean(binned_avg_lazy[bins+1,sim,lazy_ind],axis=0))   \n",
    "        \n",
    "    binstart += bin_stepsize\n",
    "df_annbrainsimilarity = pd.DataFrame(df_annbrainsimilarity)\n",
    "\n",
    "\n",
    "df_similaritydiff = {}\n",
    "df_similaritydiff['Layer'] = []\n",
    "df_similaritydiff['Representational similarity'] = []\n",
    "df_similaritydiff['Simulation'] = []\n",
    "\n",
    "binstart = 0\n",
    "for bins in range(n_hierarchy_bins):\n",
    "    bin_ind = sorted_hierarchy[binstart:binstart+bin_stepsize]\n",
    "    for sim in range(nsimulations):\n",
    "        rich_ind = np.where(np.asarray(weight_init_range)<1.0)[0]\n",
    "        lazy_ind = np.where(np.asarray(weight_init_range)>1.0)[0]\n",
    "        df_similaritydiff['Layer'].append(bins)\n",
    "        df_similaritydiff['Simulation'].append(sim)\n",
    "        binned_avg = np.mean(ann_brain_rsm_match[bin_ind],axis=0)\n",
    "        diff = np.mean(binned_avg[bins+1,sim,rich_ind],axis=0) - np.mean(binned_avg[bins+1,sim,lazy_ind],axis=0)\n",
    "        df_similaritydiff['Representational similarity'].append(diff)\n",
    "        \n",
    "    binstart += bin_stepsize\n",
    "df_similaritydiff = pd.DataFrame(df_similaritydiff)\n",
    "\n",
    "plt.figure(figsize=(2.4,1.9))\n",
    "ax = sns.boxplot(x=\"Layer\",y=\"Representational similarity\",hue=\"Weight initialization\",data=df_annbrainsimilarity,palette='Set2',sym='',whis=[2.5,97.5],dodge=True,linewidth=0.5)\n",
    "sns.stripplot(x=\"Layer\",y=\"Representational similarity\",hue=\"Weight initialization\",data=df_annbrainsimilarity,dodge=True,palette='Set2',size=2,zorder=0)\n",
    "handles, labels = ax.get_legend_handles_labels()\n",
    "l = plt.legend(handles[-2:], labels[-2:], loc=1, borderaxespad=0.2, prop={'size': 8})\n",
    "plt.xlabel('ANN layers/Gradient bins',fontsize=9)\n",
    "plt.ylabel('Cosine similarity', fontsize=9)\n",
    "plt.xticks(np.arange(10),np.arange(1,11),fontsize=8)\n",
    "plt.yticks(fontsize=8)\n",
    "plt.title('Similarity of empirical and\\nmodel representations', fontsize=10)\n",
    "plt.tight_layout()\n",
    "sns.despine()\n",
    "# plt.savefig(figuredir + 'RichVsLazyLearningBrainANNComparison.pdf',transparent=True)\n",
    "\n",
    "plt.figure(figsize=(2.1,1.9))\n",
    "ax = sns.boxplot(x=\"Layer\",y=\"Representational similarity\",data=df_similaritydiff,palette='magma',sym='',whis=[2.5,97.5],dodge=True,linewidth=0.5)\n",
    "sns.stripplot(x=\"Layer\",y=\"Representational similarity\",data=df_similaritydiff,dodge=True,palette='magma',size=2,zorder=0)\n",
    "plt.plot(np.arange(-0.5,10.5),np.repeat(0,11),linestyle='--',color='gray',linewidth=1)\n",
    "# handles, labels = ax.get_legend_handles_labels()\n",
    "# l = plt.legend(handles[-2:], labels[-2:], loc=1, borderaxespad=0.2, prop={'size': 8})\n",
    "plt.xlabel('ANN layers/Gradient bins',fontsize=9)\n",
    "plt.ylabel('Rich – lazy\\nCosine difference', fontsize=9)\n",
    "plt.xticks(np.arange(10),np.arange(1,11),fontsize=8)\n",
    "plt.yticks(fontsize=8)\n",
    "plt.title('Similarity to fMRI\\ndata by layer', fontsize=10)\n",
    "plt.tight_layout()\n",
    "sns.despine()\n",
    "plt.savefig(figuredir + 'RichVsLazyLearningBrainANNComparison_Difference.pdf',transparent=True)\n",
    "\n",
    "plt.figure(figsize=(1.3,1.9))\n",
    "ax = sns.boxplot(x=\"Weight initialization\",y=\"Representational similarity\",data=df_annbrainsimilarity,palette='magma',sym='',whis=[2.5,97.5],dodge=True,linewidth=0.5)\n",
    "sns.stripplot(x=\"Weight initialization\",y=\"Representational similarity\",data=df_annbrainsimilarity,dodge=True,palette='magma',size=2,zorder=0)\n",
    "# handles, labels = ax.get_legend_handles_labels()\n",
    "# l = plt.legend(handles[-2:], labels[-2:], loc=1, borderaxespad=0.2, prop={'size': 8})\n",
    "plt.xlabel('Weight init.',fontsize=9)\n",
    "plt.ylabel('Cosine', fontsize=9)\n",
    "plt.xticks(fontsize=8)\n",
    "plt.yticks(fontsize=8)\n",
    "plt.ylim([0.25,0.7])\n",
    "plt.title('Similarity to\\nfMRI data', fontsize=10)\n",
    "plt.tight_layout()\n",
    "sns.despine()\n",
    "plt.savefig(figuredir + 'RichVsLazyLearning2Comparison.pdf',transparent=True)\n",
    "\n",
    "### Run t-test\n",
    "tmpdf_rich = df_annbrainsimilarity.loc[df_annbrainsimilarity[\"Weight initialization\"]=='Rich']\n",
    "tmpdf_lazy = df_annbrainsimilarity.loc[df_annbrainsimilarity[\"Weight initialization\"]=='Lazy']\n",
    "t, p = stats.ttest_rel(tmpdf_rich['Representational similarity'].values,tmpdf_lazy['Representational similarity'].values)\n",
    "print('Rich cosine:', np.mean(tmpdf_rich['Representational similarity'].values))\n",
    "print('Lazy cosine:', np.mean(tmpdf_lazy['Representational similarity'].values))\n",
    "print('Average cosine difference:', np.mean(tmpdf_rich['Representational similarity'].values - tmpdf_lazy['Representational similarity'].values))\n",
    "print('\\t t =', t, '| p =', p)"
   ]
  },
  {
   "cell_type": "markdown",
   "id": "infrared-advocate",
   "metadata": {},
   "source": [
    "#### Statistical testing of rich v lazy learning at each layer"
   ]
  },
  {
   "cell_type": "code",
   "execution_count": 19,
   "id": "cubic-recording",
   "metadata": {},
   "outputs": [
    {
     "name": "stdout",
     "output_type": "stream",
     "text": [
      "Layer 1 t = -45.74071912135192 | q = 1.8705605575046076e-20\n",
      "Layer 2 t = -9.418745256525293 | q = 1.520682585072393e-08\n",
      "Layer 3 t = 7.78211850383055 | q = 2.5194707956154994e-07\n",
      "Layer 4 t = 31.319197288247697 | q = 1.0142196451798307e-17\n",
      "Layer 5 t = 35.61508850145678 | q = 1.0481971426582001e-18\n",
      "Layer 6 t = 56.64955871646611 | q = 1.1778261672904734e-21\n",
      "Layer 7 t = 44.0222622057001 | q = 2.741126722082862e-20\n",
      "Layer 8 t = 45.460325958056416 | q = 1.8705605575046076e-20\n",
      "Layer 9 t = 43.53071579023923 | q = 2.8218628568223123e-20\n",
      "Layer 10 t = 53.187435382838764 | q = 1.937785613679133e-21\n"
     ]
    }
   ],
   "source": [
    "ts, ps = [], []\n",
    "for layer in np.unique(df_annbrainsimilarity.Layer.values):\n",
    "    tmpdf = df_annbrainsimilarity.loc[df_annbrainsimilarity.Layer==layer]\n",
    "    tmpdf_rich = tmpdf.loc[tmpdf['Weight initialization']=='Rich']\n",
    "    tmpdf_lazy = tmpdf.loc[tmpdf['Weight initialization']=='Lazy']\n",
    "    t, p = stats.ttest_rel(tmpdf_rich['Representational similarity'].values,tmpdf_lazy['Representational similarity'].values)\n",
    "    ts.append(t)\n",
    "    ps.append(p)\n",
    "\n",
    "h0, qs = mc.fdrcorrection0(ps)\n",
    "\n",
    "for layer in np.unique(df_annbrainsimilarity.Layer.values):\n",
    "    print('Layer', layer+1, 't =', ts[layer], '| q =', qs[layer])"
   ]
  },
  {
   "cell_type": "markdown",
   "id": "dated-intervention",
   "metadata": {},
   "source": [
    "# Visualize the partioning of the Margulies gradients into 10 surface maps"
   ]
  },
  {
   "cell_type": "code",
   "execution_count": 20,
   "id": "beginning-hollow",
   "metadata": {},
   "outputs": [
    {
     "data": {
      "image/png": "[encoded data removed]",
      "text/plain": [
       "<Figure size 144x144 with 1 Axes>"
      ]
     },
     "metadata": {
      "needs_background": "light"
     },
     "output_type": "display_data"
    }
   ],
   "source": [
    "plt.figure(figsize=(2,2))\n",
    "im = img.imread(figuredir + 'GradientBinningROIs.png') \n",
    "plt.imshow(im)\n",
    "plt.axis('off')\n",
    "plt.title('10 Gradient Bins',fontsize=10)\n",
    "plt.tight_layout()\n",
    "plt.savefig(figuredir + 'GradientBinningROIs_Fig.png',dpi=300,transparent=True)"
   ]
  }
 ],
 "metadata": {
  "kernelspec": {
   "display_name": "Python 3 (ipykernel)",
   "language": "python",
   "name": "python3"
  },
  "language_info": {
   "codemirror_mode": {
    "name": "ipython",
    "version": 3
   },
   "file_extension": ".py",
   "mimetype": "text/x-python",
   "name": "python",
   "nbconvert_exporter": "python",
   "pygments_lexer": "ipython3",
   "version": "3.9.12"
  }
 },
 "nbformat": 4,
 "nbformat_minor": 5
}
